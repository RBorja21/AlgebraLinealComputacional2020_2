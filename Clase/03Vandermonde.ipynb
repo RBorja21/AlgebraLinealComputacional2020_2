{
 "cells": [
  {
   "cell_type": "markdown",
   "metadata": {},
   "source": [
    "# Interpolación utilizando la matriz de  Vandermonde"
   ]
  },
  {
   "cell_type": "markdown",
   "metadata": {},
   "source": [
    "En el notebook anterior, trabajamos la idea de aproximar una función continua a un conjunto de datos que conocemos, por medio del **polinomio interpolador en la forma de Lagrange.**\n",
    "\n",
    "Es decir, dado el siguiente problema:\n",
    "> Dados $m+1$ pares $(x_i,y_i)$, el problema consiste en calcular una función $\\Phi=\\Phi(x)$ tal que $\\Phi(x_i)=y_i$ para $i=0,...,m$ donde $y_i$ es alguno de los valores dados.\n",
    "\n",
    "Llegamos a que el polinomio interpolador de Lagrange existe y tiene la siguiente forma: \n",
    "\n",
    "\\begin{equation}\n",
    "\\prod_n(x) = \\sum_{i=0}^n y_i l_i(x) \\qquad \\qquad (1)\n",
    "\\end{equation}\n",
    "donde\n",
    "\\begin{equation}\n",
    "l_i \\in \\mathbb{P}_n: \\qquad l_i(x)=\\prod_{j=0\\\\j\\neq i}^n \\frac{x-x_j}{x_i - x_j} \\qquad i=0,...,n \\qquad \\qquad (2)\n",
    "\\end{equation}\n",
    "\n",
    "A la ecuación (1) se conoce como el **polinomio interpolador en la forma de Lagrange**, mientras que los $l_i(x)$ son los polinomios característicos.\n",
    "\n"
   ]
  },
  {
   "cell_type": "markdown",
   "metadata": {},
   "source": [
    "### `Otro enfoque de atacar este problema de interpolación`  \n",
    "es utilizando la **matriz de Vandermonde.**\n",
    "\n",
    "El procedimiento más básico para determinar los coeficientes $a_0, a_1, \\cdots, a_n $ de un polinomio \n",
    "\n",
    "\\begin{equation}\n",
    "P_n(x) = a_0 + a_1x + a_2x^2 +\\cdots + a_nx^n \\qquad \\qquad (3)\n",
    "\\end{equation}\n",
    "\n",
    "de modo que interpola los $n + 1$ puntos \n",
    "\n",
    "\\begin{equation}\n",
    "(x_0, y_0), (x_1, y_1), \\cdots, (x_n, y_n)\n",
    "\\end{equation}\n",
    "\n",
    "es escribir un sistema lineal de ecuaciones de la siguiente manera:\n",
    "\n",
    "\\begin{array}{crc}\n",
    "P_n(x_0) = y_0 & \\Rightarrow & a_0 + a_1x_0 + a_2x_0^2 + \\cdots + a_{n-1}x_0^{n-1} + a_nx_0^n = y_0 \\\\ \n",
    "P_n(x_1) = y_1 & \\Rightarrow & a_0 + a_1x_1 + a_2x_1^2 + \\cdots + a_{n-1}x_1^{n-1} + a_nx_1^n = y_1 \\\\ \n",
    "\\vdots & \\Rightarrow & \\vdots \\\\\n",
    "P_n(x_n) = y_n & \\Rightarrow & a_0 + a_1x_n + a_2x_n^2 + \\cdots + a_{n-1}x_n^{n-1} + a_nx_n^n = y_n \\\\ \n",
    "\\end{array}\n",
    "\n",
    "o, en forma matricial: \n",
    "\n",
    "\\begin{equation}\n",
    "\\underbrace{\\begin{pmatrix}\n",
    "1 & x_0 & x_0^2 & \\cdots & x_0^{n-1} & x_0^n \\\\\n",
    "1 & x_0 & x_0^2 & \\cdots & x_0^{n-1} & x_0^n \\\\\n",
    "\\vdots  & \\vdots & \\vdots & \\vdots & \\vdots & \\vdots \\\\\n",
    "1 & x_0 & x_0^2 & \\cdots & x_0^{n-1} & x_0^n \\\\\n",
    "1 & x_0 & x_0^2 & \\cdots & x_0^{n-1} & x_0^n \\\\\n",
    "\\end{pmatrix}}_{\\mathbf{V}} \\quad\n",
    "\\underbrace{\\begin{pmatrix}\n",
    "a_0 \\\\\n",
    "a_1 \\\\\n",
    "\\vdots \\\\\n",
    "a_{n-1} \\\\\n",
    "a_n\n",
    "\\end{pmatrix}}_{\\vec{a}} \\quad = \\quad\n",
    "\\underbrace{\\begin{pmatrix}\n",
    "y_0 \\\\\n",
    "y_1 \\\\\n",
    "\\vdots \\\\\n",
    "y_{n-1} \\\\\n",
    "y_n\n",
    "\\end{pmatrix}}_{\\vec{y}}\n",
    "\\end{equation}\n",
    "\n",
    "A la matriz $\\mathbf{V}$ se le llama **matriz de Vandermonde**. \n",
    "\n",
    "Donde $$\\mathbf{V}_{ij}=x_i^j \\qquad \\qquad \\quad (4)$$.\n",
    "\n",
    "Se puede demostrar que $\\mathbf{V}$ es no singular, por lo tanto, se puede resolver el sistema\n",
    "\n",
    "$$\\mathbf{V}\\vec{a}=\\vec{y} \\qquad \\qquad \\quad (5)$$\n",
    "\n",
    "para obtener los coeficientes $\\vec{a}=(a_0, a_1, \\cdots, a_n)$. $\\qquad \\Rightarrow \\qquad$ $\\vec{a}=\\mathbf{V}^{-1}\\vec{y}$"
   ]
  },
  {
   "cell_type": "markdown",
   "metadata": {},
   "source": [
    "# Instalar Special Matrices\n",
    "\n",
    "```julia\n",
    "using Pkg\n",
    "#Instalar SpecialMatrices\n",
    "Pkg.add(\"SpecialMatrices\") #Una sola vez\n",
    "\n",
    "```\n"
   ]
  },
  {
   "cell_type": "markdown",
   "metadata": {},
   "source": [
    "**Special Matrices** es un paquete de Julia para trabajar con tipos de matrices especiales (Frobenius, Hankel, Hilbert, Kahan, ...,  Vandermonde). \n",
    "Este paquete extiende la biblioteca LinearAlgebra con soporte para matrices especiales que se usan en álgebra lineal. "
   ]
  },
  {
   "cell_type": "code",
   "execution_count": null,
   "metadata": {},
   "outputs": [],
   "source": [
    "using SpecialMatrices\n",
    "using Plots\n",
    "# declaramos gr como backend:\n",
    "gr()"
   ]
  },
  {
   "cell_type": "code",
   "execution_count": null,
   "metadata": {},
   "outputs": [],
   "source": [
    "arregloX = collect(-6.0:1:6.0)"
   ]
  },
  {
   "cell_type": "code",
   "execution_count": null,
   "metadata": {},
   "outputs": [],
   "source": [
    " MatrizV01 = Vandermonde(arregloX)"
   ]
  },
  {
   "cell_type": "code",
   "execution_count": null,
   "metadata": {},
   "outputs": [],
   "source": [
    "# i^2 - i^3 para i que recorre todos los valores en arregloX\n",
    "arregloY = [i^2  - i^3 for i in arregloX] "
   ]
  },
  {
   "cell_type": "code",
   "execution_count": null,
   "metadata": {},
   "outputs": [],
   "source": [
    "#Graficos los datos de arregloX y arregloY para ver que distribución presentan. \n",
    "\n",
    "scatter(arregloX, arregloY, \n",
    "        label  = \"Datos a interpolar\", \n",
    "        xlabel = \"X\", \n",
    "        ylabel = \"Y\")"
   ]
  },
  {
   "cell_type": "code",
   "execution_count": null,
   "metadata": {},
   "outputs": [],
   "source": [
    "\"\"\"\n",
    " Resuelve el sistema de ecuación Ax=y descrito en la ecuación (5)\n",
    "\n",
    " Argumentos: \n",
    "     arregloX -- Arreglo que contiene los puntos (x_0, x_1, ..., x_n)\n",
    "     arregloY -- Arreglo que contiene los puntos (y_1, y_2, ..., y_n)\n",
    "\n",
    " Return: \n",
    "    resultado -- Regresa los valores de las a´s (a_0, a_1, .., a_n) \n",
    "                 solución de resolver la ecuación (5)\n",
    "\"\"\"\n",
    "\n",
    "function resuelveSE(arregloX, arregloY)\n",
    "    \n",
    "    #genero la matriz de Vandermonde\n",
    "    mVandermonde = Vandermonde(arregloX) \n",
    "    #Resuelvo el Sis. Ec.\n",
    "    resultado = mVandermonde \\ arregloY\n",
    "    \n",
    "    #Regresa los valores de las a´s (a_0, a_1, ..., a_n)\n",
    "    return resultado\n",
    "end"
   ]
  },
  {
   "cell_type": "code",
   "execution_count": null,
   "metadata": {},
   "outputs": [],
   "source": [
    "\"\"\"\n",
    "  Genera el polinomio más general que interpola los datos, es decir, genera el polinomio\n",
    "  de la ecuación (3)\n",
    "\n",
    " Argumentos: \n",
    "        a -- Son los coeficiontes de las a´s (a_0, a_1, ..., a:n)\n",
    "        c -- Es el arreglo de puntos en X \n",
    "\n",
    " Return: \n",
    " polinomio2 -- Polinomio que interpola los datos. \n",
    "\n",
    "\"\"\"\n",
    "\n",
    "function generaPolinomio(a, c)\n",
    "    \n",
    "    polinomio2 = zeros(length(a))\n",
    "    for i in 1:length(a)\n",
    "        polinomio2 .+= c[i]*a.^(i-1) \n",
    "    end\n",
    "    \n",
    "    return polinomio2\n",
    "end\n",
    "        "
   ]
  },
  {
   "cell_type": "code",
   "execution_count": null,
   "metadata": {},
   "outputs": [],
   "source": [
    "coeficientesAs = resuelveSE(arregloX, arregloY)\n",
    "\n",
    "polinomio01 = generaPolinomio(arregloX, coeficientesAs);"
   ]
  },
  {
   "cell_type": "code",
   "execution_count": null,
   "metadata": {},
   "outputs": [],
   "source": [
    "function Plot04()\n",
    "    plot(arregloX, polinomio01,\n",
    "         linewidth = 3,\n",
    "         linecolor = :red,\n",
    "         label = \"Pol. Interpolador\")\n",
    "    \n",
    "    scatter!(arregloX, arregloY,\n",
    "         markershape = :circle,\n",
    "         markersize = 5,\n",
    "         markercolor = :green,\n",
    "         label=\"Datos\")\n",
    "    \n",
    "  \n",
    "    \n",
    "    title!(\"Interpolación utilizando la \\n Matriz de Vandermonde\")\n",
    "    xlabel!(\"X\")\n",
    "    ylabel!(\"Y\")\n",
    "    \n",
    "end"
   ]
  },
  {
   "cell_type": "code",
   "execution_count": null,
   "metadata": {},
   "outputs": [],
   "source": [
    "Plot04()"
   ]
  },
  {
   "cell_type": "markdown",
   "metadata": {},
   "source": [
    "# Ejercicio 01 \n",
    "\n",
    "- 1. Genera una partición de puntos regularmente espaciados del intervalo $[-5, 5]$ a pasos de $0.1$\n",
    "- 2. Con los puntos generados del inciso anterior denera una distribución de puntos que sigan la siguiente relación $x^2 + sin(x)$\n",
    "- 3. Utiliza las funciones `resuelveSE`, `generaPolinomio`, `Plot04` para interpolar estos puntos creados. Nota: Tendrás que modificar la función `Plot04`para que grafique tus datos y no los creados al inicio del notebook.  "
   ]
  },
  {
   "cell_type": "code",
   "execution_count": null,
   "metadata": {},
   "outputs": [],
   "source": []
  },
  {
   "cell_type": "markdown",
   "metadata": {},
   "source": [
    "# Ejercicio 02 \n",
    "\n",
    "- 1. Genera una función llamada `generaMVandermond` que tenga como argumento la collección de elementos (x_0, x_1, ..., x_n) y regrese la matriz asociada a dicha colección. \n",
    "\n",
    "- 2. Genera una función llamada `resuelveSEMi` que tenga como argumento la colleción de elementos (x_0, x_1, ..., x_n), (y_0, y_1, ..., y_n) y la matriz de Vermonde (que calculaste en el inciso anterior) y que regrese la solución a la ecuación (5), es decir, que regrese las a´s solución (a_0, a_1, ..., a_n)\n",
    "\n",
    "- 3. Genera alguna colección de números (x_0, x_1, ..., x_n), (y_0, y_1, ..., y_n) que sigan alguna districución a tu gusto y comprueba gráficamente que se interpolan al utilizar  tus funciones `generaMVandermond` y `resuelveSEMi`."
   ]
  },
  {
   "cell_type": "code",
   "execution_count": null,
   "metadata": {},
   "outputs": [],
   "source": []
  }
 ],
 "metadata": {
  "@webio": {
   "lastCommId": null,
   "lastKernelId": null
  },
  "kernelspec": {
   "display_name": "Julia 1.3.1",
   "language": "julia",
   "name": "julia-1.3"
  },
  "language_info": {
   "file_extension": ".jl",
   "mimetype": "application/julia",
   "name": "julia",
   "version": "1.3.1"
  }
 },
 "nbformat": 4,
 "nbformat_minor": 2
}
