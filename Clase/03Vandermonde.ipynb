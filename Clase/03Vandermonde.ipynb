{
 "cells": [
  {
   "cell_type": "code",
   "execution_count": 1,
   "metadata": {},
   "outputs": [],
   "source": [
    "using Pkg"
   ]
  },
  {
   "cell_type": "markdown",
   "metadata": {},
   "source": [
    "### Instalar Special Matrices\n",
    "\n",
    "> A Julia package for working with special matrix types.\n",
    "\n",
    "> This package extends the LinearAlgebra library with support for special matrices which are used in linear algebra. Every special matrix has its own type. The full matrix is accessed by the command Matrix(A)."
   ]
  },
  {
   "cell_type": "code",
   "execution_count": 2,
   "metadata": {},
   "outputs": [
    {
     "name": "stdout",
     "output_type": "stream",
     "text": [
      "\u001b[32m\u001b[1m  Updating\u001b[22m\u001b[39m registry at `~/.julia/registries/General`\n",
      "\u001b[32m\u001b[1m  Updating\u001b[22m\u001b[39m git-repo `https://github.com/JuliaRegistries/General.git`\n",
      "\u001b[2K\u001b[?25h[1mFetching:\u001b[22m\u001b[39m [========================================>]  99.9 %0.0 %\u001b[36m\u001b[1mFetching:\u001b[22m\u001b[39m [=====>                                   ]  12.5 %>                              ]  24.7 % [===========>                             ]  26.4 %38.6 % %>               ]  61.5 %==============================>          ]  73.8 %]  86.0 %\u001b[36m\u001b[1mFetching:\u001b[22m\u001b[39m [=======================================> ]  97.3 %\u001b[32m\u001b[1m Resolving\u001b[22m\u001b[39m package versions...\n",
      "\u001b[32m\u001b[1m Installed\u001b[22m\u001b[39m FFTW_jll ──────── v3.3.9+4\n",
      "\u001b[32m\u001b[1m Installed\u001b[22m\u001b[39m SpecialMatrices ─ v1.0.0\n",
      "\u001b[32m\u001b[1m Installed\u001b[22m\u001b[39m MKL_jll ───────── v2019.0.117+2\n",
      "\u001b[32m\u001b[1m Installed\u001b[22m\u001b[39m ZeroMQ_jll ────── v4.3.2+1\n",
      "\u001b[32m\u001b[1m Installed\u001b[22m\u001b[39m Knockout ──────── v0.2.4\n",
      "\u001b[32m\u001b[1m Installed\u001b[22m\u001b[39m DataStructures ── v0.17.10\n",
      "\u001b[32m\u001b[1m Installed\u001b[22m\u001b[39m StatsBase ─────── v0.32.1\n",
      "\u001b[32m\u001b[1m Installed\u001b[22m\u001b[39m GeometryTypes ─── v0.7.10\n",
      "\u001b[32m\u001b[1m Installed\u001b[22m\u001b[39m IntelOpenMP_jll ─ v2018.0.3+0\n",
      "\u001b[32m\u001b[1m Installed\u001b[22m\u001b[39m Parsers ───────── v0.3.12\n",
      "\u001b[32m\u001b[1m Installed\u001b[22m\u001b[39m Conda ─────────── v1.4.1\n",
      "\u001b[32m\u001b[1m Installed\u001b[22m\u001b[39m FFTW ──────────── v1.2.0\n",
      "\u001b[32m\u001b[1m Installed\u001b[22m\u001b[39m Polynomials ───── v0.6.1\n",
      "\u001b[32m\u001b[1m Installed\u001b[22m\u001b[39m PlotUtils ─────── v0.6.3\n",
      "\u001b[32m\u001b[1m Installed\u001b[22m\u001b[39m HTTP ──────────── v0.8.12\n",
      "\u001b[32m\u001b[1m  Updating\u001b[22m\u001b[39m `~/.julia/environments/v1.3/Project.toml`\n",
      " \u001b[90m [928aab9d]\u001b[39m\u001b[92m + SpecialMatrices v1.0.0\u001b[39m\n",
      "\u001b[32m\u001b[1m  Updating\u001b[22m\u001b[39m `~/.julia/environments/v1.3/Manifest.toml`\n",
      " \u001b[90m [621f4979]\u001b[39m\u001b[92m + AbstractFFTs v0.5.0\u001b[39m\n",
      " \u001b[90m [8f4d0f93]\u001b[39m\u001b[93m ↑ Conda v1.3.0 ⇒ v1.4.1\u001b[39m\n",
      " \u001b[90m [864edb3b]\u001b[39m\u001b[93m ↑ DataStructures v0.17.9 ⇒ v0.17.10\u001b[39m\n",
      " \u001b[90m [7a1cc6ca]\u001b[39m\u001b[92m + FFTW v1.2.0\u001b[39m\n",
      " \u001b[90m [f5851436]\u001b[39m\u001b[92m + FFTW_jll v3.3.9+4\u001b[39m\n",
      " \u001b[90m [4d00f742]\u001b[39m\u001b[93m ↑ GeometryTypes v0.7.7 ⇒ v0.7.10\u001b[39m\n",
      " \u001b[90m [cd3eb016]\u001b[39m\u001b[93m ↑ HTTP v0.8.8 ⇒ v0.8.12\u001b[39m\n",
      " \u001b[90m [1d5cc7b8]\u001b[39m\u001b[92m + IntelOpenMP_jll v2018.0.3+0\u001b[39m\n",
      " \u001b[90m [bcebb21b]\u001b[39m\u001b[93m ↑ Knockout v0.2.3 ⇒ v0.2.4\u001b[39m\n",
      " \u001b[90m [856f044c]\u001b[39m\u001b[92m + MKL_jll v2019.0.117+2\u001b[39m\n",
      " \u001b[90m [69de0a69]\u001b[39m\u001b[93m ↑ Parsers v0.3.11 ⇒ v0.3.12\u001b[39m\n",
      " \u001b[90m [995b91a9]\u001b[39m\u001b[93m ↑ PlotUtils v0.6.2 ⇒ v0.6.3\u001b[39m\n",
      " \u001b[90m [f27b6e38]\u001b[39m\u001b[92m + Polynomials v0.6.1\u001b[39m\n",
      " \u001b[90m [928aab9d]\u001b[39m\u001b[92m + SpecialMatrices v1.0.0\u001b[39m\n",
      " \u001b[90m [2913bbd2]\u001b[39m\u001b[93m ↑ StatsBase v0.32.0 ⇒ v0.32.1\u001b[39m\n",
      " \u001b[90m [8f1865be]\u001b[39m\u001b[93m ↑ ZeroMQ_jll v4.3.1+0 ⇒ v4.3.2+1\u001b[39m\n",
      "\u001b[32m\u001b[1m  Building\u001b[22m\u001b[39m Knockout → `~/.julia/packages/Knockout/IP1uR/deps/build.log`\n",
      "\u001b[32m\u001b[1m  Building\u001b[22m\u001b[39m FFTW ────→ `~/.julia/packages/FFTW/qqcBj/deps/build.log`\n",
      "\u001b[32m\u001b[1m  Building\u001b[22m\u001b[39m Conda ───→ `~/.julia/packages/Conda/3rPhK/deps/build.log`\n"
     ]
    }
   ],
   "source": [
    "#Instalar SpecialMatrices\n",
    "Pkg.add(\"SpecialMatrices\") #Una sola vez "
   ]
  },
  {
   "cell_type": "code",
   "execution_count": 1,
   "metadata": {},
   "outputs": [],
   "source": [
    "using SpecialMatrices"
   ]
  },
  {
   "cell_type": "code",
   "execution_count": 2,
   "metadata": {},
   "outputs": [
    {
     "name": "stderr",
     "output_type": "stream",
     "text": [
      "┌ Info: Precompiling Plots [91a5bcdd-55d7-5caf-9e0b-520d859cae80]\n",
      "└ @ Base loading.jl:1273\n"
     ]
    },
    {
     "data": {
      "text/plain": [
       "Plots.GRBackend()"
      ]
     },
     "execution_count": 2,
     "metadata": {},
     "output_type": "execute_result"
    }
   ],
   "source": [
    "using Plots\n",
    "# declaramos gr como backend:\n",
    "gr()"
   ]
  },
  {
   "cell_type": "code",
   "execution_count": 7,
   "metadata": {},
   "outputs": [
    {
     "data": {
      "text/plain": [
       "11-element Array{Float64,1}:\n",
       " -5.0\n",
       " -4.0\n",
       " -3.0\n",
       " -2.0\n",
       " -1.0\n",
       "  0.0\n",
       "  1.0\n",
       "  2.0\n",
       "  3.0\n",
       "  4.0\n",
       "  5.0"
      ]
     },
     "execution_count": 7,
     "metadata": {},
     "output_type": "execute_result"
    }
   ],
   "source": [
    "a = collect(-5.0:1:5.0)"
   ]
  },
  {
   "cell_type": "code",
   "execution_count": 8,
   "metadata": {},
   "outputs": [
    {
     "data": {
      "text/plain": [
       "11×11 Vandermonde{Float64}:\n",
       " 1.0  -5.0  25.0  -125.0  625.0  -3125.0  …       -1.95313e6      9.76563e6\n",
       " 1.0  -4.0  16.0   -64.0  256.0  -1024.0     -262144.0            1.04858e6\n",
       " 1.0  -3.0   9.0   -27.0   81.0   -243.0      -19683.0        59049.0      \n",
       " 1.0  -2.0   4.0    -8.0   16.0    -32.0        -512.0         1024.0      \n",
       " 1.0  -1.0   1.0    -1.0    1.0     -1.0          -1.0            1.0      \n",
       " 1.0   0.0   0.0     0.0    0.0      0.0  …        0.0            0.0      \n",
       " 1.0   1.0   1.0     1.0    1.0      1.0           1.0            1.0      \n",
       " 1.0   2.0   4.0     8.0   16.0     32.0         512.0         1024.0      \n",
       " 1.0   3.0   9.0    27.0   81.0    243.0       19683.0        59049.0      \n",
       " 1.0   4.0  16.0    64.0  256.0   1024.0      262144.0            1.04858e6\n",
       " 1.0   5.0  25.0   125.0  625.0   3125.0  …        1.95313e6      9.76563e6"
      ]
     },
     "execution_count": 8,
     "metadata": {},
     "output_type": "execute_result"
    }
   ],
   "source": [
    " A = Vandermonde(a)"
   ]
  },
  {
   "cell_type": "code",
   "execution_count": 43,
   "metadata": {},
   "outputs": [
    {
     "data": {
      "text/plain": [
       "11-element Array{Float64,1}:\n",
       "  0.28366218546322625\n",
       " -0.6536436208636119 \n",
       " -0.9899924966004454 \n",
       " -0.4161468365471424 \n",
       "  0.5403023058681398 \n",
       "  1.0                \n",
       "  0.5403023058681398 \n",
       " -0.4161468365471424 \n",
       " -0.9899924966004454 \n",
       " -0.6536436208636119 \n",
       "  0.28366218546322625"
      ]
     },
     "execution_count": 43,
     "metadata": {},
     "output_type": "execute_result"
    }
   ],
   "source": [
    "b = [cos(i) for i in a]"
   ]
  },
  {
   "cell_type": "code",
   "execution_count": 44,
   "metadata": {},
   "outputs": [
    {
     "data": {
      "image/svg+xml": [
       "<?xml version=\"1.0\" encoding=\"utf-8\"?>\n",
       "<svg xmlns=\"http://www.w3.org/2000/svg\" xmlns:xlink=\"http://www.w3.org/1999/xlink\" width=\"600\" height=\"400\" viewBox=\"0 0 2400 1600\">\n",
       "<defs>\n",
       "  <clipPath id=\"clip6800\">\n",
       "    <rect x=\"0\" y=\"0\" width=\"2400\" height=\"1600\"/>\n",
       "  </clipPath>\n",
       "</defs>\n",
       "<path clip-path=\"url(#clip6800)\" d=\"\n",
       "M0 1600 L2400 1600 L2400 0 L0 0  Z\n",
       "  \" fill=\"#ffffff\" fill-rule=\"evenodd\" fill-opacity=\"1\"/>\n",
       "<defs>\n",
       "  <clipPath id=\"clip6801\">\n",
       "    <rect x=\"480\" y=\"0\" width=\"1681\" height=\"1600\"/>\n",
       "  </clipPath>\n",
       "</defs>\n",
       "<path clip-path=\"url(#clip6800)\" d=\"\n",
       "M182.008 1487.47 L2352.76 1487.47 L2352.76 47.2441 L182.008 47.2441  Z\n",
       "  \" fill=\"#ffffff\" fill-rule=\"evenodd\" fill-opacity=\"1\"/>\n",
       "<defs>\n",
       "  <clipPath id=\"clip6802\">\n",
       "    <rect x=\"182\" y=\"47\" width=\"2172\" height=\"1441\"/>\n",
       "  </clipPath>\n",
       "</defs>\n",
       "<polyline clip-path=\"url(#clip6802)\" style=\"stroke:#000000; stroke-width:2; stroke-opacity:0.1; fill:none\" points=\"\n",
       "  448.232,1487.47 448.232,47.2441 \n",
       "  \"/>\n",
       "<polyline clip-path=\"url(#clip6802)\" style=\"stroke:#000000; stroke-width:2; stroke-opacity:0.1; fill:none\" points=\"\n",
       "  857.807,1487.47 857.807,47.2441 \n",
       "  \"/>\n",
       "<polyline clip-path=\"url(#clip6802)\" style=\"stroke:#000000; stroke-width:2; stroke-opacity:0.1; fill:none\" points=\"\n",
       "  1267.38,1487.47 1267.38,47.2441 \n",
       "  \"/>\n",
       "<polyline clip-path=\"url(#clip6802)\" style=\"stroke:#000000; stroke-width:2; stroke-opacity:0.1; fill:none\" points=\"\n",
       "  1676.96,1487.47 1676.96,47.2441 \n",
       "  \"/>\n",
       "<polyline clip-path=\"url(#clip6802)\" style=\"stroke:#000000; stroke-width:2; stroke-opacity:0.1; fill:none\" points=\"\n",
       "  2086.53,1487.47 2086.53,47.2441 \n",
       "  \"/>\n",
       "<polyline clip-path=\"url(#clip6802)\" style=\"stroke:#000000; stroke-width:2; stroke-opacity:0.1; fill:none\" points=\"\n",
       "  182.008,1453.55 2352.76,1453.55 \n",
       "  \"/>\n",
       "<polyline clip-path=\"url(#clip6802)\" style=\"stroke:#000000; stroke-width:2; stroke-opacity:0.1; fill:none\" points=\"\n",
       "  182.008,1112.16 2352.76,1112.16 \n",
       "  \"/>\n",
       "<polyline clip-path=\"url(#clip6802)\" style=\"stroke:#000000; stroke-width:2; stroke-opacity:0.1; fill:none\" points=\"\n",
       "  182.008,770.776 2352.76,770.776 \n",
       "  \"/>\n",
       "<polyline clip-path=\"url(#clip6802)\" style=\"stroke:#000000; stroke-width:2; stroke-opacity:0.1; fill:none\" points=\"\n",
       "  182.008,429.391 2352.76,429.391 \n",
       "  \"/>\n",
       "<polyline clip-path=\"url(#clip6802)\" style=\"stroke:#000000; stroke-width:2; stroke-opacity:0.1; fill:none\" points=\"\n",
       "  182.008,88.0053 2352.76,88.0053 \n",
       "  \"/>\n",
       "<polyline clip-path=\"url(#clip6800)\" style=\"stroke:#000000; stroke-width:4; stroke-opacity:1; fill:none\" points=\"\n",
       "  182.008,1487.47 2352.76,1487.47 \n",
       "  \"/>\n",
       "<polyline clip-path=\"url(#clip6800)\" style=\"stroke:#000000; stroke-width:4; stroke-opacity:1; fill:none\" points=\"\n",
       "  182.008,1487.47 182.008,47.2441 \n",
       "  \"/>\n",
       "<polyline clip-path=\"url(#clip6800)\" style=\"stroke:#000000; stroke-width:4; stroke-opacity:1; fill:none\" points=\"\n",
       "  448.232,1487.47 448.232,1470.19 \n",
       "  \"/>\n",
       "<polyline clip-path=\"url(#clip6800)\" style=\"stroke:#000000; stroke-width:4; stroke-opacity:1; fill:none\" points=\"\n",
       "  857.807,1487.47 857.807,1470.19 \n",
       "  \"/>\n",
       "<polyline clip-path=\"url(#clip6800)\" style=\"stroke:#000000; stroke-width:4; stroke-opacity:1; fill:none\" points=\"\n",
       "  1267.38,1487.47 1267.38,1470.19 \n",
       "  \"/>\n",
       "<polyline clip-path=\"url(#clip6800)\" style=\"stroke:#000000; stroke-width:4; stroke-opacity:1; fill:none\" points=\"\n",
       "  1676.96,1487.47 1676.96,1470.19 \n",
       "  \"/>\n",
       "<polyline clip-path=\"url(#clip6800)\" style=\"stroke:#000000; stroke-width:4; stroke-opacity:1; fill:none\" points=\"\n",
       "  2086.53,1487.47 2086.53,1470.19 \n",
       "  \"/>\n",
       "<polyline clip-path=\"url(#clip6800)\" style=\"stroke:#000000; stroke-width:4; stroke-opacity:1; fill:none\" points=\"\n",
       "  182.008,1453.55 208.057,1453.55 \n",
       "  \"/>\n",
       "<polyline clip-path=\"url(#clip6800)\" style=\"stroke:#000000; stroke-width:4; stroke-opacity:1; fill:none\" points=\"\n",
       "  182.008,1112.16 208.057,1112.16 \n",
       "  \"/>\n",
       "<polyline clip-path=\"url(#clip6800)\" style=\"stroke:#000000; stroke-width:4; stroke-opacity:1; fill:none\" points=\"\n",
       "  182.008,770.776 208.057,770.776 \n",
       "  \"/>\n",
       "<polyline clip-path=\"url(#clip6800)\" style=\"stroke:#000000; stroke-width:4; stroke-opacity:1; fill:none\" points=\"\n",
       "  182.008,429.391 208.057,429.391 \n",
       "  \"/>\n",
       "<polyline clip-path=\"url(#clip6800)\" style=\"stroke:#000000; stroke-width:4; stroke-opacity:1; fill:none\" points=\"\n",
       "  182.008,88.0053 208.057,88.0053 \n",
       "  \"/>\n",
       "<g clip-path=\"url(#clip6800)\">\n",
       "<text style=\"fill:#000000; fill-opacity:1; font-family:Arial,Helvetica Neue,Helvetica,sans-serif; font-size:48px; text-anchor:middle;\" transform=\"rotate(0, 448.232, 1541.47)\" x=\"448.232\" y=\"1541.47\">-4</text>\n",
       "</g>\n",
       "<g clip-path=\"url(#clip6800)\">\n",
       "<text style=\"fill:#000000; fill-opacity:1; font-family:Arial,Helvetica Neue,Helvetica,sans-serif; font-size:48px; text-anchor:middle;\" transform=\"rotate(0, 857.807, 1541.47)\" x=\"857.807\" y=\"1541.47\">-2</text>\n",
       "</g>\n",
       "<g clip-path=\"url(#clip6800)\">\n",
       "<text style=\"fill:#000000; fill-opacity:1; font-family:Arial,Helvetica Neue,Helvetica,sans-serif; font-size:48px; text-anchor:middle;\" transform=\"rotate(0, 1267.38, 1541.47)\" x=\"1267.38\" y=\"1541.47\">0</text>\n",
       "</g>\n",
       "<g clip-path=\"url(#clip6800)\">\n",
       "<text style=\"fill:#000000; fill-opacity:1; font-family:Arial,Helvetica Neue,Helvetica,sans-serif; font-size:48px; text-anchor:middle;\" transform=\"rotate(0, 1676.96, 1541.47)\" x=\"1676.96\" y=\"1541.47\">2</text>\n",
       "</g>\n",
       "<g clip-path=\"url(#clip6800)\">\n",
       "<text style=\"fill:#000000; fill-opacity:1; font-family:Arial,Helvetica Neue,Helvetica,sans-serif; font-size:48px; text-anchor:middle;\" transform=\"rotate(0, 2086.53, 1541.47)\" x=\"2086.53\" y=\"1541.47\">4</text>\n",
       "</g>\n",
       "<g clip-path=\"url(#clip6800)\">\n",
       "<text style=\"fill:#000000; fill-opacity:1; font-family:Arial,Helvetica Neue,Helvetica,sans-serif; font-size:48px; text-anchor:end;\" transform=\"rotate(0, 158.008, 1471.05)\" x=\"158.008\" y=\"1471.05\">-1.0</text>\n",
       "</g>\n",
       "<g clip-path=\"url(#clip6800)\">\n",
       "<text style=\"fill:#000000; fill-opacity:1; font-family:Arial,Helvetica Neue,Helvetica,sans-serif; font-size:48px; text-anchor:end;\" transform=\"rotate(0, 158.008, 1129.66)\" x=\"158.008\" y=\"1129.66\">-0.5</text>\n",
       "</g>\n",
       "<g clip-path=\"url(#clip6800)\">\n",
       "<text style=\"fill:#000000; fill-opacity:1; font-family:Arial,Helvetica Neue,Helvetica,sans-serif; font-size:48px; text-anchor:end;\" transform=\"rotate(0, 158.008, 788.276)\" x=\"158.008\" y=\"788.276\">0.0</text>\n",
       "</g>\n",
       "<g clip-path=\"url(#clip6800)\">\n",
       "<text style=\"fill:#000000; fill-opacity:1; font-family:Arial,Helvetica Neue,Helvetica,sans-serif; font-size:48px; text-anchor:end;\" transform=\"rotate(0, 158.008, 446.891)\" x=\"158.008\" y=\"446.891\">0.5</text>\n",
       "</g>\n",
       "<g clip-path=\"url(#clip6800)\">\n",
       "<text style=\"fill:#000000; fill-opacity:1; font-family:Arial,Helvetica Neue,Helvetica,sans-serif; font-size:48px; text-anchor:end;\" transform=\"rotate(0, 158.008, 105.505)\" x=\"158.008\" y=\"105.505\">1.0</text>\n",
       "</g>\n",
       "<circle clip-path=\"url(#clip6802)\" style=\"fill:#000000; stroke:none; fill-opacity:1\" cx=\"243.444\" cy=\"577.1\" r=\"18\"/>\n",
       "<circle clip-path=\"url(#clip6802)\" style=\"fill:#009af9; stroke:none; fill-opacity:1\" cx=\"243.444\" cy=\"577.1\" r=\"14\"/>\n",
       "<circle clip-path=\"url(#clip6802)\" style=\"fill:#000000; stroke:none; fill-opacity:1\" cx=\"448.232\" cy=\"1217.06\" r=\"18\"/>\n",
       "<circle clip-path=\"url(#clip6802)\" style=\"fill:#009af9; stroke:none; fill-opacity:1\" cx=\"448.232\" cy=\"1217.06\" r=\"14\"/>\n",
       "<circle clip-path=\"url(#clip6802)\" style=\"fill:#000000; stroke:none; fill-opacity:1\" cx=\"653.019\" cy=\"1446.71\" r=\"18\"/>\n",
       "<circle clip-path=\"url(#clip6802)\" style=\"fill:#009af9; stroke:none; fill-opacity:1\" cx=\"653.019\" cy=\"1446.71\" r=\"14\"/>\n",
       "<circle clip-path=\"url(#clip6802)\" style=\"fill:#000000; stroke:none; fill-opacity:1\" cx=\"857.807\" cy=\"1054.91\" r=\"18\"/>\n",
       "<circle clip-path=\"url(#clip6802)\" style=\"fill:#009af9; stroke:none; fill-opacity:1\" cx=\"857.807\" cy=\"1054.91\" r=\"14\"/>\n",
       "<circle clip-path=\"url(#clip6802)\" style=\"fill:#000000; stroke:none; fill-opacity:1\" cx=\"1062.59\" cy=\"401.873\" r=\"18\"/>\n",
       "<circle clip-path=\"url(#clip6802)\" style=\"fill:#009af9; stroke:none; fill-opacity:1\" cx=\"1062.59\" cy=\"401.873\" r=\"14\"/>\n",
       "<circle clip-path=\"url(#clip6802)\" style=\"fill:#000000; stroke:none; fill-opacity:1\" cx=\"1267.38\" cy=\"88.0053\" r=\"18\"/>\n",
       "<circle clip-path=\"url(#clip6802)\" style=\"fill:#009af9; stroke:none; fill-opacity:1\" cx=\"1267.38\" cy=\"88.0053\" r=\"14\"/>\n",
       "<circle clip-path=\"url(#clip6802)\" style=\"fill:#000000; stroke:none; fill-opacity:1\" cx=\"1472.17\" cy=\"401.873\" r=\"18\"/>\n",
       "<circle clip-path=\"url(#clip6802)\" style=\"fill:#009af9; stroke:none; fill-opacity:1\" cx=\"1472.17\" cy=\"401.873\" r=\"14\"/>\n",
       "<circle clip-path=\"url(#clip6802)\" style=\"fill:#000000; stroke:none; fill-opacity:1\" cx=\"1676.96\" cy=\"1054.91\" r=\"18\"/>\n",
       "<circle clip-path=\"url(#clip6802)\" style=\"fill:#009af9; stroke:none; fill-opacity:1\" cx=\"1676.96\" cy=\"1054.91\" r=\"14\"/>\n",
       "<circle clip-path=\"url(#clip6802)\" style=\"fill:#000000; stroke:none; fill-opacity:1\" cx=\"1881.74\" cy=\"1446.71\" r=\"18\"/>\n",
       "<circle clip-path=\"url(#clip6802)\" style=\"fill:#009af9; stroke:none; fill-opacity:1\" cx=\"1881.74\" cy=\"1446.71\" r=\"14\"/>\n",
       "<circle clip-path=\"url(#clip6802)\" style=\"fill:#000000; stroke:none; fill-opacity:1\" cx=\"2086.53\" cy=\"1217.06\" r=\"18\"/>\n",
       "<circle clip-path=\"url(#clip6802)\" style=\"fill:#009af9; stroke:none; fill-opacity:1\" cx=\"2086.53\" cy=\"1217.06\" r=\"14\"/>\n",
       "<circle clip-path=\"url(#clip6802)\" style=\"fill:#000000; stroke:none; fill-opacity:1\" cx=\"2291.32\" cy=\"577.1\" r=\"18\"/>\n",
       "<circle clip-path=\"url(#clip6802)\" style=\"fill:#009af9; stroke:none; fill-opacity:1\" cx=\"2291.32\" cy=\"577.1\" r=\"14\"/>\n",
       "<path clip-path=\"url(#clip6800)\" d=\"\n",
       "M1989.93 251.724 L2280.76 251.724 L2280.76 130.764 L1989.93 130.764  Z\n",
       "  \" fill=\"#ffffff\" fill-rule=\"evenodd\" fill-opacity=\"1\"/>\n",
       "<polyline clip-path=\"url(#clip6800)\" style=\"stroke:#000000; stroke-width:4; stroke-opacity:1; fill:none\" points=\"\n",
       "  1989.93,251.724 2280.76,251.724 2280.76,130.764 1989.93,130.764 1989.93,251.724 \n",
       "  \"/>\n",
       "<circle clip-path=\"url(#clip6800)\" style=\"fill:#000000; stroke:none; fill-opacity:1\" cx=\"2097.93\" cy=\"191.244\" r=\"25\"/>\n",
       "<circle clip-path=\"url(#clip6800)\" style=\"fill:#009af9; stroke:none; fill-opacity:1\" cx=\"2097.93\" cy=\"191.244\" r=\"21\"/>\n",
       "<g clip-path=\"url(#clip6800)\">\n",
       "<text style=\"fill:#000000; fill-opacity:1; font-family:Arial,Helvetica Neue,Helvetica,sans-serif; font-size:48px; text-anchor:start;\" transform=\"rotate(0, 2181.93, 208.744)\" x=\"2181.93\" y=\"208.744\">y1</text>\n",
       "</g>\n",
       "</svg>\n"
      ]
     },
     "execution_count": 44,
     "metadata": {},
     "output_type": "execute_result"
    }
   ],
   "source": [
    "scatter(a,b)"
   ]
  },
  {
   "cell_type": "code",
   "execution_count": 45,
   "metadata": {},
   "outputs": [
    {
     "data": {
      "text/plain": [
       "11-element Array{Float64,1}:\n",
       "  1.0                   \n",
       "  1.6653345369377348e-16\n",
       " -0.499977773046193     \n",
       "  0.0                   \n",
       "  0.041634003564786366  \n",
       "  8.673617379884035e-19 \n",
       " -0.001376895518351535  \n",
       "  0.0                   \n",
       "  2.3151897072861865e-5 \n",
       "  2.117582368135751e-22 \n",
       " -1.8102917490865718e-7 "
      ]
     },
     "execution_count": 45,
     "metadata": {},
     "output_type": "execute_result"
    }
   ],
   "source": [
    "c = A \\ b"
   ]
  },
  {
   "cell_type": "code",
   "execution_count": 46,
   "metadata": {},
   "outputs": [
    {
     "data": {
      "text/plain": [
       "11"
      ]
     },
     "execution_count": 46,
     "metadata": {},
     "output_type": "execute_result"
    }
   ],
   "source": [
    "length(c)"
   ]
  },
  {
   "cell_type": "code",
   "execution_count": 47,
   "metadata": {},
   "outputs": [
    {
     "data": {
      "text/plain": [
       "11"
      ]
     },
     "execution_count": 47,
     "metadata": {},
     "output_type": "execute_result"
    }
   ],
   "source": [
    "length(a)"
   ]
  },
  {
   "cell_type": "code",
   "execution_count": 48,
   "metadata": {},
   "outputs": [
    {
     "data": {
      "text/plain": [
       "11-element Array{Float64,1}:\n",
       "  0.2836621854632255 \n",
       " -0.6536436208636126 \n",
       " -0.989992496600446  \n",
       " -0.4161468365471426 \n",
       "  0.5403023058681398 \n",
       "  1.0                \n",
       "  0.5403023058681402 \n",
       " -0.4161468365471418 \n",
       " -0.9899924966004446 \n",
       " -0.6536436208636089 \n",
       "  0.28366218546323707"
      ]
     },
     "execution_count": 48,
     "metadata": {},
     "output_type": "execute_result"
    }
   ],
   "source": [
    "pol = c[1] .+ c[2]*a .+ c[3]*a.^2 .+ c[4]*a.^3 .+ c[5]*a.^4 .+ c[6]*a.^5 .+ c[7]*a.^6 .+ c[8]*a.^7 .+ c[9]*a.^8 .+ c[10]*a.^9 .+ c[11]*a.^10"
   ]
  },
  {
   "cell_type": "code",
   "execution_count": 49,
   "metadata": {},
   "outputs": [
    {
     "data": {
      "image/svg+xml": [
       "<?xml version=\"1.0\" encoding=\"utf-8\"?>\n",
       "<svg xmlns=\"http://www.w3.org/2000/svg\" xmlns:xlink=\"http://www.w3.org/1999/xlink\" width=\"600\" height=\"400\" viewBox=\"0 0 2400 1600\">\n",
       "<defs>\n",
       "  <clipPath id=\"clip7200\">\n",
       "    <rect x=\"0\" y=\"0\" width=\"2400\" height=\"1600\"/>\n",
       "  </clipPath>\n",
       "</defs>\n",
       "<path clip-path=\"url(#clip7200)\" d=\"\n",
       "M0 1600 L2400 1600 L2400 0 L0 0  Z\n",
       "  \" fill=\"#ffffff\" fill-rule=\"evenodd\" fill-opacity=\"1\"/>\n",
       "<defs>\n",
       "  <clipPath id=\"clip7201\">\n",
       "    <rect x=\"480\" y=\"0\" width=\"1681\" height=\"1600\"/>\n",
       "  </clipPath>\n",
       "</defs>\n",
       "<path clip-path=\"url(#clip7200)\" d=\"\n",
       "M182.008 1487.47 L2352.76 1487.47 L2352.76 47.2441 L182.008 47.2441  Z\n",
       "  \" fill=\"#ffffff\" fill-rule=\"evenodd\" fill-opacity=\"1\"/>\n",
       "<defs>\n",
       "  <clipPath id=\"clip7202\">\n",
       "    <rect x=\"182\" y=\"47\" width=\"2172\" height=\"1441\"/>\n",
       "  </clipPath>\n",
       "</defs>\n",
       "<polyline clip-path=\"url(#clip7202)\" style=\"stroke:#000000; stroke-width:2; stroke-opacity:0.1; fill:none\" points=\"\n",
       "  448.232,1487.47 448.232,47.2441 \n",
       "  \"/>\n",
       "<polyline clip-path=\"url(#clip7202)\" style=\"stroke:#000000; stroke-width:2; stroke-opacity:0.1; fill:none\" points=\"\n",
       "  857.807,1487.47 857.807,47.2441 \n",
       "  \"/>\n",
       "<polyline clip-path=\"url(#clip7202)\" style=\"stroke:#000000; stroke-width:2; stroke-opacity:0.1; fill:none\" points=\"\n",
       "  1267.38,1487.47 1267.38,47.2441 \n",
       "  \"/>\n",
       "<polyline clip-path=\"url(#clip7202)\" style=\"stroke:#000000; stroke-width:2; stroke-opacity:0.1; fill:none\" points=\"\n",
       "  1676.96,1487.47 1676.96,47.2441 \n",
       "  \"/>\n",
       "<polyline clip-path=\"url(#clip7202)\" style=\"stroke:#000000; stroke-width:2; stroke-opacity:0.1; fill:none\" points=\"\n",
       "  2086.53,1487.47 2086.53,47.2441 \n",
       "  \"/>\n",
       "<polyline clip-path=\"url(#clip7202)\" style=\"stroke:#000000; stroke-width:2; stroke-opacity:0.1; fill:none\" points=\"\n",
       "  182.008,1453.55 2352.76,1453.55 \n",
       "  \"/>\n",
       "<polyline clip-path=\"url(#clip7202)\" style=\"stroke:#000000; stroke-width:2; stroke-opacity:0.1; fill:none\" points=\"\n",
       "  182.008,1112.16 2352.76,1112.16 \n",
       "  \"/>\n",
       "<polyline clip-path=\"url(#clip7202)\" style=\"stroke:#000000; stroke-width:2; stroke-opacity:0.1; fill:none\" points=\"\n",
       "  182.008,770.776 2352.76,770.776 \n",
       "  \"/>\n",
       "<polyline clip-path=\"url(#clip7202)\" style=\"stroke:#000000; stroke-width:2; stroke-opacity:0.1; fill:none\" points=\"\n",
       "  182.008,429.391 2352.76,429.391 \n",
       "  \"/>\n",
       "<polyline clip-path=\"url(#clip7202)\" style=\"stroke:#000000; stroke-width:2; stroke-opacity:0.1; fill:none\" points=\"\n",
       "  182.008,88.0053 2352.76,88.0053 \n",
       "  \"/>\n",
       "<polyline clip-path=\"url(#clip7200)\" style=\"stroke:#000000; stroke-width:4; stroke-opacity:1; fill:none\" points=\"\n",
       "  182.008,1487.47 2352.76,1487.47 \n",
       "  \"/>\n",
       "<polyline clip-path=\"url(#clip7200)\" style=\"stroke:#000000; stroke-width:4; stroke-opacity:1; fill:none\" points=\"\n",
       "  182.008,1487.47 182.008,47.2441 \n",
       "  \"/>\n",
       "<polyline clip-path=\"url(#clip7200)\" style=\"stroke:#000000; stroke-width:4; stroke-opacity:1; fill:none\" points=\"\n",
       "  448.232,1487.47 448.232,1470.19 \n",
       "  \"/>\n",
       "<polyline clip-path=\"url(#clip7200)\" style=\"stroke:#000000; stroke-width:4; stroke-opacity:1; fill:none\" points=\"\n",
       "  857.807,1487.47 857.807,1470.19 \n",
       "  \"/>\n",
       "<polyline clip-path=\"url(#clip7200)\" style=\"stroke:#000000; stroke-width:4; stroke-opacity:1; fill:none\" points=\"\n",
       "  1267.38,1487.47 1267.38,1470.19 \n",
       "  \"/>\n",
       "<polyline clip-path=\"url(#clip7200)\" style=\"stroke:#000000; stroke-width:4; stroke-opacity:1; fill:none\" points=\"\n",
       "  1676.96,1487.47 1676.96,1470.19 \n",
       "  \"/>\n",
       "<polyline clip-path=\"url(#clip7200)\" style=\"stroke:#000000; stroke-width:4; stroke-opacity:1; fill:none\" points=\"\n",
       "  2086.53,1487.47 2086.53,1470.19 \n",
       "  \"/>\n",
       "<polyline clip-path=\"url(#clip7200)\" style=\"stroke:#000000; stroke-width:4; stroke-opacity:1; fill:none\" points=\"\n",
       "  182.008,1453.55 208.057,1453.55 \n",
       "  \"/>\n",
       "<polyline clip-path=\"url(#clip7200)\" style=\"stroke:#000000; stroke-width:4; stroke-opacity:1; fill:none\" points=\"\n",
       "  182.008,1112.16 208.057,1112.16 \n",
       "  \"/>\n",
       "<polyline clip-path=\"url(#clip7200)\" style=\"stroke:#000000; stroke-width:4; stroke-opacity:1; fill:none\" points=\"\n",
       "  182.008,770.776 208.057,770.776 \n",
       "  \"/>\n",
       "<polyline clip-path=\"url(#clip7200)\" style=\"stroke:#000000; stroke-width:4; stroke-opacity:1; fill:none\" points=\"\n",
       "  182.008,429.391 208.057,429.391 \n",
       "  \"/>\n",
       "<polyline clip-path=\"url(#clip7200)\" style=\"stroke:#000000; stroke-width:4; stroke-opacity:1; fill:none\" points=\"\n",
       "  182.008,88.0053 208.057,88.0053 \n",
       "  \"/>\n",
       "<g clip-path=\"url(#clip7200)\">\n",
       "<text style=\"fill:#000000; fill-opacity:1; font-family:Arial,Helvetica Neue,Helvetica,sans-serif; font-size:48px; text-anchor:middle;\" transform=\"rotate(0, 448.232, 1541.47)\" x=\"448.232\" y=\"1541.47\">-4</text>\n",
       "</g>\n",
       "<g clip-path=\"url(#clip7200)\">\n",
       "<text style=\"fill:#000000; fill-opacity:1; font-family:Arial,Helvetica Neue,Helvetica,sans-serif; font-size:48px; text-anchor:middle;\" transform=\"rotate(0, 857.807, 1541.47)\" x=\"857.807\" y=\"1541.47\">-2</text>\n",
       "</g>\n",
       "<g clip-path=\"url(#clip7200)\">\n",
       "<text style=\"fill:#000000; fill-opacity:1; font-family:Arial,Helvetica Neue,Helvetica,sans-serif; font-size:48px; text-anchor:middle;\" transform=\"rotate(0, 1267.38, 1541.47)\" x=\"1267.38\" y=\"1541.47\">0</text>\n",
       "</g>\n",
       "<g clip-path=\"url(#clip7200)\">\n",
       "<text style=\"fill:#000000; fill-opacity:1; font-family:Arial,Helvetica Neue,Helvetica,sans-serif; font-size:48px; text-anchor:middle;\" transform=\"rotate(0, 1676.96, 1541.47)\" x=\"1676.96\" y=\"1541.47\">2</text>\n",
       "</g>\n",
       "<g clip-path=\"url(#clip7200)\">\n",
       "<text style=\"fill:#000000; fill-opacity:1; font-family:Arial,Helvetica Neue,Helvetica,sans-serif; font-size:48px; text-anchor:middle;\" transform=\"rotate(0, 2086.53, 1541.47)\" x=\"2086.53\" y=\"1541.47\">4</text>\n",
       "</g>\n",
       "<g clip-path=\"url(#clip7200)\">\n",
       "<text style=\"fill:#000000; fill-opacity:1; font-family:Arial,Helvetica Neue,Helvetica,sans-serif; font-size:48px; text-anchor:end;\" transform=\"rotate(0, 158.008, 1471.05)\" x=\"158.008\" y=\"1471.05\">-1.0</text>\n",
       "</g>\n",
       "<g clip-path=\"url(#clip7200)\">\n",
       "<text style=\"fill:#000000; fill-opacity:1; font-family:Arial,Helvetica Neue,Helvetica,sans-serif; font-size:48px; text-anchor:end;\" transform=\"rotate(0, 158.008, 1129.66)\" x=\"158.008\" y=\"1129.66\">-0.5</text>\n",
       "</g>\n",
       "<g clip-path=\"url(#clip7200)\">\n",
       "<text style=\"fill:#000000; fill-opacity:1; font-family:Arial,Helvetica Neue,Helvetica,sans-serif; font-size:48px; text-anchor:end;\" transform=\"rotate(0, 158.008, 788.276)\" x=\"158.008\" y=\"788.276\">0.0</text>\n",
       "</g>\n",
       "<g clip-path=\"url(#clip7200)\">\n",
       "<text style=\"fill:#000000; fill-opacity:1; font-family:Arial,Helvetica Neue,Helvetica,sans-serif; font-size:48px; text-anchor:end;\" transform=\"rotate(0, 158.008, 446.891)\" x=\"158.008\" y=\"446.891\">0.5</text>\n",
       "</g>\n",
       "<g clip-path=\"url(#clip7200)\">\n",
       "<text style=\"fill:#000000; fill-opacity:1; font-family:Arial,Helvetica Neue,Helvetica,sans-serif; font-size:48px; text-anchor:end;\" transform=\"rotate(0, 158.008, 105.505)\" x=\"158.008\" y=\"105.505\">1.0</text>\n",
       "</g>\n",
       "<circle clip-path=\"url(#clip7202)\" style=\"fill:#000000; stroke:none; fill-opacity:1\" cx=\"243.444\" cy=\"577.1\" r=\"18\"/>\n",
       "<circle clip-path=\"url(#clip7202)\" style=\"fill:#009af9; stroke:none; fill-opacity:1\" cx=\"243.444\" cy=\"577.1\" r=\"14\"/>\n",
       "<circle clip-path=\"url(#clip7202)\" style=\"fill:#000000; stroke:none; fill-opacity:1\" cx=\"448.232\" cy=\"1217.06\" r=\"18\"/>\n",
       "<circle clip-path=\"url(#clip7202)\" style=\"fill:#009af9; stroke:none; fill-opacity:1\" cx=\"448.232\" cy=\"1217.06\" r=\"14\"/>\n",
       "<circle clip-path=\"url(#clip7202)\" style=\"fill:#000000; stroke:none; fill-opacity:1\" cx=\"653.019\" cy=\"1446.71\" r=\"18\"/>\n",
       "<circle clip-path=\"url(#clip7202)\" style=\"fill:#009af9; stroke:none; fill-opacity:1\" cx=\"653.019\" cy=\"1446.71\" r=\"14\"/>\n",
       "<circle clip-path=\"url(#clip7202)\" style=\"fill:#000000; stroke:none; fill-opacity:1\" cx=\"857.807\" cy=\"1054.91\" r=\"18\"/>\n",
       "<circle clip-path=\"url(#clip7202)\" style=\"fill:#009af9; stroke:none; fill-opacity:1\" cx=\"857.807\" cy=\"1054.91\" r=\"14\"/>\n",
       "<circle clip-path=\"url(#clip7202)\" style=\"fill:#000000; stroke:none; fill-opacity:1\" cx=\"1062.59\" cy=\"401.873\" r=\"18\"/>\n",
       "<circle clip-path=\"url(#clip7202)\" style=\"fill:#009af9; stroke:none; fill-opacity:1\" cx=\"1062.59\" cy=\"401.873\" r=\"14\"/>\n",
       "<circle clip-path=\"url(#clip7202)\" style=\"fill:#000000; stroke:none; fill-opacity:1\" cx=\"1267.38\" cy=\"88.0053\" r=\"18\"/>\n",
       "<circle clip-path=\"url(#clip7202)\" style=\"fill:#009af9; stroke:none; fill-opacity:1\" cx=\"1267.38\" cy=\"88.0053\" r=\"14\"/>\n",
       "<circle clip-path=\"url(#clip7202)\" style=\"fill:#000000; stroke:none; fill-opacity:1\" cx=\"1472.17\" cy=\"401.873\" r=\"18\"/>\n",
       "<circle clip-path=\"url(#clip7202)\" style=\"fill:#009af9; stroke:none; fill-opacity:1\" cx=\"1472.17\" cy=\"401.873\" r=\"14\"/>\n",
       "<circle clip-path=\"url(#clip7202)\" style=\"fill:#000000; stroke:none; fill-opacity:1\" cx=\"1676.96\" cy=\"1054.91\" r=\"18\"/>\n",
       "<circle clip-path=\"url(#clip7202)\" style=\"fill:#009af9; stroke:none; fill-opacity:1\" cx=\"1676.96\" cy=\"1054.91\" r=\"14\"/>\n",
       "<circle clip-path=\"url(#clip7202)\" style=\"fill:#000000; stroke:none; fill-opacity:1\" cx=\"1881.74\" cy=\"1446.71\" r=\"18\"/>\n",
       "<circle clip-path=\"url(#clip7202)\" style=\"fill:#009af9; stroke:none; fill-opacity:1\" cx=\"1881.74\" cy=\"1446.71\" r=\"14\"/>\n",
       "<circle clip-path=\"url(#clip7202)\" style=\"fill:#000000; stroke:none; fill-opacity:1\" cx=\"2086.53\" cy=\"1217.06\" r=\"18\"/>\n",
       "<circle clip-path=\"url(#clip7202)\" style=\"fill:#009af9; stroke:none; fill-opacity:1\" cx=\"2086.53\" cy=\"1217.06\" r=\"14\"/>\n",
       "<circle clip-path=\"url(#clip7202)\" style=\"fill:#000000; stroke:none; fill-opacity:1\" cx=\"2291.32\" cy=\"577.1\" r=\"18\"/>\n",
       "<circle clip-path=\"url(#clip7202)\" style=\"fill:#009af9; stroke:none; fill-opacity:1\" cx=\"2291.32\" cy=\"577.1\" r=\"14\"/>\n",
       "<polyline clip-path=\"url(#clip7202)\" style=\"stroke:#e26f46; stroke-width:4; stroke-opacity:1; fill:none\" points=\"\n",
       "  243.444,577.1 448.232,1217.06 653.019,1446.71 857.807,1054.91 1062.59,401.873 1267.38,88.0053 1472.17,401.873 1676.96,1054.91 1881.74,1446.71 2086.53,1217.06 \n",
       "  2291.32,577.1 \n",
       "  \"/>\n",
       "<path clip-path=\"url(#clip7200)\" d=\"\n",
       "M1989.93 312.204 L2280.76 312.204 L2280.76 130.764 L1989.93 130.764  Z\n",
       "  \" fill=\"#ffffff\" fill-rule=\"evenodd\" fill-opacity=\"1\"/>\n",
       "<polyline clip-path=\"url(#clip7200)\" style=\"stroke:#000000; stroke-width:4; stroke-opacity:1; fill:none\" points=\"\n",
       "  1989.93,312.204 2280.76,312.204 2280.76,130.764 1989.93,130.764 1989.93,312.204 \n",
       "  \"/>\n",
       "<circle clip-path=\"url(#clip7200)\" style=\"fill:#000000; stroke:none; fill-opacity:1\" cx=\"2097.93\" cy=\"191.244\" r=\"25\"/>\n",
       "<circle clip-path=\"url(#clip7200)\" style=\"fill:#009af9; stroke:none; fill-opacity:1\" cx=\"2097.93\" cy=\"191.244\" r=\"21\"/>\n",
       "<g clip-path=\"url(#clip7200)\">\n",
       "<text style=\"fill:#000000; fill-opacity:1; font-family:Arial,Helvetica Neue,Helvetica,sans-serif; font-size:48px; text-anchor:start;\" transform=\"rotate(0, 2181.93, 208.744)\" x=\"2181.93\" y=\"208.744\">y1</text>\n",
       "</g>\n",
       "<polyline clip-path=\"url(#clip7200)\" style=\"stroke:#e26f46; stroke-width:4; stroke-opacity:1; fill:none\" points=\"\n",
       "  2013.93,251.724 2157.93,251.724 \n",
       "  \"/>\n",
       "<g clip-path=\"url(#clip7200)\">\n",
       "<text style=\"fill:#000000; fill-opacity:1; font-family:Arial,Helvetica Neue,Helvetica,sans-serif; font-size:48px; text-anchor:start;\" transform=\"rotate(0, 2181.93, 269.224)\" x=\"2181.93\" y=\"269.224\">y2</text>\n",
       "</g>\n",
       "</svg>\n"
      ]
     },
     "execution_count": 49,
     "metadata": {},
     "output_type": "execute_result"
    }
   ],
   "source": [
    "scatter(a,b)\n",
    "plot!(a, pol)"
   ]
  },
  {
   "cell_type": "code",
   "execution_count": null,
   "metadata": {},
   "outputs": [],
   "source": []
  }
 ],
 "metadata": {
  "@webio": {
   "lastCommId": null,
   "lastKernelId": null
  },
  "kernelspec": {
   "display_name": "Julia 1.3.1",
   "language": "julia",
   "name": "julia-1.3"
  },
  "language_info": {
   "file_extension": ".jl",
   "mimetype": "application/julia",
   "name": "julia",
   "version": "1.3.1"
  }
 },
 "nbformat": 4,
 "nbformat_minor": 2
}
