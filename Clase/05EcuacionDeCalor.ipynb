{
 "cells": [
  {
   "cell_type": "markdown",
   "metadata": {},
   "source": [
    "# <font color = \"darkblue\">Ecuaciones Diferenciales Parciales de Evolución </font>\n",
    "\n",
    "# <font color = \"darkblue\"> Ecuación de Calor</font>"
   ]
  },
  {
   "cell_type": "markdown",
   "metadata": {},
   "source": [
    "Las ecuaciones diferenciales parciales (EDPs) constituyen una área de suma importancia en la física, ya que modelan sistemas que varían con respecto a más de una variable independiente, por ejemplo, tanto el tiempo como el espacio. \n",
    "\n",
    "\n",
    "Del punto de vista numérico, el tipo de EDPs que es (conceptualmente) más sencillo son las llamadas **parabólicas**, es decir, **ecuaciones de evolución**, de las cuales la más conocida es la **ecuación de calor** o **ecuación de difusión.**"
   ]
  },
  {
   "cell_type": "markdown",
   "metadata": {},
   "source": [
    "# Ecuación de Calor \n",
    "\n",
    "La ecuación de calor modela el esparcimiento en el tiempo y en el espacio de un \"paquete\" de calor (perturbación local de temperatura en una región) o un \"paquete\" de concentración de una sustancia física o química. \n",
    "\n",
    "Sea $u(t, \\mathbf{x})$ la temperatura o la concentración de la sustancia en la posición **x** al tiempo t. Recordando que la ecuación de calor es \n",
    "\n",
    "$$\\frac{\\partial u(t, \\mathbf{x})}{\\partial t} = D \\, \\nabla^2 u(t, \\mathbf{x}),$$\n",
    "\n",
    "\n",
    "con  $\\nabla^2 := \\frac{\\partial^2}{\\partial x^2} + \\frac{\\partial^2}{\\partial y^2} + \\frac{\\partial^2}{\\partial z^2}$ en tres dimensiones.\n",
    "\n",
    "Esta ecuación nos dice cómo varía la concentración en el tiempo, dadas las condiciones locales en el espacio. Se deriva en términos de una ley de conservación: \n",
    "\n",
    "$$\\frac{\\partial u}{\\partial t} + \\nabla \\cdot \\mathbf{J} = 0,$$\n",
    "\n",
    "donde el flujo de calor o de concentración $\\mathbf{J}$ es proporcional al gradiente local:\n",
    "\n",
    "$$\\mathbf{J} = -D \\, \\nabla u.$$\n",
    "\n",
    "\n",
    "La ecuación de calor es una **ecuación de evolución** que describe cómo evoluciona el sistema en el tiempo. Por lo tanto, su tratamiento se sigue de forma directa de lo que sabemos para EDOs."
   ]
  },
  {
   "cell_type": "markdown",
   "metadata": {},
   "source": [
    "# Una dimensión \n",
    "\n",
    "El caso más sencillo, con sólo una dimensión espacial. En este caso, la ecuación de calor se reduce a \n",
    "\n",
    "$$\\frac{\\partial u(t, x)}{\\partial t} = D \\frac{\\partial^2 u(t, x)}{\\partial x^2}.$$\n",
    "\n",
    "Para resolverla, necesitaremos además:\n",
    "- una condición inicial $u(t=0, x) = f(x)$ (una función del espacio)\n",
    "- condiciones en la frontera, $u(t, x)$ para todo $x$ en la frontera del dominio espacial, y para todo $t$."
   ]
  },
  {
   "cell_type": "markdown",
   "metadata": {},
   "source": [
    "Dado que, como siempre, no podemos resolver problemas de naturaleza continua en la computadora, debemos *aproximar* la solución $u(t, x)$ de alguna forma. La manera más sencilla es, de nuevo, utilizar una **discretización**."
   ]
  },
  {
   "cell_type": "markdown",
   "metadata": {},
   "source": [
    "¿Cómo se puede discretizar $u(t,x)$ utilizando un tamaño de paso h en el tiempo y k en el espacio? Pensando que los valores posibles de $x$ son en el intervalo $[0, L]$."
   ]
  },
  {
   "cell_type": "markdown",
   "metadata": {},
   "source": [
    "Denotando con $t_n$ el tiempo al paso número $n$, y con $u^n_i$ la aproximación de la solución en el nodo número $i$ en el espacio al tiempo $n$.\n",
    "\n",
    "\n",
    "\n",
    "Primero hay que aproximar la derivada parcial temporal usando un paso de Euler, esto es\n",
    "$$\n",
    "\\dfrac{\\partial u(t,x)}{\\partial t} \\approx \\dfrac{u(t+h,x) - u(t,x)}{h}\n",
    "$$\n",
    "\n",
    "Por otro lado la segunda parcial con respecto a x usando diferencias centradas es\n",
    "\n",
    "$$\n",
    "\\dfrac{\\partial^2 u(t,x)}{\\partial x^2} \\approx \\dfrac{u(t,x+k)-2u(t,x)+u(t,x-k)}{k^2}\n",
    "$$\n",
    "\n",
    "Por lo que, si se sustituye en la expresión se tiene la aproximación para u\n",
    "$$\n",
    "u(t,x) \\approx \\dfrac{k^2 u(t+h,x) - hu(t,x+2k)+2hu(t,x+k)}{h+k^2}\n",
    "$$\n",
    "\n",
    "Por lo que sustituyendo en la ecuación de calor\n",
    "$$\n",
    "\\dfrac{u(t+h,x) - u(t,x)}{h} \\approx D\\dfrac{u(t,x+k)-2u(t,x)+u(t,x-k)}{k^2} $$\n",
    "$$\\Rightarrow [u(t+h,x) - u(t,x)] \\approx \\dfrac{Dh}{k^2}[u(t,x+k)-2u(t,x)+u(t,x-k)]$$\n",
    "\n",
    "$$\\Rightarrow u(t+h,x) \\approx \\dfrac{Dh}{k^2}[u(t,x+k)-2u(t,x)+u(t,x-k)] +  u(t,x)\\\\\n",
    "$$"
   ]
  },
  {
   "cell_type": "markdown",
   "metadata": {},
   "source": [
    "**Ejercicio1** \n",
    "\n",
    "Considera la ecuación de calor en una dimensión sobre el intervalo de $x=-L$ a $x=L$, con condición inicial $u(t=0, x) = \\delta(x)$, donde $\\delta$ es la delta de Dirac, y condiciones de frontera absorbentes (de Dirichlet), es decir, $u(t, -L) = u(t, +L) = 0$ para todo $t > 0$.\n",
    "\n",
    "(i) ¿Qué esperas intuitivamente que pase durante la evolución? ¿Qué ocurrirá para tiempos largos?\n",
    "\n",
    "(ii) Implementa el sistema, tomando cuidado en lo que ocurre en las fronteras. Para hacerlo, utiliza un vector para representar el estado actual del sistema, y otro vector para el estado al tiempo siguiente.\n",
    "\n",
    "(iii) Dibuja la evolución en el tiempo (es decir, dibuja $u(x,t)$ para varios valores de $t$ en una sola gráfica, y con `Interact`). ¿Ocurre lo que esperabas?\n",
    "\n",
    "(iv) ¿Qué ocurre si tomas otra condición inicial, por ejemplo una suma de dos deltas?\n",
    "\n",
    "**Punto Extra**\n",
    "\n",
    "(v) ¿Qué pasa con la energía del sistema? "
   ]
  },
  {
   "cell_type": "code",
   "execution_count": null,
   "metadata": {},
   "outputs": [],
   "source": [
    "using Plots  \n",
    "using Interact\n",
    "include(\"herramientas.jl\")\n",
    "gr()"
   ]
  },
  {
   "cell_type": "code",
   "execution_count": null,
   "metadata": {},
   "outputs": [],
   "source": [
    "t1, x1, u1 = heat_eq(10, 80, 0.01, 1., 1)\n"
   ]
  },
  {
   "cell_type": "code",
   "execution_count": null,
   "metadata": {},
   "outputs": [],
   "source": [
    "@manipulate for t in 1:length(t1)\n",
    "    plot(x1, u1[t], ylims=(0,1))    \n",
    "end"
   ]
  },
  {
   "cell_type": "code",
   "execution_count": null,
   "metadata": {},
   "outputs": [],
   "source": [
    "anim = @animate for t in 1:10:length(u1)\n",
    "    plot(x1, u1[t], ylims=(0,1))\n",
    "    end every 1\n",
    "\n",
    "gif(anim, \"Dirichlet.gif\", fps=20)"
   ]
  },
  {
   "cell_type": "code",
   "execution_count": null,
   "metadata": {},
   "outputs": [],
   "source": []
  }
 ],
 "metadata": {
  "@webio": {
   "lastCommId": null,
   "lastKernelId": null
  },
  "kernelspec": {
   "display_name": "Julia 1.3.1",
   "language": "julia",
   "name": "julia-1.3"
  },
  "language_info": {
   "file_extension": ".jl",
   "mimetype": "application/julia",
   "name": "julia",
   "version": "1.3.1"
  }
 },
 "nbformat": 4,
 "nbformat_minor": 2
}
