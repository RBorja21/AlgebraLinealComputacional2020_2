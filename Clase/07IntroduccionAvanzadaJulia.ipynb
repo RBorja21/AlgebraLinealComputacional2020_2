{
 "cells": [
  {
   "cell_type": "markdown",
   "metadata": {},
   "source": [
    "# <font color = \"darkblue\"> Introducción avanzada Julia  </font>"
   ]
  },
  {
   "cell_type": "markdown",
   "metadata": {},
   "source": [
    "### <font color = \"darkblue\"> Estructuras o Tipos  </font>\n",
    "\n",
    "Las estructuras, o tipos, son centrales en Julia. La instrucción `typeof` sirve para saber el tipo de estructura de una variable o algún valor. \n",
    "\n",
    "\n",
    "Un tipo es básicamente qué clase de \"ente\" es un valor dado, ya hemos hablado de algunos de estos, tales son: flotantes(Float), enteros(Int), cadenas de caracteres(Strings), funciones, etc.\n",
    "\n",
    "Podemos declar el tipo de una variable mediante la sintáxis `var::Tipo = valor`(por ahora Julia sólo permite declarar el tipo de una variable dentro de funciones) esto es algo muy parecido en lo que se hace en algunos lenguajes como C.\n",
    "\n",
    "En Julia existe una jerarquía de tipos, en la cual el tipo `Any` es el \"padre\" de todos los tipos, podemos verficar si un tipo es un subtipo de otro mediante el operador `<:` el cuál puede ser empleado como"
   ]
  },
  {
   "cell_type": "code",
   "execution_count": null,
   "metadata": {},
   "outputs": [],
   "source": [
    "Float64 <: Float64 # Un tipo siempre es subtipo de sí mismo"
   ]
  },
  {
   "cell_type": "code",
   "execution_count": null,
   "metadata": {},
   "outputs": [],
   "source": [
    "Float64 <: AbstractFloat # AbstractFloat es un tipo que es padre de todos los Float"
   ]
  },
  {
   "cell_type": "code",
   "execution_count": null,
   "metadata": {},
   "outputs": [],
   "source": [
    "Arreglo = [1 2 3 3 2 1]"
   ]
  },
  {
   "cell_type": "code",
   "execution_count": null,
   "metadata": {},
   "outputs": [],
   "source": [
    "typeof(Arreglo)"
   ]
  },
  {
   "cell_type": "markdown",
   "metadata": {},
   "source": [
    "## <font color = \"darkblue\"> Funciones  </font>\n",
    "\n",
    "**Hay tres maneras de definir una función**"
   ]
  },
  {
   "cell_type": "code",
   "execution_count": null,
   "metadata": {},
   "outputs": [],
   "source": [
    "function f1(x)\n",
    "    \n",
    "    return x^2\n",
    "end"
   ]
  },
  {
   "cell_type": "markdown",
   "metadata": {},
   "source": [
    "En el ejemplo anterior definimos la función `f`, que depende de un argumento `(x)`, cuyo tipo no se ha especificado, es decir, **NO** hemos restringido el valor de `x`de ninguna manera. Por lo tanto, podemos usar la función `f` en objetos en los que tenga sentido \"elevar al cuadrado\". Esto es lo que se llama \"teclear como pato\" (*duck typing*)."
   ]
  },
  {
   "cell_type": "code",
   "execution_count": null,
   "metadata": {},
   "outputs": [],
   "source": [
    "f1(2)"
   ]
  },
  {
   "cell_type": "code",
   "execution_count": null,
   "metadata": {},
   "outputs": [],
   "source": [
    "f1(\"Una cadena\")"
   ]
  },
  {
   "cell_type": "markdown",
   "metadata": {},
   "source": [
    "La segunda manera de definir una función es en una línea, como es común ver cosas escritas en matemáticas. El caso anterior podría haber sido definido de la siguiente manera:"
   ]
  },
  {
   "cell_type": "code",
   "execution_count": null,
   "metadata": {},
   "outputs": [],
   "source": [
    "g(x) = x^2"
   ]
  },
  {
   "cell_type": "code",
   "execution_count": null,
   "metadata": {},
   "outputs": [],
   "source": [
    "g(\"Algo\")"
   ]
  },
  {
   "cell_type": "markdown",
   "metadata": {},
   "source": [
    "Un tercer método para definir funciones es lo que se llama funciones anónimas. Nuevamente, su construcción es usual en las matemáticas, excepto por que no tienen nombre."
   ]
  },
  {
   "cell_type": "code",
   "execution_count": null,
   "metadata": {},
   "outputs": [],
   "source": [
    "gg = x -> x^2  # `g` es el nombre de la función anónima"
   ]
  },
  {
   "cell_type": "code",
   "execution_count": null,
   "metadata": {},
   "outputs": [],
   "source": [
    "gg(2)"
   ]
  },
  {
   "cell_type": "markdown",
   "metadata": {},
   "source": [
    "Ahora definiremos un *segundo método* de la función `f`. Por ejemplo, queremos que si `f` se aplica a una cadena, el resultado sea un mensaje específico. Para esto, especificaremos que `x` es una cadena cualquiera usando `x::AbstractString`, lo que permitirá que usemos este método exclusivamente para cadenas."
   ]
  },
  {
   "cell_type": "code",
   "execution_count": null,
   "metadata": {},
   "outputs": [],
   "source": [
    "f1(x::AbstractString) = \"No se leer\""
   ]
  },
  {
   "cell_type": "code",
   "execution_count": null,
   "metadata": {},
   "outputs": [],
   "source": [
    "f1(\"Cadena\")"
   ]
  },
  {
   "cell_type": "code",
   "execution_count": null,
   "metadata": {},
   "outputs": [],
   "source": [
    "f1(x::Int64) = x^4"
   ]
  },
  {
   "cell_type": "code",
   "execution_count": null,
   "metadata": {},
   "outputs": [],
   "source": [
    "f1(2)"
   ]
  },
  {
   "cell_type": "markdown",
   "metadata": {},
   "source": [
    "Vale la pena notar que `f` aplicado a un vector o matriz, arroja un error. Sin embargo, podemos aplicar `f` al vector usando puntos (*dots*). Esto es lo que se llama transimisión (*broadcasting*). Esta es una notación conveniente, aunque no siempre es la más rápida. El punto es que la definición genérica de `f(x)` la podemos generalizar en vectores o matrices."
   ]
  },
  {
   "cell_type": "code",
   "execution_count": null,
   "metadata": {},
   "outputs": [],
   "source": [
    "v = [1 2; 3 4]"
   ]
  },
  {
   "cell_type": "code",
   "execution_count": null,
   "metadata": {},
   "outputs": [],
   "source": [
    "f1.(v)"
   ]
  },
  {
   "cell_type": "markdown",
   "metadata": {},
   "source": [
    "## <font color = \"darkblue\"> Estabilidad de tipo </font>\n",
    "\n",
    "\n",
    "Para que quede claro la importancia de la estabilidad de tipo, hagamos un ejemplo de una función que no es estable según el tipo, y comparemos su rendimiento con una que sí lo es. "
   ]
  },
  {
   "cell_type": "code",
   "execution_count": null,
   "metadata": {},
   "outputs": [],
   "source": [
    "function inestable(n::Int)\n",
    "    x = rem(n,2) == 0 ? n/2 : n//3 # x puede ser un Float64 o un racional\n",
    "    return x^2\n",
    "end\n",
    "\n",
    "# Aquí, x sólo puede ser un Float64\n",
    "function estable(n::Int)\n",
    "    x = rem(n,2) == 0 ? n/2 : n/3\n",
    "    return x^2\n",
    "end"
   ]
  },
  {
   "cell_type": "code",
   "execution_count": null,
   "metadata": {},
   "outputs": [],
   "source": [
    "inestable(1), inestable(2)"
   ]
  },
  {
   "cell_type": "code",
   "execution_count": null,
   "metadata": {},
   "outputs": [],
   "source": [
    "estable(1), estable(2)"
   ]
  },
  {
   "cell_type": "markdown",
   "metadata": {},
   "source": [
    "Para compararlas, corremos muchas veces la funciones"
   ]
  },
  {
   "cell_type": "code",
   "execution_count": null,
   "metadata": {},
   "outputs": [],
   "source": [
    "@time begin\n",
    "    x = inestable(1)\n",
    "    for i = 1:10000000\n",
    "        x = inestable(i)\n",
    "    end\n",
    "    x\n",
    "end"
   ]
  },
  {
   "cell_type": "code",
   "execution_count": null,
   "metadata": {},
   "outputs": [],
   "source": [
    "@time begin\n",
    "    x = estable(1)\n",
    "    for i = 1:10000000\n",
    "        x = estable(i)\n",
    "    end\n",
    "    x\n",
    "end"
   ]
  },
  {
   "cell_type": "markdown",
   "metadata": {},
   "source": [
    "**La función inestable es más de 10 veces más lenta que la función estable, justamente porque no preserva el tipo. Esto es, Julia no puede saber si el resultado será un racional o un entero.**"
   ]
  },
  {
   "cell_type": "markdown",
   "metadata": {},
   "source": [
    "## <font color = \"darkblue\"> Definición de nuevos tipos </font>"
   ]
  },
  {
   "cell_type": "markdown",
   "metadata": {},
   "source": [
    "Una de las partes atractivas de Julia es que permite definir nuevos tipos (o estructuras) que en algún sentido reflejan la abstracción de las componentes de un problema concreto. Para esto se utilizan las instrucciones `struct` y `mutable struct`."
   ]
  },
  {
   "cell_type": "markdown",
   "metadata": {},
   "source": [
    "Un tipo compuesto puede ser pensado como una estructura capaz de alojar dentro de ella diversos campos que pueden contener esencialmente cualquier objeto. En Julia existen dos clases de tipos compuestos: inmutables y mutables.\n",
    "\n",
    "Los tipos inmutables se caracterizan por la propiedad de que al ser inicializados estos no pueden son modificados, contrario a lo que sucede con los mutables.\n",
    "\n",
    "\n"
   ]
  },
  {
   "cell_type": "code",
   "execution_count": null,
   "metadata": {},
   "outputs": [],
   "source": [
    "struct TipoInmutable\n",
    "    campo1\n",
    "    campo2\n",
    "end"
   ]
  },
  {
   "cell_type": "markdown",
   "metadata": {},
   "source": [
    "Para un tipo mutable:"
   ]
  },
  {
   "cell_type": "code",
   "execution_count": null,
   "metadata": {},
   "outputs": [],
   "source": [
    "mutable struct TipoMutable\n",
    "    campo1\n",
    "    campo2\n",
    "end"
   ]
  },
  {
   "cell_type": "markdown",
   "metadata": {},
   "source": [
    "**NOTA:** por cuestiones internas a Julia una vez dada la definición de un tipo, éste no puede ser reedefinido, por lo que si queremos actualizar la definición de alguno de nuestros tipos será necesario reiniciar el kernel."
   ]
  },
  {
   "cell_type": "markdown",
   "metadata": {},
   "source": [
    "\n",
    "Una vez dadas las definiciones de nuestro tipo podemos inicializarlo llamando al nombre del tipo y entre paréntesis los valores de los campos con los que fue definido"
   ]
  },
  {
   "cell_type": "code",
   "execution_count": null,
   "metadata": {},
   "outputs": [],
   "source": [
    "TipoInmutable(1, 2)"
   ]
  },
  {
   "cell_type": "code",
   "execution_count": null,
   "metadata": {},
   "outputs": [],
   "source": [
    "TipoInmutable(\"Hola\", \"Mundo\")"
   ]
  },
  {
   "cell_type": "markdown",
   "metadata": {},
   "source": [
    "\n",
    "Y podemos asignar esto a una variable de la manera usual"
   ]
  },
  {
   "cell_type": "code",
   "execution_count": null,
   "metadata": {},
   "outputs": [],
   "source": [
    "tipo_inmutable = TipoInmutable(\"Soy \", \"inmutable\")\n",
    "tipo_mutable = TipoMutable(\"Soy \", \"mutable\");"
   ]
  },
  {
   "cell_type": "markdown",
   "metadata": {},
   "source": [
    "\n",
    "Podemos accesar a los campos del tipo mediante la sintáxis `tipo.campo`"
   ]
  },
  {
   "cell_type": "code",
   "execution_count": null,
   "metadata": {},
   "outputs": [],
   "source": [
    "tipo_inmutable.campo1 * tipo_inmutable.campo2"
   ]
  },
  {
   "cell_type": "code",
   "execution_count": null,
   "metadata": {},
   "outputs": [],
   "source": [
    "tipo_mutable.campo1 * tipo_mutable.campo2"
   ]
  },
  {
   "cell_type": "markdown",
   "metadata": {},
   "source": [
    "Mediante esto es posible modificar los valores de los campos(para el caso de tipo mutables)"
   ]
  },
  {
   "cell_type": "code",
   "execution_count": null,
   "metadata": {},
   "outputs": [],
   "source": [
    "tipo_mutable.campo1 = \"Me \"; tipo_mutable.campo2 = \"han mutado!\"\n",
    "tipo_mutable.campo1 * tipo_mutable.campo2"
   ]
  },
  {
   "cell_type": "markdown",
   "metadata": {},
   "source": [
    "\n",
    "Notemos que esto no es posible para el un tipo inmutable"
   ]
  },
  {
   "cell_type": "code",
   "execution_count": null,
   "metadata": {},
   "outputs": [],
   "source": [
    "tipo_inmutable.campo1 = \"Nuevo \""
   ]
  },
  {
   "cell_type": "markdown",
   "metadata": {},
   "source": [
    "**NOTA:** En el caso de los tipos mutables, aunque dos objetos tengan los mismos valores en sus campos, **éstos no son iguales**, lo cual podría causar algunas confusiones, veamos"
   ]
  },
  {
   "cell_type": "code",
   "execution_count": null,
   "metadata": {},
   "outputs": [],
   "source": [
    "objeto1 = TipoMutable(1, 1)"
   ]
  },
  {
   "cell_type": "code",
   "execution_count": null,
   "metadata": {},
   "outputs": [],
   "source": [
    "objeto2 = TipoMutable(1, 1)"
   ]
  },
  {
   "cell_type": "code",
   "execution_count": null,
   "metadata": {},
   "outputs": [],
   "source": [
    "objeto1 == objeto2"
   ]
  },
  {
   "cell_type": "markdown",
   "metadata": {},
   "source": [
    "\n",
    "Además notemos"
   ]
  },
  {
   "cell_type": "code",
   "execution_count": null,
   "metadata": {},
   "outputs": [],
   "source": [
    "objeto2 = objeto1"
   ]
  },
  {
   "cell_type": "code",
   "execution_count": null,
   "metadata": {},
   "outputs": [],
   "source": [
    "objeto1 == objeto2"
   ]
  },
  {
   "cell_type": "markdown",
   "metadata": {},
   "source": [
    "En este caso sí se trata del mismo objeto, es decir las variables objeto1 y objeto2 \"apuntan\" hacía el mismo lugar, por lo que la modificación de uno de sus campos afecta a ambas variables"
   ]
  },
  {
   "cell_type": "code",
   "execution_count": null,
   "metadata": {},
   "outputs": [],
   "source": [
    "objeto1.campo1 = 0\n",
    "objeto1"
   ]
  },
  {
   "cell_type": "code",
   "execution_count": null,
   "metadata": {},
   "outputs": [],
   "source": [
    "objeto2"
   ]
  },
  {
   "cell_type": "markdown",
   "metadata": {},
   "source": [
    "En ocasiones podemos no conocer los nombres de los campos de un tipo dado, es posible ver cuáles son mediante la función `fieldnames`"
   ]
  },
  {
   "cell_type": "code",
   "execution_count": null,
   "metadata": {},
   "outputs": [],
   "source": [
    "fieldnames(TipoInmutable)"
   ]
  },
  {
   "cell_type": "markdown",
   "metadata": {},
   "source": [
    "**Por ejemplo, tal vez necesitamos que nuestro tipo tenga campos cuyos únicos valores sean números, podemos lograr esto mediante la siguiente definición:**"
   ]
  },
  {
   "cell_type": "code",
   "execution_count": null,
   "metadata": {},
   "outputs": [],
   "source": [
    "struct TipoNumero\n",
    "    campo1::Number\n",
    "    campo2::Number\n",
    "end"
   ]
  },
  {
   "cell_type": "markdown",
   "metadata": {},
   "source": [
    "De esta forma los únicos valores permitidos serán números, y en caso de querer construir un objeto que no satisface esta definición obtenemos un error"
   ]
  },
  {
   "cell_type": "code",
   "execution_count": null,
   "metadata": {},
   "outputs": [],
   "source": [
    "TipoNumero(1, 1)"
   ]
  },
  {
   "cell_type": "code",
   "execution_count": null,
   "metadata": {},
   "outputs": [],
   "source": [
    "TipoNumero(\"Hola\", \"mundo\")"
   ]
  },
  {
   "cell_type": "markdown",
   "metadata": {},
   "source": [
    "## <font color = \"darkblue\"> Tipos Paramétricos</font>"
   ]
  },
  {
   "cell_type": "markdown",
   "metadata": {},
   "source": [
    "\n",
    "Un tipo puede estar definido mediante un parámetro, esto son los llamados tipos paramétricos, la definición de éstos es muy similar a lo visto anteriormente"
   ]
  },
  {
   "cell_type": "code",
   "execution_count": null,
   "metadata": {},
   "outputs": [],
   "source": [
    "struct TipoParam{T}\n",
    "    campo1::T\n",
    "    campo2::T\n",
    "end"
   ]
  },
  {
   "cell_type": "markdown",
   "metadata": {},
   "source": [
    "\n",
    "Es decir, un tipo así definido implica una definición de TipoParam para cada posible valor de T, notemos que ambos campos han de pertenecer al mismo tipo, al crear el objeto Julia sabe determinar quién es T"
   ]
  },
  {
   "cell_type": "code",
   "execution_count": null,
   "metadata": {},
   "outputs": [],
   "source": [
    "TipoParam(1, 1)"
   ]
  },
  {
   "cell_type": "code",
   "execution_count": null,
   "metadata": {},
   "outputs": [],
   "source": [
    "TipoParam(1., 1.)"
   ]
  },
  {
   "cell_type": "markdown",
   "metadata": {},
   "source": [
    "Si se intenta construir un objeto con campos de distinto tipo se obtendrá un error"
   ]
  },
  {
   "cell_type": "code",
   "execution_count": null,
   "metadata": {},
   "outputs": [],
   "source": [
    "TipoParam(1, 1.)"
   ]
  },
  {
   "cell_type": "markdown",
   "metadata": {},
   "source": [
    "Esto se puede solucionar mediante la introducción de más parámetros en la definición del tipo"
   ]
  },
  {
   "cell_type": "code",
   "execution_count": null,
   "metadata": {},
   "outputs": [],
   "source": [
    "struct Tipo2Params{S, T}\n",
    "    campo1::S\n",
    "    campo2::T\n",
    "end"
   ]
  },
  {
   "cell_type": "code",
   "execution_count": null,
   "metadata": {},
   "outputs": [],
   "source": [
    "Tipo2Params(1, \"s\")"
   ]
  },
  {
   "cell_type": "markdown",
   "metadata": {},
   "source": [
    "Los tipos paramétricos pueden ser restringidos a un subconjunto de todos los tipos disponible en Julia, para esto se hace uso de la notación `T <: Tipo` donde `T` es el parámetro, este enunciado se lee: `T` es un subtipo de `Tipo`, a diferencia de lo visto en la primer parte de este notebook, en este contexto esta sintáxis representa una afirmación."
   ]
  },
  {
   "cell_type": "code",
   "execution_count": null,
   "metadata": {},
   "outputs": [],
   "source": [
    "struct ParamRestr{T <: Real}\n",
    "    campo::T\n",
    "end"
   ]
  },
  {
   "cell_type": "code",
   "execution_count": null,
   "metadata": {},
   "outputs": [],
   "source": [
    "ParamRestr(2.)"
   ]
  },
  {
   "cell_type": "code",
   "execution_count": null,
   "metadata": {},
   "outputs": [],
   "source": [
    "ParamRestr(2 + 2im)"
   ]
  },
  {
   "cell_type": "markdown",
   "metadata": {},
   "source": [
    "Los tipos paramétricos son una manera conveniente de definir objetos de cualquier clase obteniendo un mejor rendimento que empleando definiciones sin especificar el tipo de los campos(como las primeras definiciones que se vieron al principio de este notebook), esto se debe a que el compilador de Julia es capaz de determinar los valores que tendrán los campos del tipo con sólo ver la definición de éste, puede leerse más acerca de esto en la sección de [\"Performance Tips\"](https://docs.julialang.org/en/v1/manual/performance-tips/#Type-declarations-1) de la documentación de Julia."
   ]
  },
  {
   "cell_type": "code",
   "execution_count": null,
   "metadata": {},
   "outputs": [],
   "source": [
    "struct Cubo\n",
    "    largo\n",
    "    ancho\n",
    "    alto\n",
    "end\n",
    "volumen(c::Cubo) = c.largo * c.ancho * c.alto\n",
    "\n",
    "struct Cubo2\n",
    "    largo::Float64\n",
    "    ancho::Float64\n",
    "    alto::Float64\n",
    "end\n",
    "volumen(c::Cubo2) = c.largo * c.ancho * c.alto\n",
    "\n",
    "struct Cubo3{T <: Real}\n",
    "    largo::T\n",
    "    ancho::T\n",
    "    alto::T\n",
    "end\n",
    "\n",
    "volumen(c::Cubo3) = c.largo * c.ancho * c.alto"
   ]
  },
  {
   "cell_type": "code",
   "execution_count": null,
   "metadata": {},
   "outputs": [],
   "source": [
    "c1 = Cubo(2.1, 2.2, 2.3)\n",
    "c2 = Cubo2(2.1, 2.2, 2.3)\n",
    "c3 = Cubo3(2.1, 2.2, 2.3)"
   ]
  },
  {
   "cell_type": "code",
   "execution_count": null,
   "metadata": {},
   "outputs": [],
   "source": [
    "volumen(c1) == volumen(c2) == volumen(c3)"
   ]
  },
  {
   "cell_type": "code",
   "execution_count": null,
   "metadata": {},
   "outputs": [],
   "source": [
    "#using Pkg"
   ]
  },
  {
   "cell_type": "code",
   "execution_count": null,
   "metadata": {},
   "outputs": [],
   "source": [
    "#import Pkg\n",
    "#Pkg.add(\"BenchmarkTools\")"
   ]
  },
  {
   "cell_type": "code",
   "execution_count": null,
   "metadata": {},
   "outputs": [],
   "source": [
    "using BenchmarkTools"
   ]
  },
  {
   "cell_type": "code",
   "execution_count": null,
   "metadata": {},
   "outputs": [],
   "source": [
    "@btime volumen(c1)"
   ]
  },
  {
   "cell_type": "code",
   "execution_count": null,
   "metadata": {},
   "outputs": [],
   "source": [
    "@btime volumen(c2)"
   ]
  },
  {
   "cell_type": "markdown",
   "metadata": {},
   "source": [
    "**En general, ser más específico respecto a los valores que pueden tomar los campos de nuestros tipos se traduce en que el compilador de Julia pueda generar código más eficiente.**"
   ]
  },
  {
   "cell_type": "markdown",
   "metadata": {},
   "source": [
    "## <font color = \"darkblue\"> Métodos</font>"
   ]
  },
  {
   "cell_type": "markdown",
   "metadata": {},
   "source": [
    "En Julia para una función dada pueden existir diversas definiciones(métodos) las cuales se aplican dependiendo del tipo de argumentos con las que la función es llamada, a esto se le conoce como *multiple dispatch*, esto permite definir comportamientos distintos de nuestra función para diversos casos, ya hemos visto ejemplos de esto, por ejemplo con operaciones elementales"
   ]
  },
  {
   "cell_type": "markdown",
   "metadata": {},
   "source": [
    "Podemos ver cuáles son los métodos de una función utilizando la función `methods`"
   ]
  },
  {
   "cell_type": "code",
   "execution_count": null,
   "metadata": {},
   "outputs": [],
   "source": [
    "methods(+)"
   ]
  },
  {
   "cell_type": "markdown",
   "metadata": {},
   "source": [
    "Siempre será más útil dar explícitamente el tipo de los argumentos de la función mediante la sintáxis\n",
    "\n",
    "```julia\n",
    "function mi_func(x::TipoA, y::TipoB)\n",
    "    ...\n",
    "end\n",
    "```\n"
   ]
  },
  {
   "cell_type": "code",
   "execution_count": null,
   "metadata": {},
   "outputs": [],
   "source": [
    "f3(x::Int64, y::Int64) = (x^2, y^2)\n",
    "g3(x::Int64, y::Int64) = (x +y, x- y)"
   ]
  },
  {
   "cell_type": "code",
   "execution_count": null,
   "metadata": {},
   "outputs": [],
   "source": [
    "g3(3,3) + f3(2 ,2)"
   ]
  },
  {
   "cell_type": "markdown",
   "metadata": {},
   "source": [
    "**En varias aplicaciones será útil poder escribir métodos de funciones presentes en Julia base para nuestros propios tipos, para poder hacer esto es necesario importar las funciones que queremos \"extender\" y posteriormente escribir el método correspondiente a nuestro tipo, veamos un ejemplo de esto creando la suma de funciones de la celda anterior.**"
   ]
  },
  {
   "cell_type": "markdown",
   "metadata": {},
   "source": [
    "Para poder *extender* los operadores `+`, `-`, `*`, `/` y `^`, primero debemos importarlas:"
   ]
  },
  {
   "cell_type": "code",
   "execution_count": null,
   "metadata": {},
   "outputs": [],
   "source": [
    "# Importamos la definición de los siguientes operadores\n",
    "import Base: +, -, *, /, ^"
   ]
  },
  {
   "cell_type": "markdown",
   "metadata": {},
   "source": [
    "**Con esta definición, podemos extender las operaciones aritméticas al igual que las funciones elementales.**\n",
    "\n",
    "Y ahora las extendemos a conveniencia:"
   ]
  },
  {
   "cell_type": "code",
   "execution_count": null,
   "metadata": {},
   "outputs": [],
   "source": [
    "+(f3::Tuple, g3::Tuple) = f3 .+  g3"
   ]
  },
  {
   "cell_type": "code",
   "execution_count": null,
   "metadata": {},
   "outputs": [],
   "source": [
    "f3(x::Int64, y::Int64) = (x^2, y^2)\n",
    "g3(x::Int64, y::Int64) = (x +y, x- y)"
   ]
  },
  {
   "cell_type": "code",
   "execution_count": null,
   "metadata": {},
   "outputs": [],
   "source": [
    "g3(3,3) + f3(2 ,2)"
   ]
  },
  {
   "cell_type": "markdown",
   "metadata": {},
   "source": [
    "**Otro ejemplo: Números Complejos**"
   ]
  },
  {
   "cell_type": "code",
   "execution_count": null,
   "metadata": {},
   "outputs": [],
   "source": [
    "struct Complejo{S, T}\n",
    "    a::S\n",
    "    b::T\n",
    "end"
   ]
  },
  {
   "cell_type": "code",
   "execution_count": null,
   "metadata": {},
   "outputs": [],
   "source": [
    "+(c1::Complejo, c2::Complejo) = Complejo(c1.a + c2.a, c1.b + c2.b)\n",
    "-(c1::Complejo, c2::Complejo) = Complejo(c1.a - c2.a, c1.b - c2.b)\n",
    "*(c1::Complejo, c2::Complejo) = Complejo((c1.a * c2.a) - (c1.b * c2.b), (c1.a * c2.b) + (c1.b * c2.a)) "
   ]
  },
  {
   "cell_type": "code",
   "execution_count": null,
   "metadata": {},
   "outputs": [],
   "source": [
    "c1 = Complejo(1., 2)\n",
    "c2 = Complejo(2, 2.)"
   ]
  },
  {
   "cell_type": "code",
   "execution_count": null,
   "metadata": {},
   "outputs": [],
   "source": [
    "c1 + c2"
   ]
  },
  {
   "cell_type": "code",
   "execution_count": null,
   "metadata": {},
   "outputs": [],
   "source": [
    "c1 - c2"
   ]
  },
  {
   "cell_type": "code",
   "execution_count": null,
   "metadata": {},
   "outputs": [],
   "source": []
  }
 ],
 "metadata": {
  "@webio": {
   "lastCommId": null,
   "lastKernelId": null
  },
  "kernelspec": {
   "display_name": "Julia 1.3.1",
   "language": "julia",
   "name": "julia-1.3"
  },
  "language_info": {
   "file_extension": ".jl",
   "mimetype": "application/julia",
   "name": "julia",
   "version": "1.3.1"
  }
 },
 "nbformat": 4,
 "nbformat_minor": 2
}
