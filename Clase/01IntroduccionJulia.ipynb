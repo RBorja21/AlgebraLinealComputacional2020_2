{
 "cells": [
  {
   "cell_type": "markdown",
   "metadata": {},
   "source": [
    "# Qué es Jupyter Notebook? \n",
    "\n",
    "Es un documento que  permite tener código ejecutable y texto en la misma página web."
   ]
  },
  {
   "cell_type": "markdown",
   "metadata": {},
   "source": [
    "# Introducción a Julia \n",
    "\n",
    "## 1. Variables\n",
    "\n",
    "Una variable, en Julia, es un nombre asociado (o vinculado) a un valor. Es útil cuando se desea almacenar un valor para su uso posterior. "
   ]
  },
  {
   "cell_type": "code",
   "execution_count": null,
   "metadata": {},
   "outputs": [],
   "source": [
    "# Ejemplo \n",
    "x = 2  #<shift>+<enter> para obtener el resultado "
   ]
  },
  {
   "cell_type": "code",
   "execution_count": null,
   "metadata": {},
   "outputs": [],
   "source": [
    "# Números como  π están definidos:\n",
    "\n",
    "π # \\pi<TAB>"
   ]
  },
  {
   "cell_type": "markdown",
   "metadata": {},
   "source": [
    "Julia permite usar otro tipo de números, por ejemplo, números complejos."
   ]
  },
  {
   "cell_type": "code",
   "execution_count": null,
   "metadata": {},
   "outputs": [],
   "source": [
    "y = complex(1,2) "
   ]
  },
  {
   "cell_type": "markdown",
   "metadata": {},
   "source": [
    "**Operadores básicos** \n",
    "\n",
    "- suma:      +\n",
    "- resta:     -\n",
    "- división:  /\n",
    "- potencia:  ^"
   ]
  },
  {
   "cell_type": "code",
   "execution_count": null,
   "metadata": {},
   "outputs": [],
   "source": [
    "#= \n",
    "crea una variable x que contenga el valor 32 resultado de la quinta potencia\n",
    "del entero 2\n",
    "=#\n",
    "\n",
    "# code ~ 1 line \n"
   ]
  },
  {
   "cell_type": "markdown",
   "metadata": {},
   "source": [
    "**Salida Esperada**:\n",
    "<table style = \"width:40%\">\n",
    "    <tr>\n",
    "    <td> x </td>\n",
    "        <td> 32 </td>\n",
    "    </tr>\n",
    "    \n",
    "</table>"
   ]
  },
  {
   "cell_type": "markdown",
   "metadata": {},
   "source": [
    "## 2. Estructuras o tipos \n",
    "\n",
    "- Diccionarios \n",
    "- Tuplas \n",
    "- Arrays \n",
    "\n",
    "La instrucción `typeof` sirve para saber el tipo de estructura de una variable o algún valor.\n",
    "\n",
    "\n",
    "###  <span style=\"color:blue\">  Diccionarios</span>\n",
    "\n",
    "`Dict(\"Key1\" => valor1, ... ,\"keyn\" => valorn)`\n",
    "\n",
    "Son mutables."
   ]
  },
  {
   "cell_type": "code",
   "execution_count": null,
   "metadata": {},
   "outputs": [],
   "source": [
    "myphonebook = Dict(\"Juan\" => 4555, \"Pablo\" => \"456-234\")"
   ]
  },
  {
   "cell_type": "code",
   "execution_count": null,
   "metadata": {},
   "outputs": [],
   "source": [
    "typeof(myphonebook)"
   ]
  },
  {
   "cell_type": "code",
   "execution_count": null,
   "metadata": {},
   "outputs": [],
   "source": [
    "myphonebook[\"Juan\"]"
   ]
  },
  {
   "cell_type": "code",
   "execution_count": null,
   "metadata": {},
   "outputs": [],
   "source": [
    "myphonebook[\"Juan\"] = 21\n",
    "myphonebook[\"Juan\"]"
   ]
  },
  {
   "cell_type": "code",
   "execution_count": null,
   "metadata": {},
   "outputs": [],
   "source": [
    "myphonebook[\"Nuevo\"] = \"345\"\n",
    "myphonebook"
   ]
  },
  {
   "cell_type": "code",
   "execution_count": null,
   "metadata": {},
   "outputs": [],
   "source": [
    "#Eliminar elemento pop!\n",
    "pop!(myphonebook, \"Nuevo\")\n",
    "myphonebook"
   ]
  },
  {
   "cell_type": "markdown",
   "metadata": {},
   "source": [
    "#### ¿Cómo obtener ayuda de Jupyter? \n",
    "\n",
    "`?función`\n"
   ]
  },
  {
   "cell_type": "code",
   "execution_count": null,
   "metadata": {},
   "outputs": [],
   "source": [
    "?pop!"
   ]
  },
  {
   "cell_type": "markdown",
   "metadata": {},
   "source": [
    "## <span style=\"color:blue\">  Tuplas</span>\n",
    "\n",
    "Podemos crear una tupla encerrando una secuencia ordenada de elementos en `()`\n"
   ]
  },
  {
   "cell_type": "code",
   "execution_count": null,
   "metadata": {},
   "outputs": [],
   "source": [
    "mytuple = (\"Hola\", \"Mundo\", 3)"
   ]
  },
  {
   "cell_type": "code",
   "execution_count": null,
   "metadata": {},
   "outputs": [],
   "source": [
    "mytuple[1]"
   ]
  },
  {
   "cell_type": "markdown",
   "metadata": {},
   "source": [
    "**Las tuplas no son mutables!**"
   ]
  },
  {
   "cell_type": "code",
   "execution_count": null,
   "metadata": {},
   "outputs": [],
   "source": [
    "mytuple[1] = \"Hello\""
   ]
  },
  {
   "cell_type": "markdown",
   "metadata": {},
   "source": [
    "## <span style=\"color:blue\">  Arrays</span>\n",
    "\n",
    "Podemos crear un aray encerrando esta secuencia de elementos en `[]`\n",
    "\n",
    "\n",
    "Para definir **vectores (columna** usamos corchetes y separamos los elementos con \",\":"
   ]
  },
  {
   "cell_type": "code",
   "execution_count": null,
   "metadata": {},
   "outputs": [],
   "source": [
    "v = [1, 2, 3]"
   ]
  },
  {
   "cell_type": "code",
   "execution_count": null,
   "metadata": {},
   "outputs": [],
   "source": [
    "typeof(v)"
   ]
  },
  {
   "cell_type": "markdown",
   "metadata": {},
   "source": [
    "Para accesar las distintas componentes de un vector, usamos nuevamente los corchetes y el índice del elemento, empezando a contar con el `1`:"
   ]
  },
  {
   "cell_type": "code",
   "execution_count": null,
   "metadata": {},
   "outputs": [],
   "source": [
    "v[1]"
   ]
  },
  {
   "cell_type": "code",
   "execution_count": null,
   "metadata": {},
   "outputs": [],
   "source": [
    "v[end]  # `end` indica el último elemento del vector"
   ]
  },
  {
   "cell_type": "code",
   "execution_count": null,
   "metadata": {},
   "outputs": [],
   "source": [
    "v + 1"
   ]
  },
  {
   "cell_type": "code",
   "execution_count": null,
   "metadata": {},
   "outputs": [],
   "source": [
    "#En Julia se aplican las operaciones a cada elemento de la siguiente forma\n",
    "v .+ 2"
   ]
  },
  {
   "cell_type": "markdown",
   "metadata": {},
   "source": [
    "Para crear un **vector renglón** usamos espacios \" \" para separar los elementos:\n",
    "\n",
    "La instrucción `ans` es un atajo para referirse al último resultado obtenido, y sólo se utiliza en cálculos interactivos."
   ]
  },
  {
   "cell_type": "code",
   "execution_count": null,
   "metadata": {},
   "outputs": [],
   "source": [
    "w = [1 2 3]"
   ]
  },
  {
   "cell_type": "code",
   "execution_count": null,
   "metadata": {},
   "outputs": [],
   "source": [
    "typeof(ans) "
   ]
  },
  {
   "cell_type": "markdown",
   "metadata": {},
   "source": [
    "\n",
    "Vale la pena notar que un vector renglón es, de hecho, una matriz de dimensión 1xN, en este caso N=3. \n",
    "\n",
    "\n",
    "Uno también puede generar un vector renglón como el traspuesto de un vector columna:"
   ]
  },
  {
   "cell_type": "code",
   "execution_count": null,
   "metadata": {},
   "outputs": [],
   "source": [
    "z = transpose(v)"
   ]
  },
  {
   "cell_type": "markdown",
   "metadata": {},
   "source": [
    "**¿Qué sucede con las siguientes igualdades?**"
   ]
  },
  {
   "cell_type": "code",
   "execution_count": null,
   "metadata": {},
   "outputs": [],
   "source": [
    "w == z "
   ]
  },
  {
   "cell_type": "code",
   "execution_count": null,
   "metadata": {},
   "outputs": [],
   "source": [
    "w === z"
   ]
  },
  {
   "cell_type": "markdown",
   "metadata": {},
   "source": [
    "\n",
    "`==`, verifica la identidad numérica\n",
    "\n",
    "`===`, verifica la identidad de la representación en memoria, es decir, que los dos objetos son idénticos e indistinguibles."
   ]
  },
  {
   "cell_type": "markdown",
   "metadata": {},
   "source": [
    "\n",
    "Las **matrices** se pueden contruir como \"vectores de vectores\". Así, por ejemplo, tenemos:"
   ]
  },
  {
   "cell_type": "code",
   "execution_count": null,
   "metadata": {},
   "outputs": [],
   "source": [
    "A = [[1, 4, 7] [2, 5, 9] [3, 6, 4]]\n",
    "\n",
    "# o \n",
    "\n",
    "B = [1 2 3; 4 5 6; 7 9 4];"
   ]
  },
  {
   "cell_type": "code",
   "execution_count": null,
   "metadata": {},
   "outputs": [],
   "source": [
    "A"
   ]
  },
  {
   "cell_type": "code",
   "execution_count": null,
   "metadata": {},
   "outputs": [],
   "source": [
    "B"
   ]
  },
  {
   "cell_type": "code",
   "execution_count": null,
   "metadata": {},
   "outputs": [],
   "source": [
    "ans == A"
   ]
  },
  {
   "cell_type": "code",
   "execution_count": null,
   "metadata": {},
   "outputs": [],
   "source": [
    "A[:,2] # Esto muestra la columna 2"
   ]
  },
  {
   "cell_type": "code",
   "execution_count": null,
   "metadata": {},
   "outputs": [],
   "source": [
    "A[2,:] # Esto muestra el renglón 2"
   ]
  },
  {
   "cell_type": "code",
   "execution_count": null,
   "metadata": {},
   "outputs": [],
   "source": [
    "#= \n",
    "A partir de la matriz A obtén los últimos 2 elementos del tercer renglón\n",
    "=#\n",
    "\n",
    "# code ~ 1 line \n"
   ]
  },
  {
   "cell_type": "markdown",
   "metadata": {},
   "source": [
    "**Salida Esperada**:\n",
    "<table style = \"width:40%\">\n",
    "    <tr>\n",
    "    <td> A[algo] </td>\n",
    "        <td> 9 4 </td>\n",
    "    </tr>\n",
    "    \n",
    "</table>"
   ]
  },
  {
   "cell_type": "markdown",
   "metadata": {},
   "source": [
    "**Inversa de una matriz**"
   ]
  },
  {
   "cell_type": "code",
   "execution_count": null,
   "metadata": {},
   "outputs": [],
   "source": [
    "B = [BigInt(1) BigInt(2) BigInt(3); BigInt(4) BigInt(5) BigInt(6); BigInt(7) BigInt(9) BigInt(4)];"
   ]
  },
  {
   "cell_type": "code",
   "execution_count": null,
   "metadata": {},
   "outputs": [],
   "source": [
    "A * A^-1"
   ]
  },
  {
   "cell_type": "code",
   "execution_count": null,
   "metadata": {},
   "outputs": [],
   "source": [
    "A * inv(A)"
   ]
  },
  {
   "cell_type": "code",
   "execution_count": null,
   "metadata": {},
   "outputs": [],
   "source": [
    "B * B^-1"
   ]
  },
  {
   "cell_type": "markdown",
   "metadata": {},
   "source": [
    "Para añadir un elemento al final de un vector, se puede utilizar `push!`:"
   ]
  },
  {
   "cell_type": "code",
   "execution_count": null,
   "metadata": {},
   "outputs": [],
   "source": [
    "v"
   ]
  },
  {
   "cell_type": "code",
   "execution_count": null,
   "metadata": {},
   "outputs": [],
   "source": [
    "push!(v, 4)\n",
    "v"
   ]
  },
  {
   "cell_type": "markdown",
   "metadata": {},
   "source": [
    "\n",
    "Para borrar elementos de un vector se utilizan las funciones `pop!`, que borra el último elemento, o `deleteat!` que borra un elemento a través del índice:"
   ]
  },
  {
   "cell_type": "code",
   "execution_count": null,
   "metadata": {},
   "outputs": [],
   "source": [
    "pop!(v)\n",
    "v"
   ]
  },
  {
   "cell_type": "code",
   "execution_count": null,
   "metadata": {},
   "outputs": [],
   "source": [
    "deleteat!(v, 1)\n",
    "v[1]"
   ]
  },
  {
   "cell_type": "markdown",
   "metadata": {},
   "source": [
    "Algunas funciones útiles que permiten saber cosas sobre los vectores y matrices son: `size`,`length`, y `eltype`."
   ]
  },
  {
   "cell_type": "code",
   "execution_count": null,
   "metadata": {},
   "outputs": [],
   "source": [
    "size(A)"
   ]
  },
  {
   "cell_type": "code",
   "execution_count": null,
   "metadata": {},
   "outputs": [],
   "source": [
    "length(v)"
   ]
  },
  {
   "cell_type": "code",
   "execution_count": null,
   "metadata": {},
   "outputs": [],
   "source": [
    "eltype(v)"
   ]
  },
  {
   "cell_type": "markdown",
   "metadata": {},
   "source": [
    "# Bucles \n",
    "\n",
    "1. `while`\n",
    "2. `for`\n",
    "\n",
    "Todo ciclo `for` o `while` debe acabar con un `end`\n"
   ]
  },
  {
   "cell_type": "markdown",
   "metadata": {},
   "source": [
    "## <span style=\"color:blue\">  while</span>\n",
    "\n",
    "\n",
    "\n",
    "```julia\n",
    "while *condición*\n",
    "    *cuerpo del bucle*\n",
    "end\n",
    "```"
   ]
  },
  {
   "cell_type": "code",
   "execution_count": null,
   "metadata": {},
   "outputs": [],
   "source": [
    "n = 0 \n",
    "while n < 10\n",
    "    n += 1 \n",
    "    println(\"$n\")\n",
    "end"
   ]
  },
  {
   "cell_type": "markdown",
   "metadata": {},
   "source": [
    "## <span style=\"color:blue\">  for</span> \n",
    "\n",
    "```julia\n",
    "for *variable* in *objeto_iterable*\n",
    "    *cuerpo del bucle*\n",
    "end\n",
    "```"
   ]
  },
  {
   "cell_type": "code",
   "execution_count": null,
   "metadata": {},
   "outputs": [],
   "source": [
    "for i in 0:0.2:1\n",
    "    println(i)\n",
    "end"
   ]
  },
  {
   "cell_type": "markdown",
   "metadata": {},
   "source": [
    "## Nota: se puede reemplazar  `in` por `=` o $\\in$"
   ]
  },
  {
   "cell_type": "code",
   "execution_count": null,
   "metadata": {},
   "outputs": [],
   "source": [
    "for i ∈ 0:0.2:1\n",
    "    println(i)\n",
    "end"
   ]
  },
  {
   "cell_type": "code",
   "execution_count": null,
   "metadata": {},
   "outputs": [],
   "source": [
    "m, n = 2, 5\n",
    "A = zeros(m, n)"
   ]
  },
  {
   "cell_type": "code",
   "execution_count": null,
   "metadata": {},
   "outputs": [],
   "source": [
    "for i in 1:m\n",
    "    for j in 1:n\n",
    "        A[i, j]  = i + j\n",
    "    end\n",
    "end\n",
    "A"
   ]
  },
  {
   "cell_type": "code",
   "execution_count": null,
   "metadata": {},
   "outputs": [],
   "source": [
    "B = zeros(m, n)"
   ]
  },
  {
   "cell_type": "code",
   "execution_count": null,
   "metadata": {},
   "outputs": [],
   "source": [
    "for i in 1:m, j in 1:n\n",
    "    B[i, j] = i + j\n",
    "end\n",
    "B"
   ]
  },
  {
   "cell_type": "markdown",
   "metadata": {},
   "source": [
    "Se pueden generar vectores usando ciclos for, en lo que se conoce como \"entendimientos\" (comprehensions)."
   ]
  },
  {
   "cell_type": "code",
   "execution_count": null,
   "metadata": {},
   "outputs": [],
   "source": [
    "F = [i^2 for i=0:5]\n",
    "F"
   ]
  },
  {
   "cell_type": "markdown",
   "metadata": {},
   "source": [
    "## <span style=\"color:blue\">  Condicionales</span> \n",
    "\n",
    "```julia\n",
    "if *condicion*\n",
    "    * opcion 1*\n",
    "elseif *condicion 2*\n",
    "    * opcion 2*\n",
    "else \n",
    "    * opcion 3* \n",
    "end\n",
    "\n",
    "```"
   ]
  },
  {
   "cell_type": "code",
   "execution_count": null,
   "metadata": {},
   "outputs": [],
   "source": [
    "#= \n",
    "Utiliza un bucle for para iterar i sobre -1:0:5:1 y que en cada paso imprima el reultado\n",
    "de la operación s = 2 / i, sin que se genere un error en i = 0.\n",
    "=#\n",
    "\n",
    "# code ~ 8 line s\n"
   ]
  },
  {
   "cell_type": "markdown",
   "metadata": {},
   "source": [
    "**Salida Esperada**:\n",
    "<table style = \"width:40%\">\n",
    "    <tr>\n",
    "    <td> for i in -1:0.5:1 </td>\n",
    "        <td>  </td>\n",
    "    </tr>\n",
    "    \n",
    "   <tr>\n",
    "    <td> i=-1 </td>\n",
    "    <td> -2.0 </td>\n",
    "    </tr>\n",
    "   \n",
    "   <tr>\n",
    "    <td> i=-0.5 </td>\n",
    "    <td> -4.0 </td>\n",
    "    </tr>\n",
    "    \n",
    "   <tr>\n",
    "    <td> i=0.5 </td>\n",
    "    <td> 4.0 </td>\n",
    "    </tr>\n",
    "    \n",
    "    \n",
    "   <tr>\n",
    "    <td> i=1.0 </td>\n",
    "    <td> 2.0 </td>\n",
    "    </tr>\n",
    "    \n",
    "    \n",
    "</table>"
   ]
  },
  {
   "cell_type": "markdown",
   "metadata": {},
   "source": [
    "## <span style=\"color:blue\">  Funciones</span> \n",
    "\n",
    "\n",
    "Hay tres maneras de definir una función."
   ]
  },
  {
   "cell_type": "markdown",
   "metadata": {},
   "source": [
    "### \"Normales\"\n",
    "\n",
    "```julia\n",
    "function nombreFuncion(argumentos)\n",
    "    * cuerpo *\n",
    "    return * resultado *\n",
    "end\n",
    "```\n"
   ]
  },
  {
   "cell_type": "code",
   "execution_count": null,
   "metadata": {},
   "outputs": [],
   "source": [
    "#= \n",
    "Implementa un función de nombre Esfera que a partir de su radio regrese el volumen y el \n",
    "área asociada de la esfera, en forma de arreglo, cuya primer entrada es el \n",
    "área y la segunda es el volumen \n",
    "=#\n",
    "\n",
    "# Nota A = 4 π r^2 ; V=4/3 π r^3 \n",
    "# code ~ 8 "
   ]
  },
  {
   "cell_type": "markdown",
   "metadata": {},
   "source": [
    "La segunda manera de definir una función es en una línea, como es común ver cosas escritas en matemáticas. El caso anterior podría haber sido definido de la siguiente manera:\n",
    "\n",
    "nombreFuncion(argumentos) = * Cuerpo *"
   ]
  },
  {
   "cell_type": "code",
   "execution_count": null,
   "metadata": {},
   "outputs": [],
   "source": [
    "f2(x) = x^2"
   ]
  },
  {
   "cell_type": "code",
   "execution_count": null,
   "metadata": {},
   "outputs": [],
   "source": [
    "f2(2)"
   ]
  },
  {
   "cell_type": "markdown",
   "metadata": {},
   "source": [
    "Un tercer método para definir funciones es lo que se llama funciones anónimas. Nuevamente, su construcción es usual en las matemáticas, excepto por que no tienen nombre."
   ]
  },
  {
   "cell_type": "code",
   "execution_count": null,
   "metadata": {},
   "outputs": [],
   "source": [
    "r -> x^2  # función anónima"
   ]
  },
  {
   "cell_type": "code",
   "execution_count": null,
   "metadata": {},
   "outputs": [],
   "source": [
    "g = x -> x^2  # `g` es el nombre de la función anónima"
   ]
  },
  {
   "cell_type": "code",
   "execution_count": null,
   "metadata": {},
   "outputs": [],
   "source": [
    "g(2)"
   ]
  },
  {
   "cell_type": "markdown",
   "metadata": {},
   "source": [
    "## <span style=\"color:blue\">  Paquetes</span> "
   ]
  },
  {
   "cell_type": "markdown",
   "metadata": {},
   "source": [
    "Julia cuenta con **muchos** paquetes que hacen una gran diversidad de cosas. Una lista de los paquetes \"registrados\" se encuentra [aquí](https://pkg.julialang.org/)."
   ]
  },
  {
   "cell_type": "markdown",
   "metadata": {},
   "source": [
    "Para agregar un paquete en Julia 1.x hacemos:\n",
    "\n",
    "```julia\n",
    "using Pkg\n",
    "Pkg.add(\"NombrePaquete\")\n",
    "```\n"
   ]
  },
  {
   "cell_type": "markdown",
   "metadata": {},
   "source": [
    "Los paquetes con los que comenzaremos a trabajar son: \n",
    "- Plots\n",
    "- LinearAlgebre\n",
    "- Interact "
   ]
  },
  {
   "cell_type": "markdown",
   "metadata": {},
   "source": [
    "Para instalarlos se ejecutan las siguientes instrucciones:"
   ]
  },
  {
   "cell_type": "code",
   "execution_count": null,
   "metadata": {},
   "outputs": [],
   "source": [
    "using Pkg"
   ]
  },
  {
   "cell_type": "code",
   "execution_count": null,
   "metadata": {},
   "outputs": [],
   "source": [
    "#Instalar Plots\n",
    "Pkd.add(\"Plots\")"
   ]
  },
  {
   "cell_type": "code",
   "execution_count": null,
   "metadata": {},
   "outputs": [],
   "source": [
    "#Instalar LinearAlgebra\n",
    "Pkg.add(\"LinearAlgebra\")"
   ]
  },
  {
   "cell_type": "code",
   "execution_count": null,
   "metadata": {},
   "outputs": [],
   "source": [
    "#Instalar Interact\n",
    "Pkg.add(\"Interact\")\n",
    "Pkg.add(\"WebIO\")\n"
   ]
  },
  {
   "cell_type": "code",
   "execution_count": null,
   "metadata": {},
   "outputs": [],
   "source": [
    "#continuación de instalación de Interact \n",
    "using WebIO\n",
    "WebIO.install_jupyter_nbextension()\n",
    "\n",
    "#Reiniciar el kernel "
   ]
  },
  {
   "cell_type": "markdown",
   "metadata": {},
   "source": [
    "####  El paquete Plots.jl\n",
    "\n",
    "\n",
    "El paquete `Plots.jl` nos permite hacer gráficas en Julia de una manera sencilla y rápida.\n",
    "Si ahora queremos usar el paquete, debemos importarlo utilizando el comando Using seguido del nobre del paquete:"
   ]
  },
  {
   "cell_type": "code",
   "execution_count": null,
   "metadata": {},
   "outputs": [],
   "source": [
    "using Plots"
   ]
  },
  {
   "cell_type": "markdown",
   "metadata": {},
   "source": [
    "## Backends\n",
    "\n",
    "`Plots.jl` es un paquete que nos permite realizar gráficas en distintos estilos predeterminados, que se denominan **backends**. Hay aunque hay muchos backends, hay algunos que debemos destacar:\n",
    "\n",
    "1. `GR` Backend default de Plots. Rápido, simple y elegante, e installado por default con `Plots.jl`\n",
    "2. `PlotlyJS` Backend creado sobre la librería de Javascript [Plotly](https://plot.ly/javascript/line-and-scatter/). Crea gráficas interactivas. Debe de ser installado por su cuenta utilizando `Pkg.add(\"PlotlyJS\")`.\n",
    "3. `pyplot` Backend creado sobre la librería de Python [Matplotlib](https://matplotlib.org/tutorials/introductory/sample_plots.html). Debe de ser installado por su cuenta utilizando `Pkg.add(\"pyplot\")`.\n",
    "\n",
    "Para declarar que Backend queremos usar, simplemente debemos de escribir una línea con el nombre del backend **en minúsculas** y paréntesis al final, como si fuera una función sin argumentos:"
   ]
  },
  {
   "cell_type": "code",
   "execution_count": null,
   "metadata": {},
   "outputs": [],
   "source": [
    "# declaramos gr como backend:\n",
    "gr()"
   ]
  },
  {
   "cell_type": "markdown",
   "metadata": {},
   "source": [
    "## Líneas y puntos\n",
    "\n",
    "Las primeras gráficas que nos interesa realizar son las más simples: graficar una serie de puntos unida por líneas y graficar puntos aislados. Para esto debemos utilizar las funciones `plot` y `scatter`. Cada función tiene la siguiente sintaxis:\n",
    "\n",
    "```julia\n",
    "    plot(xs,ys)\n",
    "    scatter(xs,ys)\n",
    "```\n",
    "\n",
    "Aquí, `xs` y `ys` son arreglos de números. Estos deben de ser del mismo tamaño, pues de lo contrario las funciones arrojarán un error. Las funciones así llamadas grafican los puntos `(xs[i],ys[i])` en un plano. La differencia entre ellas es que `plot` dibuja una línea entre cada par de puntos subsecuentes y `scatter` solo dibuja circulos sobre dichos puntos."
   ]
  },
  {
   "cell_type": "code",
   "execution_count": null,
   "metadata": {},
   "outputs": [],
   "source": [
    "#construye los arreglos xs y ys\n",
    "xs=-2:0.5:6\n",
    "ys=[sin(x) for x in xs]\n",
    "#graficalos\n",
    "plot(xs,ys)"
   ]
  },
  {
   "cell_type": "code",
   "execution_count": null,
   "metadata": {},
   "outputs": [],
   "source": [
    "scatter(xs,ys)"
   ]
  },
  {
   "cell_type": "markdown",
   "metadata": {},
   "source": [
    "## Juntar más de una gráfica en una misma figura\n",
    "\n",
    "Cada que llamamos una función de plots para graficar, se genera una figura autónoma. Si queremos insertar varias gráficas compatibles en una misma figura, debemos utilizar otro tipo de funciones llamadas `plot!` y `scatter!`. Estas funciones actúan de la misma manera que `plot` y `scatter`, pero en lugar de inicializar una figura nueva, añadirá la nueva gráfica a una figura ya existente:"
   ]
  },
  {
   "cell_type": "code",
   "execution_count": null,
   "metadata": {},
   "outputs": [],
   "source": [
    "xs=-2:0.5:6\n",
    "ys=[sin(x) for x in xs]\n",
    "#graficalos\n",
    "plot(xs,ys)\n",
    "scatter!(xs,ys)"
   ]
  },
  {
   "cell_type": "markdown",
   "metadata": {},
   "source": [
    "# Gráficas interactivas y animaciones\n",
    "\n",
    "Utilizando el paquete `Interact,jl` podemos crear gráficos interactivos, así como animaciones que pueden guardarse en un .gif."
   ]
  },
  {
   "cell_type": "code",
   "execution_count": null,
   "metadata": {},
   "outputs": [],
   "source": [
    "using Interact"
   ]
  },
  {
   "cell_type": "markdown",
   "metadata": {},
   "source": [
    "## Manipulación sobre un rango: sliders\n",
    "\n",
    "Podemos cambiar una gráfica para parámetros en un rango utilizando un rango en Julia. Para esto, debemos usar un ciclo `for` sobre los parámetros que queremos variar y utilizar el macro `@manipulate`."
   ]
  },
  {
   "cell_type": "code",
   "execution_count": null,
   "metadata": {},
   "outputs": [],
   "source": [
    "@manipulate for n = 1:20\n",
    "    x = -1:2/n:1\n",
    "    f(x) = -x^2 + 4\n",
    "    scatter(x, f.(x))\n",
    "    plot!(f)\n",
    "end"
   ]
  },
  {
   "cell_type": "code",
   "execution_count": null,
   "metadata": {},
   "outputs": [],
   "source": []
  }
 ],
 "metadata": {
  "@webio": {
   "lastCommId": null,
   "lastKernelId": null
  },
  "kernelspec": {
   "display_name": "Julia 1.3.1",
   "language": "julia",
   "name": "julia-1.3"
  },
  "language_info": {
   "file_extension": ".jl",
   "mimetype": "application/julia",
   "name": "julia",
   "version": "1.3.1"
  }
 },
 "nbformat": 4,
 "nbformat_minor": 2
}
