{
 "cells": [
  {
   "cell_type": "markdown",
   "metadata": {},
   "source": [
    "# Polinomios de Interpolación"
   ]
  },
  {
   "cell_type": "markdown",
   "metadata": {},
   "source": [
    "Este notebook está dirijido a trabajar  la idea de aproximar una función continua a un conjunto de datos que conocemos, por medio de la **interpolación**."
   ]
  },
  {
   "cell_type": "markdown",
   "metadata": {},
   "source": [
    "De esta manera, tenemos el siguiente problema: tenemos datos discretos y queremos calcular una función continua que los aproxime. \n",
    "\n",
    "> Precisamente: dados $m+1$ pares $(x_i, y_i)$, el problema consiste en calcular una función $\\Phi=\\Phi(x)$ tal que $\\Phi(x_i)=y_i$ para $i=0,...,m$ donde $y_i$ es alguno de los valores dado."
   ]
  },
  {
   "cell_type": "markdown",
   "metadata": {},
   "source": [
    "### Interpolación polinómica\n",
    "\n",
    "Consideremos $n+1$ pares $(x_i, y_i)$. El problema es calcular  un polinomio $\\prod_m$ $\\in$ $\\mathbb{P}_m$, llamado polinomio interpolador, de modo que: \n",
    "\n",
    "\\begin{equation}\n",
    "\\prod_m(x_i) = a_m x_i^m + ... + a_1x_i + a_0 = y_i, \\qquad i=0,...,n \\qquad \\qquad (1)\n",
    "\\end{equation}\n",
    "\n",
    "donde los puntos $x_i$ se denominan nodos de interpolación.\n",
    "\n",
    "En clase vimos que el polinomio interpolador existe y tiene la siguiente forma: \n",
    "\n",
    "\\begin{equation}\n",
    "\\prod_n(x) = \\sum_{i=0}^n y_i l_i(x) \\qquad \\qquad (2)\n",
    "\\end{equation}\n",
    "donde\n",
    "\\begin{equation}\n",
    "l_i \\in \\mathbb{P}_n: \\qquad l_i(x)=\\prod_{j=0\\\\j\\neq i}^n \\frac{x-x_j}{x_i - x_j} \\qquad i=0,...,n \\qquad \\qquad (3)\n",
    "\\end{equation}\n",
    "\n",
    "La ecuación $(2)$ se conoce como el **polinomio interpolador en la forma de Lagrange**, mientras que los $l_i (x)$ son los polinomios característicos. \n",
    "\n",
    "Un enfoque alternativo (que también vimos en clase) es que se puede expresar la ecuación $(2)$ de la siguiente manera: \n",
    "\n",
    "\\begin{equation}\n",
    "\\prod_{n} (x) = \\sum_{i=0}^n \\frac{w_{n+1}(x)}{(x-x_i)w_{n+1}^{\\prime}(x_i)} y_i \\qquad \\qquad (4)\n",
    "\\end{equation}\n",
    "\n",
    "donde $w_{n+1}$ se define como:\n",
    "\n",
    "$$ w_{n+1}(x) = \\prod_{i=0}^n (x-x_i) $$\n",
    " y \n",
    "$$ w_{n+1}^{\\prime}(x_i)=\\prod_{i=0\\\\ j\\neq i}^n (x_i - x_j)$$ "
   ]
  },
  {
   "cell_type": "markdown",
   "metadata": {},
   "source": [
    "**Ejerciico 1** \n",
    "\n",
    "- 1) Utilizando la ecuación (2) ó (4) calcula la expresión análitica que tendría el polinomio interpolador  si se interpolara el conjunto de datos $(x_1, y_1), (x_2, x_2)$\n",
    "- 2) Implementa el resultado del inciso 1 en una función de nombre Interpolacion01 y comprueba gráficamente que tu resultado sí funciona.\n",
    "- 3) Utilizando la ecuación (2) ó (4) calcula la expresión análitica que tendría el polinomio interpolador si se interpolara el conjunto de datos $(x_1, y_1), (x_2, y_2), (x_3, y_3)$\n",
    "- 4) Implementa el resultado den inciso 3 en una función de nombre Interpolación02 y comprueba gráficamente que tu resultado  sí funciona."
   ]
  },
  {
   "cell_type": "markdown",
   "metadata": {},
   "source": [
    "**Solución** \n",
    "1) L(x) = l1* y1 + l2 * y2\n",
    "\n",
    "$l1(x)= \\frac{x - x_2}{x_1 - x_2} $\n",
    "\n",
    "$l2(x)=\\frac{x - x_1}{x_2 - x_1}$"
   ]
  },
  {
   "cell_type": "code",
   "execution_count": 1,
   "metadata": {},
   "outputs": [
    {
     "data": {
      "text/html": [
       "<script>\n",
       "// Immediately-invoked-function-expression to avoid global variables.\n",
       "(function() {\n",
       "    var warning_div = document.getElementById(\"webio-warning-15735920982741487395\");\n",
       "    var hide = function () {\n",
       "        var script = document.getElementById(\"webio-setup-2232150069727835380\");\n",
       "        var parent = script && script.parentElement;\n",
       "        var grandparent = parent && parent.parentElement;\n",
       "        if (grandparent) {\n",
       "            grandparent.style.display = \"none\";\n",
       "        }\n",
       "        warning_div.style.display = \"none\";\n",
       "    };\n",
       "    if (typeof Jupyter !== \"undefined\") {\n",
       "        console.log(\"WebIO detected Jupyter notebook environment.\");\n",
       "        // Jupyter notebook.\n",
       "        var extensions = (\n",
       "            Jupyter\n",
       "            && Jupyter.notebook.config.data\n",
       "            && Jupyter.notebook.config.data.load_extensions\n",
       "        );\n",
       "        if (extensions && extensions[\"webio-jupyter-notebook\"]) {\n",
       "            // Extension already loaded.\n",
       "            console.log(\"Jupyter WebIO nbextension detected; not loading ad-hoc.\");\n",
       "            hide();\n",
       "            return;\n",
       "        }\n",
       "    } else if (window.location.pathname.includes(\"/lab\")) {\n",
       "        // Guessing JupyterLa\n",
       "        console.log(\"Jupyter Lab detected; make sure the @webio/jupyter-lab-provider labextension is installed.\");\n",
       "        hide();\n",
       "        return;\n",
       "    }\n",
       "})();\n",
       "\n",
       "</script>\n",
       "<p\n",
       "    id=\"webio-warning-15735920982741487395\"\n",
       "    class=\"output_text output_stderr\"\n",
       "    style=\"padding: 1em; font-weight: bold;\"\n",
       ">\n",
       "    Unable to load WebIO. Please make sure WebIO works for your Jupyter client.\n",
       "    For troubleshooting, please see <a href=\"https://juliagizmos.github.io/WebIO.jl/latest/providers/ijulia/\">\n",
       "    the WebIO/IJulia documentation</a>.\n",
       "    <!-- TODO: link to installation docs. -->\n",
       "</p>\n"
      ],
      "text/plain": [
       "HTML{String}(\"<script>\\n// Immediately-invoked-function-expression to avoid global variables.\\n(function() {\\n    var warning_div = document.getElementById(\\\"webio-warning-15735920982741487395\\\");\\n    var hide = function () {\\n        var script = document.getElementById(\\\"webio-setup-2232150069727835380\\\");\\n        var parent = script && script.parentElement;\\n        var grandparent = parent && parent.parentElement;\\n        if (grandparent) {\\n            grandparent.style.display = \\\"none\\\";\\n        }\\n        warning_div.style.display = \\\"none\\\";\\n    };\\n    if (typeof Jupyter !== \\\"undefined\\\") {\\n        console.log(\\\"WebIO detected Jupyter notebook environment.\\\");\\n        // Jupyter notebook.\\n        var extensions = (\\n            Jupyter\\n            && Jupyter.notebook.config.data\\n            && Jupyter.notebook.config.data.load_extensions\\n        );\\n        if (extensions && extensions[\\\"webio-jupyter-notebook\\\"]) {\\n            // Extension already loaded.\\n            console.log(\\\"Jupyter WebIO nbextension detected; not loading ad-hoc.\\\");\\n            hide();\\n            return;\\n        }\\n    } else if (window.location.pathname.includes(\\\"/lab\\\")) {\\n        // Guessing JupyterLa\\n        console.log(\\\"Jupyter Lab detected; make sure the @webio/jupyter-lab-provider labextension is installed.\\\");\\n        hide();\\n        return;\\n    }\\n})();\\n\\n</script>\\n<p\\n    id=\\\"webio-warning-15735920982741487395\\\"\\n    class=\\\"output_text output_stderr\\\"\\n    style=\\\"padding: 1em; font-weight: bold;\\\"\\n>\\n    Unable to load WebIO. Please make sure WebIO works for your Jupyter client.\\n    For troubleshooting, please see <a href=\\\"https://juliagizmos.github.io/WebIO.jl/latest/providers/ijulia/\\\">\\n    the WebIO/IJulia documentation</a>.\\n    <!-- TODO: link to installation docs. -->\\n</p>\\n\")"
      ]
     },
     "metadata": {},
     "output_type": "display_data"
    },
    {
     "data": {
      "text/plain": [
       "Plots.GRBackend()"
      ]
     },
     "execution_count": 1,
     "metadata": {},
     "output_type": "execute_result"
    }
   ],
   "source": [
    "using Plots  #Una sola vez\n",
    "using Interact \n",
    "using LinearAlgebra\n",
    "gr()"
   ]
  },
  {
   "cell_type": "code",
   "execution_count": 2,
   "metadata": {},
   "outputs": [
    {
     "data": {
      "text/plain": [
       "Interpolacion01 (generic function with 1 method)"
      ]
     },
     "execution_count": 2,
     "metadata": {},
     "output_type": "execute_result"
    }
   ],
   "source": [
    "# Solución 2\n",
    "function Interpolacion01(X, Y) #X = [x1, x2]\n",
    "    x1, x2 = X\n",
    "    y1, y2 = Y\n",
    "    \n",
    "    l1(x) = (1 / (x1 - x2)) * (x - x2)\n",
    "    l2(x) = (1 / (x2 - x1)) * (x - x1)\n",
    "    \n",
    "    s(x) = (y1*l1(x) + y2*l2(x))\n",
    "    return s\n",
    "end"
   ]
  },
  {
   "cell_type": "code",
   "execution_count": 3,
   "metadata": {},
   "outputs": [
    {
     "data": {
      "text/plain": [
       "s (generic function with 1 method)"
      ]
     },
     "execution_count": 3,
     "metadata": {},
     "output_type": "execute_result"
    }
   ],
   "source": [
    "X = [2, -3]\n",
    "Y = [1, 2]\n",
    "s = Interpolacion01(X, Y)"
   ]
  },
  {
   "cell_type": "code",
   "execution_count": 4,
   "metadata": {},
   "outputs": [
    {
     "data": {
      "image/svg+xml": [
       "<?xml version=\"1.0\" encoding=\"utf-8\"?>\n",
       "<svg xmlns=\"http://www.w3.org/2000/svg\" xmlns:xlink=\"http://www.w3.org/1999/xlink\" width=\"600\" height=\"400\" viewBox=\"0 0 2400 1600\">\n",
       "<defs>\n",
       "  <clipPath id=\"clip9800\">\n",
       "    <rect x=\"0\" y=\"0\" width=\"2400\" height=\"1600\"/>\n",
       "  </clipPath>\n",
       "</defs>\n",
       "<path clip-path=\"url(#clip9800)\" d=\"\n",
       "M0 1600 L2400 1600 L2400 0 L0 0  Z\n",
       "  \" fill=\"#ffffff\" fill-rule=\"evenodd\" fill-opacity=\"1\"/>\n",
       "<defs>\n",
       "  <clipPath id=\"clip9801\">\n",
       "    <rect x=\"480\" y=\"0\" width=\"1681\" height=\"1600\"/>\n",
       "  </clipPath>\n",
       "</defs>\n",
       "<path clip-path=\"url(#clip9800)\" d=\"\n",
       "M153.898 1487.47 L2352.76 1487.47 L2352.76 47.2441 L153.898 47.2441  Z\n",
       "  \" fill=\"#ffffff\" fill-rule=\"evenodd\" fill-opacity=\"1\"/>\n",
       "<defs>\n",
       "  <clipPath id=\"clip9802\">\n",
       "    <rect x=\"153\" y=\"47\" width=\"2200\" height=\"1441\"/>\n",
       "  </clipPath>\n",
       "</defs>\n",
       "<polyline clip-path=\"url(#clip9802)\" style=\"stroke:#000000; stroke-width:2; stroke-opacity:0.1; fill:none\" points=\"\n",
       "  274.839,1487.47 274.839,47.2441 \n",
       "  \"/>\n",
       "<polyline clip-path=\"url(#clip9802)\" style=\"stroke:#000000; stroke-width:2; stroke-opacity:0.1; fill:none\" points=\"\n",
       "  666.234,1487.47 666.234,47.2441 \n",
       "  \"/>\n",
       "<polyline clip-path=\"url(#clip9802)\" style=\"stroke:#000000; stroke-width:2; stroke-opacity:0.1; fill:none\" points=\"\n",
       "  1057.63,1487.47 1057.63,47.2441 \n",
       "  \"/>\n",
       "<polyline clip-path=\"url(#clip9802)\" style=\"stroke:#000000; stroke-width:2; stroke-opacity:0.1; fill:none\" points=\"\n",
       "  1449.02,1487.47 1449.02,47.2441 \n",
       "  \"/>\n",
       "<polyline clip-path=\"url(#clip9802)\" style=\"stroke:#000000; stroke-width:2; stroke-opacity:0.1; fill:none\" points=\"\n",
       "  1840.42,1487.47 1840.42,47.2441 \n",
       "  \"/>\n",
       "<polyline clip-path=\"url(#clip9802)\" style=\"stroke:#000000; stroke-width:2; stroke-opacity:0.1; fill:none\" points=\"\n",
       "  2231.81,1487.47 2231.81,47.2441 \n",
       "  \"/>\n",
       "<polyline clip-path=\"url(#clip9802)\" style=\"stroke:#000000; stroke-width:2; stroke-opacity:0.1; fill:none\" points=\"\n",
       "  153.898,1408.26 2352.76,1408.26 \n",
       "  \"/>\n",
       "<polyline clip-path=\"url(#clip9802)\" style=\"stroke:#000000; stroke-width:2; stroke-opacity:0.1; fill:none\" points=\"\n",
       "  153.898,1151.9 2352.76,1151.9 \n",
       "  \"/>\n",
       "<polyline clip-path=\"url(#clip9802)\" style=\"stroke:#000000; stroke-width:2; stroke-opacity:0.1; fill:none\" points=\"\n",
       "  153.898,895.539 2352.76,895.539 \n",
       "  \"/>\n",
       "<polyline clip-path=\"url(#clip9802)\" style=\"stroke:#000000; stroke-width:2; stroke-opacity:0.1; fill:none\" points=\"\n",
       "  153.898,639.179 2352.76,639.179 \n",
       "  \"/>\n",
       "<polyline clip-path=\"url(#clip9802)\" style=\"stroke:#000000; stroke-width:2; stroke-opacity:0.1; fill:none\" points=\"\n",
       "  153.898,382.819 2352.76,382.819 \n",
       "  \"/>\n",
       "<polyline clip-path=\"url(#clip9802)\" style=\"stroke:#000000; stroke-width:2; stroke-opacity:0.1; fill:none\" points=\"\n",
       "  153.898,126.459 2352.76,126.459 \n",
       "  \"/>\n",
       "<polyline clip-path=\"url(#clip9800)\" style=\"stroke:#000000; stroke-width:4; stroke-opacity:1; fill:none\" points=\"\n",
       "  153.898,1487.47 2352.76,1487.47 \n",
       "  \"/>\n",
       "<polyline clip-path=\"url(#clip9800)\" style=\"stroke:#000000; stroke-width:4; stroke-opacity:1; fill:none\" points=\"\n",
       "  153.898,1487.47 153.898,47.2441 \n",
       "  \"/>\n",
       "<polyline clip-path=\"url(#clip9800)\" style=\"stroke:#000000; stroke-width:4; stroke-opacity:1; fill:none\" points=\"\n",
       "  274.839,1487.47 274.839,1470.19 \n",
       "  \"/>\n",
       "<polyline clip-path=\"url(#clip9800)\" style=\"stroke:#000000; stroke-width:4; stroke-opacity:1; fill:none\" points=\"\n",
       "  666.234,1487.47 666.234,1470.19 \n",
       "  \"/>\n",
       "<polyline clip-path=\"url(#clip9800)\" style=\"stroke:#000000; stroke-width:4; stroke-opacity:1; fill:none\" points=\"\n",
       "  1057.63,1487.47 1057.63,1470.19 \n",
       "  \"/>\n",
       "<polyline clip-path=\"url(#clip9800)\" style=\"stroke:#000000; stroke-width:4; stroke-opacity:1; fill:none\" points=\"\n",
       "  1449.02,1487.47 1449.02,1470.19 \n",
       "  \"/>\n",
       "<polyline clip-path=\"url(#clip9800)\" style=\"stroke:#000000; stroke-width:4; stroke-opacity:1; fill:none\" points=\"\n",
       "  1840.42,1487.47 1840.42,1470.19 \n",
       "  \"/>\n",
       "<polyline clip-path=\"url(#clip9800)\" style=\"stroke:#000000; stroke-width:4; stroke-opacity:1; fill:none\" points=\"\n",
       "  2231.81,1487.47 2231.81,1470.19 \n",
       "  \"/>\n",
       "<polyline clip-path=\"url(#clip9800)\" style=\"stroke:#000000; stroke-width:4; stroke-opacity:1; fill:none\" points=\"\n",
       "  153.898,1408.26 180.284,1408.26 \n",
       "  \"/>\n",
       "<polyline clip-path=\"url(#clip9800)\" style=\"stroke:#000000; stroke-width:4; stroke-opacity:1; fill:none\" points=\"\n",
       "  153.898,1151.9 180.284,1151.9 \n",
       "  \"/>\n",
       "<polyline clip-path=\"url(#clip9800)\" style=\"stroke:#000000; stroke-width:4; stroke-opacity:1; fill:none\" points=\"\n",
       "  153.898,895.539 180.284,895.539 \n",
       "  \"/>\n",
       "<polyline clip-path=\"url(#clip9800)\" style=\"stroke:#000000; stroke-width:4; stroke-opacity:1; fill:none\" points=\"\n",
       "  153.898,639.179 180.284,639.179 \n",
       "  \"/>\n",
       "<polyline clip-path=\"url(#clip9800)\" style=\"stroke:#000000; stroke-width:4; stroke-opacity:1; fill:none\" points=\"\n",
       "  153.898,382.819 180.284,382.819 \n",
       "  \"/>\n",
       "<polyline clip-path=\"url(#clip9800)\" style=\"stroke:#000000; stroke-width:4; stroke-opacity:1; fill:none\" points=\"\n",
       "  153.898,126.459 180.284,126.459 \n",
       "  \"/>\n",
       "<g clip-path=\"url(#clip9800)\">\n",
       "<text style=\"fill:#000000; fill-opacity:1; font-family:Arial,Helvetica Neue,Helvetica,sans-serif; font-size:48px; text-anchor:middle;\" transform=\"rotate(0, 274.839, 1541.47)\" x=\"274.839\" y=\"1541.47\">-3</text>\n",
       "</g>\n",
       "<g clip-path=\"url(#clip9800)\">\n",
       "<text style=\"fill:#000000; fill-opacity:1; font-family:Arial,Helvetica Neue,Helvetica,sans-serif; font-size:48px; text-anchor:middle;\" transform=\"rotate(0, 666.234, 1541.47)\" x=\"666.234\" y=\"1541.47\">-2</text>\n",
       "</g>\n",
       "<g clip-path=\"url(#clip9800)\">\n",
       "<text style=\"fill:#000000; fill-opacity:1; font-family:Arial,Helvetica Neue,Helvetica,sans-serif; font-size:48px; text-anchor:middle;\" transform=\"rotate(0, 1057.63, 1541.47)\" x=\"1057.63\" y=\"1541.47\">-1</text>\n",
       "</g>\n",
       "<g clip-path=\"url(#clip9800)\">\n",
       "<text style=\"fill:#000000; fill-opacity:1; font-family:Arial,Helvetica Neue,Helvetica,sans-serif; font-size:48px; text-anchor:middle;\" transform=\"rotate(0, 1449.02, 1541.47)\" x=\"1449.02\" y=\"1541.47\">0</text>\n",
       "</g>\n",
       "<g clip-path=\"url(#clip9800)\">\n",
       "<text style=\"fill:#000000; fill-opacity:1; font-family:Arial,Helvetica Neue,Helvetica,sans-serif; font-size:48px; text-anchor:middle;\" transform=\"rotate(0, 1840.42, 1541.47)\" x=\"1840.42\" y=\"1541.47\">1</text>\n",
       "</g>\n",
       "<g clip-path=\"url(#clip9800)\">\n",
       "<text style=\"fill:#000000; fill-opacity:1; font-family:Arial,Helvetica Neue,Helvetica,sans-serif; font-size:48px; text-anchor:middle;\" transform=\"rotate(0, 2231.81, 1541.47)\" x=\"2231.81\" y=\"1541.47\">2</text>\n",
       "</g>\n",
       "<g clip-path=\"url(#clip9800)\">\n",
       "<text style=\"fill:#000000; fill-opacity:1; font-family:Arial,Helvetica Neue,Helvetica,sans-serif; font-size:48px; text-anchor:end;\" transform=\"rotate(0, 129.898, 1425.76)\" x=\"129.898\" y=\"1425.76\">1.0</text>\n",
       "</g>\n",
       "<g clip-path=\"url(#clip9800)\">\n",
       "<text style=\"fill:#000000; fill-opacity:1; font-family:Arial,Helvetica Neue,Helvetica,sans-serif; font-size:48px; text-anchor:end;\" transform=\"rotate(0, 129.898, 1169.4)\" x=\"129.898\" y=\"1169.4\">1.2</text>\n",
       "</g>\n",
       "<g clip-path=\"url(#clip9800)\">\n",
       "<text style=\"fill:#000000; fill-opacity:1; font-family:Arial,Helvetica Neue,Helvetica,sans-serif; font-size:48px; text-anchor:end;\" transform=\"rotate(0, 129.898, 913.039)\" x=\"129.898\" y=\"913.039\">1.4</text>\n",
       "</g>\n",
       "<g clip-path=\"url(#clip9800)\">\n",
       "<text style=\"fill:#000000; fill-opacity:1; font-family:Arial,Helvetica Neue,Helvetica,sans-serif; font-size:48px; text-anchor:end;\" transform=\"rotate(0, 129.898, 656.679)\" x=\"129.898\" y=\"656.679\">1.6</text>\n",
       "</g>\n",
       "<g clip-path=\"url(#clip9800)\">\n",
       "<text style=\"fill:#000000; fill-opacity:1; font-family:Arial,Helvetica Neue,Helvetica,sans-serif; font-size:48px; text-anchor:end;\" transform=\"rotate(0, 129.898, 400.319)\" x=\"129.898\" y=\"400.319\">1.8</text>\n",
       "</g>\n",
       "<g clip-path=\"url(#clip9800)\">\n",
       "<text style=\"fill:#000000; fill-opacity:1; font-family:Arial,Helvetica Neue,Helvetica,sans-serif; font-size:48px; text-anchor:end;\" transform=\"rotate(0, 129.898, 143.959)\" x=\"129.898\" y=\"143.959\">2.0</text>\n",
       "</g>\n",
       "<circle clip-path=\"url(#clip9802)\" style=\"fill:#000000; stroke:none; fill-opacity:1\" cx=\"2231.81\" cy=\"1408.26\" r=\"18\"/>\n",
       "<circle clip-path=\"url(#clip9802)\" style=\"fill:#009af9; stroke:none; fill-opacity:1\" cx=\"2231.81\" cy=\"1408.26\" r=\"14\"/>\n",
       "<circle clip-path=\"url(#clip9802)\" style=\"fill:#000000; stroke:none; fill-opacity:1\" cx=\"274.839\" cy=\"126.459\" r=\"18\"/>\n",
       "<circle clip-path=\"url(#clip9802)\" style=\"fill:#009af9; stroke:none; fill-opacity:1\" cx=\"274.839\" cy=\"126.459\" r=\"14\"/>\n",
       "<polyline clip-path=\"url(#clip9802)\" style=\"stroke:#e26f46; stroke-width:4; stroke-opacity:1; fill:none\" points=\"\n",
       "  216.13,88.0053 236.388,101.274 423.704,223.964 536.273,297.696 631.449,360.035 734.836,427.753 830.15,490.183 932.337,557.114 1050.73,634.661 1155.94,703.575 \n",
       "  1248.21,764.007 1348.8,829.893 1449.99,896.171 1561.87,969.45 1668.32,1039.17 1779,1111.67 1872.17,1172.7 1985.92,1247.2 2092.85,1317.24 2264.16,1429.45 \n",
       "  2290.52,1446.71 \n",
       "  \"/>\n",
       "<path clip-path=\"url(#clip9800)\" d=\"\n",
       "M1749.21 312.204 L2280.76 312.204 L2280.76 130.764 L1749.21 130.764  Z\n",
       "  \" fill=\"#ffffff\" fill-rule=\"evenodd\" fill-opacity=\"1\"/>\n",
       "<polyline clip-path=\"url(#clip9800)\" style=\"stroke:#000000; stroke-width:4; stroke-opacity:1; fill:none\" points=\"\n",
       "  1749.21,312.204 2280.76,312.204 2280.76,130.764 1749.21,130.764 1749.21,312.204 \n",
       "  \"/>\n",
       "<circle clip-path=\"url(#clip9800)\" style=\"fill:#000000; stroke:none; fill-opacity:1\" cx=\"1857.21\" cy=\"191.244\" r=\"25\"/>\n",
       "<circle clip-path=\"url(#clip9800)\" style=\"fill:#009af9; stroke:none; fill-opacity:1\" cx=\"1857.21\" cy=\"191.244\" r=\"21\"/>\n",
       "<g clip-path=\"url(#clip9800)\">\n",
       "<text style=\"fill:#000000; fill-opacity:1; font-family:Arial,Helvetica Neue,Helvetica,sans-serif; font-size:48px; text-anchor:start;\" transform=\"rotate(0, 1941.21, 208.744)\" x=\"1941.21\" y=\"208.744\">Datos</text>\n",
       "</g>\n",
       "<polyline clip-path=\"url(#clip9800)\" style=\"stroke:#e26f46; stroke-width:4; stroke-opacity:1; fill:none\" points=\"\n",
       "  1773.21,251.724 1917.21,251.724 \n",
       "  \"/>\n",
       "<g clip-path=\"url(#clip9800)\">\n",
       "<text style=\"fill:#000000; fill-opacity:1; font-family:Arial,Helvetica Neue,Helvetica,sans-serif; font-size:48px; text-anchor:start;\" transform=\"rotate(0, 1941.21, 269.224)\" x=\"1941.21\" y=\"269.224\">Aproximacion</text>\n",
       "</g>\n",
       "</svg>\n"
      ]
     },
     "execution_count": 4,
     "metadata": {},
     "output_type": "execute_result"
    }
   ],
   "source": [
    "scatter(X, Y, label=\"Datos\")\n",
    "plot!(s, label=\"Aproximacion\")"
   ]
  },
  {
   "cell_type": "code",
   "execution_count": null,
   "metadata": {},
   "outputs": [],
   "source": []
  },
  {
   "cell_type": "markdown",
   "metadata": {},
   "source": [
    "# Implementación para N puntos"
   ]
  },
  {
   "cell_type": "code",
   "execution_count": 5,
   "metadata": {},
   "outputs": [
    {
     "data": {
      "text/plain": [
       "lp (generic function with 1 method)"
      ]
     },
     "execution_count": 5,
     "metadata": {},
     "output_type": "execute_result"
    }
   ],
   "source": [
    "function lp(x0, p, X)\n",
    "    α = 1.\n",
    "    l = 1.\n",
    "    for i in 1:length(X)\n",
    "        if i == p\n",
    "            continue\n",
    "        end\n",
    "        α *= X[p] - X[i]\n",
    "        l *= x0 - X[i]\n",
    "    end\n",
    "    return l / α\n",
    "end"
   ]
  },
  {
   "cell_type": "code",
   "execution_count": 6,
   "metadata": {},
   "outputs": [
    {
     "data": {
      "text/plain": [
       "Interpola03 (generic function with 1 method)"
      ]
     },
     "execution_count": 6,
     "metadata": {},
     "output_type": "execute_result"
    }
   ],
   "source": [
    "function Interpola03(X)\n",
    "    x = [x for (x, _) in X]\n",
    "    y = [y for (_, y) in X]\n",
    "    function L(s)\n",
    "        lps = [lp(s, i, x) for i in 1:length(y)]\n",
    "        return dot(lps, y)\n",
    "    end\n",
    "    return L\n",
    "end"
   ]
  },
  {
   "cell_type": "code",
   "execution_count": 7,
   "metadata": {},
   "outputs": [
    {
     "data": {
      "image/svg+xml": [
       "<?xml version=\"1.0\" encoding=\"utf-8\"?>\n",
       "<svg xmlns=\"http://www.w3.org/2000/svg\" xmlns:xlink=\"http://www.w3.org/1999/xlink\" width=\"600\" height=\"400\" viewBox=\"0 0 2400 1600\">\n",
       "<defs>\n",
       "  <clipPath id=\"clip0200\">\n",
       "    <rect x=\"0\" y=\"0\" width=\"2400\" height=\"1600\"/>\n",
       "  </clipPath>\n",
       "</defs>\n",
       "<path clip-path=\"url(#clip0200)\" d=\"\n",
       "M0 1600 L2400 1600 L2400 0 L0 0  Z\n",
       "  \" fill=\"#ffffff\" fill-rule=\"evenodd\" fill-opacity=\"1\"/>\n",
       "<defs>\n",
       "  <clipPath id=\"clip0201\">\n",
       "    <rect x=\"480\" y=\"0\" width=\"1681\" height=\"1600\"/>\n",
       "  </clipPath>\n",
       "</defs>\n",
       "<path clip-path=\"url(#clip0200)\" d=\"\n",
       "M195.389 1487.47 L2352.76 1487.47 L2352.76 47.2441 L195.389 47.2441  Z\n",
       "  \" fill=\"#ffffff\" fill-rule=\"evenodd\" fill-opacity=\"1\"/>\n",
       "<defs>\n",
       "  <clipPath id=\"clip0202\">\n",
       "    <rect x=\"195\" y=\"47\" width=\"2158\" height=\"1441\"/>\n",
       "  </clipPath>\n",
       "</defs>\n",
       "<polyline clip-path=\"url(#clip0202)\" style=\"stroke:#000000; stroke-width:2; stroke-opacity:0.1; fill:none\" points=\"\n",
       "  506.053,1487.47 506.053,47.2441 \n",
       "  \"/>\n",
       "<polyline clip-path=\"url(#clip0202)\" style=\"stroke:#000000; stroke-width:2; stroke-opacity:0.1; fill:none\" points=\"\n",
       "  890.063,1487.47 890.063,47.2441 \n",
       "  \"/>\n",
       "<polyline clip-path=\"url(#clip0202)\" style=\"stroke:#000000; stroke-width:2; stroke-opacity:0.1; fill:none\" points=\"\n",
       "  1274.07,1487.47 1274.07,47.2441 \n",
       "  \"/>\n",
       "<polyline clip-path=\"url(#clip0202)\" style=\"stroke:#000000; stroke-width:2; stroke-opacity:0.1; fill:none\" points=\"\n",
       "  1658.08,1487.47 1658.08,47.2441 \n",
       "  \"/>\n",
       "<polyline clip-path=\"url(#clip0202)\" style=\"stroke:#000000; stroke-width:2; stroke-opacity:0.1; fill:none\" points=\"\n",
       "  2042.09,1487.47 2042.09,47.2441 \n",
       "  \"/>\n",
       "<polyline clip-path=\"url(#clip0202)\" style=\"stroke:#000000; stroke-width:2; stroke-opacity:0.1; fill:none\" points=\"\n",
       "  195.389,1451.84 2352.76,1451.84 \n",
       "  \"/>\n",
       "<polyline clip-path=\"url(#clip0202)\" style=\"stroke:#000000; stroke-width:2; stroke-opacity:0.1; fill:none\" points=\"\n",
       "  195.389,1223.68 2352.76,1223.68 \n",
       "  \"/>\n",
       "<polyline clip-path=\"url(#clip0202)\" style=\"stroke:#000000; stroke-width:2; stroke-opacity:0.1; fill:none\" points=\"\n",
       "  195.389,995.519 2352.76,995.519 \n",
       "  \"/>\n",
       "<polyline clip-path=\"url(#clip0202)\" style=\"stroke:#000000; stroke-width:2; stroke-opacity:0.1; fill:none\" points=\"\n",
       "  195.389,767.359 2352.76,767.359 \n",
       "  \"/>\n",
       "<polyline clip-path=\"url(#clip0202)\" style=\"stroke:#000000; stroke-width:2; stroke-opacity:0.1; fill:none\" points=\"\n",
       "  195.389,539.2 2352.76,539.2 \n",
       "  \"/>\n",
       "<polyline clip-path=\"url(#clip0202)\" style=\"stroke:#000000; stroke-width:2; stroke-opacity:0.1; fill:none\" points=\"\n",
       "  195.389,311.04 2352.76,311.04 \n",
       "  \"/>\n",
       "<polyline clip-path=\"url(#clip0202)\" style=\"stroke:#000000; stroke-width:2; stroke-opacity:0.1; fill:none\" points=\"\n",
       "  195.389,82.8809 2352.76,82.8809 \n",
       "  \"/>\n",
       "<polyline clip-path=\"url(#clip0200)\" style=\"stroke:#000000; stroke-width:4; stroke-opacity:1; fill:none\" points=\"\n",
       "  195.389,1487.47 2352.76,1487.47 \n",
       "  \"/>\n",
       "<polyline clip-path=\"url(#clip0200)\" style=\"stroke:#000000; stroke-width:4; stroke-opacity:1; fill:none\" points=\"\n",
       "  195.389,1487.47 195.389,47.2441 \n",
       "  \"/>\n",
       "<polyline clip-path=\"url(#clip0200)\" style=\"stroke:#000000; stroke-width:4; stroke-opacity:1; fill:none\" points=\"\n",
       "  506.053,1487.47 506.053,1470.19 \n",
       "  \"/>\n",
       "<polyline clip-path=\"url(#clip0200)\" style=\"stroke:#000000; stroke-width:4; stroke-opacity:1; fill:none\" points=\"\n",
       "  890.063,1487.47 890.063,1470.19 \n",
       "  \"/>\n",
       "<polyline clip-path=\"url(#clip0200)\" style=\"stroke:#000000; stroke-width:4; stroke-opacity:1; fill:none\" points=\"\n",
       "  1274.07,1487.47 1274.07,1470.19 \n",
       "  \"/>\n",
       "<polyline clip-path=\"url(#clip0200)\" style=\"stroke:#000000; stroke-width:4; stroke-opacity:1; fill:none\" points=\"\n",
       "  1658.08,1487.47 1658.08,1470.19 \n",
       "  \"/>\n",
       "<polyline clip-path=\"url(#clip0200)\" style=\"stroke:#000000; stroke-width:4; stroke-opacity:1; fill:none\" points=\"\n",
       "  2042.09,1487.47 2042.09,1470.19 \n",
       "  \"/>\n",
       "<polyline clip-path=\"url(#clip0200)\" style=\"stroke:#000000; stroke-width:4; stroke-opacity:1; fill:none\" points=\"\n",
       "  195.389,1451.84 221.278,1451.84 \n",
       "  \"/>\n",
       "<polyline clip-path=\"url(#clip0200)\" style=\"stroke:#000000; stroke-width:4; stroke-opacity:1; fill:none\" points=\"\n",
       "  195.389,1223.68 221.278,1223.68 \n",
       "  \"/>\n",
       "<polyline clip-path=\"url(#clip0200)\" style=\"stroke:#000000; stroke-width:4; stroke-opacity:1; fill:none\" points=\"\n",
       "  195.389,995.519 221.278,995.519 \n",
       "  \"/>\n",
       "<polyline clip-path=\"url(#clip0200)\" style=\"stroke:#000000; stroke-width:4; stroke-opacity:1; fill:none\" points=\"\n",
       "  195.389,767.359 221.278,767.359 \n",
       "  \"/>\n",
       "<polyline clip-path=\"url(#clip0200)\" style=\"stroke:#000000; stroke-width:4; stroke-opacity:1; fill:none\" points=\"\n",
       "  195.389,539.2 221.278,539.2 \n",
       "  \"/>\n",
       "<polyline clip-path=\"url(#clip0200)\" style=\"stroke:#000000; stroke-width:4; stroke-opacity:1; fill:none\" points=\"\n",
       "  195.389,311.04 221.278,311.04 \n",
       "  \"/>\n",
       "<polyline clip-path=\"url(#clip0200)\" style=\"stroke:#000000; stroke-width:4; stroke-opacity:1; fill:none\" points=\"\n",
       "  195.389,82.8809 221.278,82.8809 \n",
       "  \"/>\n",
       "<g clip-path=\"url(#clip0200)\">\n",
       "<text style=\"fill:#000000; fill-opacity:1; font-family:Arial,Helvetica Neue,Helvetica,sans-serif; font-size:48px; text-anchor:middle;\" transform=\"rotate(0, 506.053, 1541.47)\" x=\"506.053\" y=\"1541.47\">-4</text>\n",
       "</g>\n",
       "<g clip-path=\"url(#clip0200)\">\n",
       "<text style=\"fill:#000000; fill-opacity:1; font-family:Arial,Helvetica Neue,Helvetica,sans-serif; font-size:48px; text-anchor:middle;\" transform=\"rotate(0, 890.063, 1541.47)\" x=\"890.063\" y=\"1541.47\">-2</text>\n",
       "</g>\n",
       "<g clip-path=\"url(#clip0200)\">\n",
       "<text style=\"fill:#000000; fill-opacity:1; font-family:Arial,Helvetica Neue,Helvetica,sans-serif; font-size:48px; text-anchor:middle;\" transform=\"rotate(0, 1274.07, 1541.47)\" x=\"1274.07\" y=\"1541.47\">0</text>\n",
       "</g>\n",
       "<g clip-path=\"url(#clip0200)\">\n",
       "<text style=\"fill:#000000; fill-opacity:1; font-family:Arial,Helvetica Neue,Helvetica,sans-serif; font-size:48px; text-anchor:middle;\" transform=\"rotate(0, 1658.08, 1541.47)\" x=\"1658.08\" y=\"1541.47\">2</text>\n",
       "</g>\n",
       "<g clip-path=\"url(#clip0200)\">\n",
       "<text style=\"fill:#000000; fill-opacity:1; font-family:Arial,Helvetica Neue,Helvetica,sans-serif; font-size:48px; text-anchor:middle;\" transform=\"rotate(0, 2042.09, 1541.47)\" x=\"2042.09\" y=\"1541.47\">4</text>\n",
       "</g>\n",
       "<g clip-path=\"url(#clip0200)\">\n",
       "<text style=\"fill:#000000; fill-opacity:1; font-family:Arial,Helvetica Neue,Helvetica,sans-serif; font-size:48px; text-anchor:end;\" transform=\"rotate(0, 171.389, 1469.34)\" x=\"171.389\" y=\"1469.34\">-150</text>\n",
       "</g>\n",
       "<g clip-path=\"url(#clip0200)\">\n",
       "<text style=\"fill:#000000; fill-opacity:1; font-family:Arial,Helvetica Neue,Helvetica,sans-serif; font-size:48px; text-anchor:end;\" transform=\"rotate(0, 171.389, 1241.18)\" x=\"171.389\" y=\"1241.18\">-100</text>\n",
       "</g>\n",
       "<g clip-path=\"url(#clip0200)\">\n",
       "<text style=\"fill:#000000; fill-opacity:1; font-family:Arial,Helvetica Neue,Helvetica,sans-serif; font-size:48px; text-anchor:end;\" transform=\"rotate(0, 171.389, 1013.02)\" x=\"171.389\" y=\"1013.02\">-50</text>\n",
       "</g>\n",
       "<g clip-path=\"url(#clip0200)\">\n",
       "<text style=\"fill:#000000; fill-opacity:1; font-family:Arial,Helvetica Neue,Helvetica,sans-serif; font-size:48px; text-anchor:end;\" transform=\"rotate(0, 171.389, 784.859)\" x=\"171.389\" y=\"784.859\">0</text>\n",
       "</g>\n",
       "<g clip-path=\"url(#clip0200)\">\n",
       "<text style=\"fill:#000000; fill-opacity:1; font-family:Arial,Helvetica Neue,Helvetica,sans-serif; font-size:48px; text-anchor:end;\" transform=\"rotate(0, 171.389, 556.7)\" x=\"171.389\" y=\"556.7\">50</text>\n",
       "</g>\n",
       "<g clip-path=\"url(#clip0200)\">\n",
       "<text style=\"fill:#000000; fill-opacity:1; font-family:Arial,Helvetica Neue,Helvetica,sans-serif; font-size:48px; text-anchor:end;\" transform=\"rotate(0, 171.389, 328.54)\" x=\"171.389\" y=\"328.54\">100</text>\n",
       "</g>\n",
       "<g clip-path=\"url(#clip0200)\">\n",
       "<text style=\"fill:#000000; fill-opacity:1; font-family:Arial,Helvetica Neue,Helvetica,sans-serif; font-size:48px; text-anchor:end;\" transform=\"rotate(0, 171.389, 100.381)\" x=\"171.389\" y=\"100.381\">150</text>\n",
       "</g>\n",
       "<polyline clip-path=\"url(#clip0202)\" style=\"stroke:#009af9; stroke-width:4; stroke-opacity:1; fill:none\" points=\"\n",
       "  314.048,1337.76 318.736,1329.44 323.424,1321.21 328.111,1313.06 332.799,1304.98 376.144,1234.08 419.488,1169.7 462.833,1111.53 506.178,1059.26 558.274,1003.79 \n",
       "  610.371,955.833 654.418,920.744 698.465,890.304 794.16,838.615 882.382,806.099 976.966,784.266 1086.55,771.61 1183.94,767.832 1269.33,767.359 1362.44,766.915 \n",
       "  1456.1,763.471 1559.66,752.344 1658.18,730.825 1709.41,714.172 1760.63,693.102 1803.75,671.559 1846.87,646.206 1899.51,609.637 1952.16,566.364 2001.64,519.069 \n",
       "  2051.13,464.881 2090.77,416.188 2130.41,362.531 2170.05,303.668 2209.69,239.36 2215.8,228.964 2221.9,218.433 2228,207.766 2234.1,196.961 \n",
       "  \"/>\n",
       "<polyline clip-path=\"url(#clip0202)\" style=\"stroke:#e26f46; stroke-width:4; stroke-opacity:1; fill:none\" points=\"\n",
       "  256.447,1446.71 261.416,1436.81 266.385,1427 271.354,1417.29 276.323,1407.68 322.268,1323.23 368.213,1246.56 414.159,1177.28 460.104,1115.02 515.327,1048.95 \n",
       "  570.549,991.834 617.239,950.042 663.929,913.789 765.365,852.226 858.881,813.499 959.14,787.496 1075.3,772.422 1178.53,767.922 1269.05,767.359 1367.74,766.83 \n",
       "  1467.02,762.728 1576.79,749.476 1681.23,723.846 1735.53,704.013 1789.83,678.918 1835.53,653.259 1881.24,623.063 1937.04,579.51 1992.84,527.971 2045.3,471.641 \n",
       "  2097.76,407.103 2139.77,349.109 2181.79,285.202 2223.81,215.096 2265.83,138.504 2272.3,126.122 2278.77,113.58 2285.23,100.874 2291.7,88.0053 \n",
       "  \"/>\n",
       "<path clip-path=\"url(#clip0200)\" d=\"\n",
       "M1749.21 312.204 L2280.76 312.204 L2280.76 130.764 L1749.21 130.764  Z\n",
       "  \" fill=\"#ffffff\" fill-rule=\"evenodd\" fill-opacity=\"1\"/>\n",
       "<polyline clip-path=\"url(#clip0200)\" style=\"stroke:#000000; stroke-width:4; stroke-opacity:1; fill:none\" points=\"\n",
       "  1749.21,312.204 2280.76,312.204 2280.76,130.764 1749.21,130.764 1749.21,312.204 \n",
       "  \"/>\n",
       "<polyline clip-path=\"url(#clip0200)\" style=\"stroke:#009af9; stroke-width:4; stroke-opacity:1; fill:none\" points=\"\n",
       "  1773.21,191.244 1917.21,191.244 \n",
       "  \"/>\n",
       "<g clip-path=\"url(#clip0200)\">\n",
       "<text style=\"fill:#000000; fill-opacity:1; font-family:Arial,Helvetica Neue,Helvetica,sans-serif; font-size:48px; text-anchor:start;\" transform=\"rotate(0, 1941.21, 208.744)\" x=\"1941.21\" y=\"208.744\">Aproximación</text>\n",
       "</g>\n",
       "<polyline clip-path=\"url(#clip0200)\" style=\"stroke:#e26f46; stroke-width:4; stroke-opacity:1; fill:none\" points=\"\n",
       "  1773.21,251.724 1917.21,251.724 \n",
       "  \"/>\n",
       "<g clip-path=\"url(#clip0200)\">\n",
       "<text style=\"fill:#000000; fill-opacity:1; font-family:Arial,Helvetica Neue,Helvetica,sans-serif; font-size:48px; text-anchor:start;\" transform=\"rotate(0, 1941.21, 269.224)\" x=\"1941.21\" y=\"269.224\">Analítica</text>\n",
       "</g>\n",
       "</svg>\n"
      ]
     },
     "execution_count": 7,
     "metadata": {},
     "output_type": "execute_result"
    }
   ],
   "source": [
    "pol_grad_3(x) = x^3\n",
    "x = 1:4\n",
    "y = pol_grad_3.(x)\n",
    "pol_interpola = Interpola03(zip(x, y))\n",
    "plot(pol_interpola, label=\"Aproximación\")\n",
    "plot!(pol_grad_3, label=\"Analítica\")"
   ]
  },
  {
   "cell_type": "code",
   "execution_count": 8,
   "metadata": {},
   "outputs": [
    {
     "data": {
      "image/svg+xml": [
       "<?xml version=\"1.0\" encoding=\"utf-8\"?>\n",
       "<svg xmlns=\"http://www.w3.org/2000/svg\" xmlns:xlink=\"http://www.w3.org/1999/xlink\" width=\"600\" height=\"400\" viewBox=\"0 0 2400 1600\">\n",
       "<defs>\n",
       "  <clipPath id=\"clip0600\">\n",
       "    <rect x=\"0\" y=\"0\" width=\"2400\" height=\"1600\"/>\n",
       "  </clipPath>\n",
       "</defs>\n",
       "<path clip-path=\"url(#clip0600)\" d=\"\n",
       "M0 1600 L2400 1600 L2400 0 L0 0  Z\n",
       "  \" fill=\"#ffffff\" fill-rule=\"evenodd\" fill-opacity=\"1\"/>\n",
       "<defs>\n",
       "  <clipPath id=\"clip0601\">\n",
       "    <rect x=\"480\" y=\"0\" width=\"1681\" height=\"1600\"/>\n",
       "  </clipPath>\n",
       "</defs>\n",
       "<path clip-path=\"url(#clip0600)\" d=\"\n",
       "M182.008 1487.47 L2352.76 1487.47 L2352.76 47.2441 L182.008 47.2441  Z\n",
       "  \" fill=\"#ffffff\" fill-rule=\"evenodd\" fill-opacity=\"1\"/>\n",
       "<defs>\n",
       "  <clipPath id=\"clip0602\">\n",
       "    <rect x=\"182\" y=\"47\" width=\"2172\" height=\"1441\"/>\n",
       "  </clipPath>\n",
       "</defs>\n",
       "<polyline clip-path=\"url(#clip0602)\" style=\"stroke:#000000; stroke-width:2; stroke-opacity:0.1; fill:none\" points=\"\n",
       "  182.008,1487.47 182.008,47.2441 \n",
       "  \"/>\n",
       "<polyline clip-path=\"url(#clip0602)\" style=\"stroke:#000000; stroke-width:2; stroke-opacity:0.1; fill:none\" points=\"\n",
       "  616.158,1487.47 616.158,47.2441 \n",
       "  \"/>\n",
       "<polyline clip-path=\"url(#clip0602)\" style=\"stroke:#000000; stroke-width:2; stroke-opacity:0.1; fill:none\" points=\"\n",
       "  1050.31,1487.47 1050.31,47.2441 \n",
       "  \"/>\n",
       "<polyline clip-path=\"url(#clip0602)\" style=\"stroke:#000000; stroke-width:2; stroke-opacity:0.1; fill:none\" points=\"\n",
       "  1484.46,1487.47 1484.46,47.2441 \n",
       "  \"/>\n",
       "<polyline clip-path=\"url(#clip0602)\" style=\"stroke:#000000; stroke-width:2; stroke-opacity:0.1; fill:none\" points=\"\n",
       "  1918.61,1487.47 1918.61,47.2441 \n",
       "  \"/>\n",
       "<polyline clip-path=\"url(#clip0602)\" style=\"stroke:#000000; stroke-width:2; stroke-opacity:0.1; fill:none\" points=\"\n",
       "  2352.76,1487.47 2352.76,47.2441 \n",
       "  \"/>\n",
       "<polyline clip-path=\"url(#clip0602)\" style=\"stroke:#000000; stroke-width:2; stroke-opacity:0.1; fill:none\" points=\"\n",
       "  182.008,1487.47 2352.76,1487.47 \n",
       "  \"/>\n",
       "<polyline clip-path=\"url(#clip0602)\" style=\"stroke:#000000; stroke-width:2; stroke-opacity:0.1; fill:none\" points=\"\n",
       "  182.008,1127.42 2352.76,1127.42 \n",
       "  \"/>\n",
       "<polyline clip-path=\"url(#clip0602)\" style=\"stroke:#000000; stroke-width:2; stroke-opacity:0.1; fill:none\" points=\"\n",
       "  182.008,767.359 2352.76,767.359 \n",
       "  \"/>\n",
       "<polyline clip-path=\"url(#clip0602)\" style=\"stroke:#000000; stroke-width:2; stroke-opacity:0.1; fill:none\" points=\"\n",
       "  182.008,407.302 2352.76,407.302 \n",
       "  \"/>\n",
       "<polyline clip-path=\"url(#clip0602)\" style=\"stroke:#000000; stroke-width:2; stroke-opacity:0.1; fill:none\" points=\"\n",
       "  182.008,47.2441 2352.76,47.2441 \n",
       "  \"/>\n",
       "<polyline clip-path=\"url(#clip0600)\" style=\"stroke:#000000; stroke-width:4; stroke-opacity:1; fill:none\" points=\"\n",
       "  182.008,1487.47 2352.76,1487.47 \n",
       "  \"/>\n",
       "<polyline clip-path=\"url(#clip0600)\" style=\"stroke:#000000; stroke-width:4; stroke-opacity:1; fill:none\" points=\"\n",
       "  182.008,1487.47 182.008,47.2441 \n",
       "  \"/>\n",
       "<polyline clip-path=\"url(#clip0600)\" style=\"stroke:#000000; stroke-width:4; stroke-opacity:1; fill:none\" points=\"\n",
       "  182.008,1487.47 182.008,1470.19 \n",
       "  \"/>\n",
       "<polyline clip-path=\"url(#clip0600)\" style=\"stroke:#000000; stroke-width:4; stroke-opacity:1; fill:none\" points=\"\n",
       "  616.158,1487.47 616.158,1470.19 \n",
       "  \"/>\n",
       "<polyline clip-path=\"url(#clip0600)\" style=\"stroke:#000000; stroke-width:4; stroke-opacity:1; fill:none\" points=\"\n",
       "  1050.31,1487.47 1050.31,1470.19 \n",
       "  \"/>\n",
       "<polyline clip-path=\"url(#clip0600)\" style=\"stroke:#000000; stroke-width:4; stroke-opacity:1; fill:none\" points=\"\n",
       "  1484.46,1487.47 1484.46,1470.19 \n",
       "  \"/>\n",
       "<polyline clip-path=\"url(#clip0600)\" style=\"stroke:#000000; stroke-width:4; stroke-opacity:1; fill:none\" points=\"\n",
       "  1918.61,1487.47 1918.61,1470.19 \n",
       "  \"/>\n",
       "<polyline clip-path=\"url(#clip0600)\" style=\"stroke:#000000; stroke-width:4; stroke-opacity:1; fill:none\" points=\"\n",
       "  2352.76,1487.47 2352.76,1470.19 \n",
       "  \"/>\n",
       "<polyline clip-path=\"url(#clip0600)\" style=\"stroke:#000000; stroke-width:4; stroke-opacity:1; fill:none\" points=\"\n",
       "  182.008,1487.47 208.057,1487.47 \n",
       "  \"/>\n",
       "<polyline clip-path=\"url(#clip0600)\" style=\"stroke:#000000; stroke-width:4; stroke-opacity:1; fill:none\" points=\"\n",
       "  182.008,1127.42 208.057,1127.42 \n",
       "  \"/>\n",
       "<polyline clip-path=\"url(#clip0600)\" style=\"stroke:#000000; stroke-width:4; stroke-opacity:1; fill:none\" points=\"\n",
       "  182.008,767.359 208.057,767.359 \n",
       "  \"/>\n",
       "<polyline clip-path=\"url(#clip0600)\" style=\"stroke:#000000; stroke-width:4; stroke-opacity:1; fill:none\" points=\"\n",
       "  182.008,407.302 208.057,407.302 \n",
       "  \"/>\n",
       "<polyline clip-path=\"url(#clip0600)\" style=\"stroke:#000000; stroke-width:4; stroke-opacity:1; fill:none\" points=\"\n",
       "  182.008,47.2441 208.057,47.2441 \n",
       "  \"/>\n",
       "<g clip-path=\"url(#clip0600)\">\n",
       "<text style=\"fill:#000000; fill-opacity:1; font-family:Arial,Helvetica Neue,Helvetica,sans-serif; font-size:48px; text-anchor:middle;\" transform=\"rotate(0, 182.008, 1541.47)\" x=\"182.008\" y=\"1541.47\">0</text>\n",
       "</g>\n",
       "<g clip-path=\"url(#clip0600)\">\n",
       "<text style=\"fill:#000000; fill-opacity:1; font-family:Arial,Helvetica Neue,Helvetica,sans-serif; font-size:48px; text-anchor:middle;\" transform=\"rotate(0, 616.158, 1541.47)\" x=\"616.158\" y=\"1541.47\">2</text>\n",
       "</g>\n",
       "<g clip-path=\"url(#clip0600)\">\n",
       "<text style=\"fill:#000000; fill-opacity:1; font-family:Arial,Helvetica Neue,Helvetica,sans-serif; font-size:48px; text-anchor:middle;\" transform=\"rotate(0, 1050.31, 1541.47)\" x=\"1050.31\" y=\"1541.47\">4</text>\n",
       "</g>\n",
       "<g clip-path=\"url(#clip0600)\">\n",
       "<text style=\"fill:#000000; fill-opacity:1; font-family:Arial,Helvetica Neue,Helvetica,sans-serif; font-size:48px; text-anchor:middle;\" transform=\"rotate(0, 1484.46, 1541.47)\" x=\"1484.46\" y=\"1541.47\">6</text>\n",
       "</g>\n",
       "<g clip-path=\"url(#clip0600)\">\n",
       "<text style=\"fill:#000000; fill-opacity:1; font-family:Arial,Helvetica Neue,Helvetica,sans-serif; font-size:48px; text-anchor:middle;\" transform=\"rotate(0, 1918.61, 1541.47)\" x=\"1918.61\" y=\"1541.47\">8</text>\n",
       "</g>\n",
       "<g clip-path=\"url(#clip0600)\">\n",
       "<text style=\"fill:#000000; fill-opacity:1; font-family:Arial,Helvetica Neue,Helvetica,sans-serif; font-size:48px; text-anchor:middle;\" transform=\"rotate(0, 2352.76, 1541.47)\" x=\"2352.76\" y=\"1541.47\">10</text>\n",
       "</g>\n",
       "<g clip-path=\"url(#clip0600)\">\n",
       "<text style=\"fill:#000000; fill-opacity:1; font-family:Arial,Helvetica Neue,Helvetica,sans-serif; font-size:48px; text-anchor:end;\" transform=\"rotate(0, 158.008, 1504.97)\" x=\"158.008\" y=\"1504.97\">-1.0</text>\n",
       "</g>\n",
       "<g clip-path=\"url(#clip0600)\">\n",
       "<text style=\"fill:#000000; fill-opacity:1; font-family:Arial,Helvetica Neue,Helvetica,sans-serif; font-size:48px; text-anchor:end;\" transform=\"rotate(0, 158.008, 1144.92)\" x=\"158.008\" y=\"1144.92\">-0.5</text>\n",
       "</g>\n",
       "<g clip-path=\"url(#clip0600)\">\n",
       "<text style=\"fill:#000000; fill-opacity:1; font-family:Arial,Helvetica Neue,Helvetica,sans-serif; font-size:48px; text-anchor:end;\" transform=\"rotate(0, 158.008, 784.859)\" x=\"158.008\" y=\"784.859\">0.0</text>\n",
       "</g>\n",
       "<g clip-path=\"url(#clip0600)\">\n",
       "<text style=\"fill:#000000; fill-opacity:1; font-family:Arial,Helvetica Neue,Helvetica,sans-serif; font-size:48px; text-anchor:end;\" transform=\"rotate(0, 158.008, 424.802)\" x=\"158.008\" y=\"424.802\">0.5</text>\n",
       "</g>\n",
       "<g clip-path=\"url(#clip0600)\">\n",
       "<text style=\"fill:#000000; fill-opacity:1; font-family:Arial,Helvetica Neue,Helvetica,sans-serif; font-size:48px; text-anchor:end;\" transform=\"rotate(0, 158.008, 64.7441)\" x=\"158.008\" y=\"64.7441\">1.0</text>\n",
       "</g>\n",
       "<polyline clip-path=\"url(#clip0602)\" style=\"stroke:#009af9; stroke-width:4; stroke-opacity:1; fill:none\" points=\"\n",
       "  182.008,767.359 187.308,749.909 192.608,732.447 197.907,714.988 203.207,697.542 252.211,539.045 301.215,391.794 325.718,324.886 350.22,263.636 374.722,208.826 \n",
       "  399.224,161.151 428.673,114.131 458.123,79.134 487.572,56.7923 517.022,47.5101 541.921,49.9808 566.82,61.8767 591.719,83.0414 616.618,113.197 643.666,155.68 \n",
       "  670.713,207.647 697.76,268.292 724.808,336.677 774.679,479.424 824.549,637.307 878.016,813.935 931.483,987.747 962.456,1083 993.429,1171.83 1024.4,1252.43 \n",
       "  1055.38,1323.18 1082.9,1376.62 1110.43,1420.27 1137.95,1453.43 1165.48,1475.59 1189.61,1485.66 1213.75,1486.87 1237.89,1479.19 1262.03,1462.72 1288.34,1434.99 \n",
       "  1314.66,1397.46 1340.97,1350.68 1367.29,1295.33 1393.76,1231.84 1420.23,1161.44 1446.71,1085.19 1473.18,1004.21 1531.72,814.456 1590.25,621.303 1645.95,447.138 \n",
       "  1701.65,293.963 1730.6,226.024 1759.56,167.705 1788.52,120.039 1817.47,83.8659 1841.85,62.8 1866.22,50.5953 1890.6,47.4027 1914.97,53.2606 1944.73,72.5663 \n",
       "  1974.49,104.889 2004.25,149.634 2034,205.985 2061.98,268.625 2089.95,339.609 2117.93,417.797 2145.9,501.927 2235.53,794.853 2325.17,1081.75 2338.96,1121.41 \n",
       "  2352.76,1159.12 \n",
       "  \"/>\n",
       "<polyline clip-path=\"url(#clip0602)\" style=\"stroke:#e26f46; stroke-width:4; stroke-opacity:1; fill:none\" points=\"\n",
       "  182.008,767.359 187.308,749.78 192.608,732.211 197.907,714.663 203.207,697.146 252.211,538.508 301.215,391.484 325.718,324.692 350.22,263.534 374.722,208.788 \n",
       "  399.224,161.151 428.673,114.151 458.123,79.1557 487.572,56.8071 517.022,47.5161 541.921,49.9812 566.82,61.8743 591.719,83.0391 616.618,113.198 643.666,155.684 \n",
       "  670.713,207.655 697.76,268.304 724.808,336.69 774.679,479.434 824.549,637.309 878.016,813.927 931.483,987.734 962.456,1082.98 993.429,1171.82 1024.4,1252.43 \n",
       "  1055.38,1323.18 1082.9,1376.62 1110.43,1420.28 1137.95,1453.45 1165.48,1475.6 1189.61,1485.68 1213.75,1486.88 1237.89,1479.2 1262.03,1462.73 1288.34,1434.99 \n",
       "  1314.66,1397.45 1340.97,1350.66 1367.29,1295.31 1393.76,1231.82 1420.23,1161.42 1446.71,1085.17 1473.18,1004.2 1531.72,814.474 1590.25,621.338 1645.95,447.169 \n",
       "  1701.65,293.963 1730.6,225.999 1759.56,167.653 1788.52,119.962 1817.47,83.7738 1841.85,62.7054 1866.22,50.5123 1890.6,47.3479 1914.97,53.2522 1944.73,72.6378 \n",
       "  1974.49,105.059 2004.25,149.908 2034,206.343 2061.98,269.015 2089.95,339.951 2117.93,417.976 2145.9,501.794 2235.53,792.714 2325.17,1079.37 2338.96,1119.96 \n",
       "  2352.76,1159.12 \n",
       "  \"/>\n",
       "<path clip-path=\"url(#clip0600)\" d=\"\n",
       "M1749.21 312.204 L2280.76 312.204 L2280.76 130.764 L1749.21 130.764  Z\n",
       "  \" fill=\"#ffffff\" fill-rule=\"evenodd\" fill-opacity=\"1\"/>\n",
       "<polyline clip-path=\"url(#clip0600)\" style=\"stroke:#000000; stroke-width:4; stroke-opacity:1; fill:none\" points=\"\n",
       "  1749.21,312.204 2280.76,312.204 2280.76,130.764 1749.21,130.764 1749.21,312.204 \n",
       "  \"/>\n",
       "<polyline clip-path=\"url(#clip0600)\" style=\"stroke:#009af9; stroke-width:4; stroke-opacity:1; fill:none\" points=\"\n",
       "  1773.21,191.244 1917.21,191.244 \n",
       "  \"/>\n",
       "<g clip-path=\"url(#clip0600)\">\n",
       "<text style=\"fill:#000000; fill-opacity:1; font-family:Arial,Helvetica Neue,Helvetica,sans-serif; font-size:48px; text-anchor:start;\" transform=\"rotate(0, 1941.21, 208.744)\" x=\"1941.21\" y=\"208.744\">Aproximación</text>\n",
       "</g>\n",
       "<polyline clip-path=\"url(#clip0600)\" style=\"stroke:#e26f46; stroke-width:4; stroke-opacity:1; fill:none\" points=\"\n",
       "  1773.21,251.724 1917.21,251.724 \n",
       "  \"/>\n",
       "<g clip-path=\"url(#clip0600)\">\n",
       "<text style=\"fill:#000000; fill-opacity:1; font-family:Arial,Helvetica Neue,Helvetica,sans-serif; font-size:48px; text-anchor:start;\" transform=\"rotate(0, 1941.21, 269.224)\" x=\"1941.21\" y=\"269.224\">Analítica</text>\n",
       "</g>\n",
       "</svg>\n"
      ]
     },
     "execution_count": 8,
     "metadata": {},
     "output_type": "execute_result"
    }
   ],
   "source": [
    "x = 0:10\n",
    "y = sin.(x)\n",
    "pol_interpola = Interpola03(zip(x, y))\n",
    "plot(pol_interpola, xlims=(0,10), ylims=(-1,1), label=\"Aproximación\")\n",
    "plot!(sin, label=\"Analítica\")"
   ]
  },
  {
   "cell_type": "code",
   "execution_count": 14,
   "metadata": {},
   "outputs": [
    {
     "data": {
      "application/vnd.webio.node+json": {
       "children": [
        {
         "children": [
          {
           "children": [
            {
             "children": [
              {
               "children": [
                {
                 "children": [
                  "n"
                 ],
                 "instanceArgs": {
                  "namespace": "html",
                  "tag": "label"
                 },
                 "nodeType": "DOM",
                 "props": {
                  "className": "interact ",
                  "style": {
                   "padding": "5px 10px 0px 10px"
                  }
                 },
                 "type": "node"
                }
               ],
               "instanceArgs": {
                "namespace": "html",
                "tag": "div"
               },
               "nodeType": "DOM",
               "props": {
                "className": "interact-flex-row-left"
               },
               "type": "node"
              },
              {
               "children": [
                {
                 "children": [],
                 "instanceArgs": {
                  "namespace": "html",
                  "tag": "input"
                 },
                 "nodeType": "DOM",
                 "props": {
                  "attributes": {
                   "data-bind": "numericValue: index, valueUpdate: 'input', event: {change: function (){this.changes(this.changes()+1)}}",
                   "orient": "horizontal",
                   "type": "range"
                  },
                  "className": "slider slider is-fullwidth",
                  "max": 13,
                  "min": 1,
                  "step": 1,
                  "style": {}
                 },
                 "type": "node"
                }
               ],
               "instanceArgs": {
                "namespace": "html",
                "tag": "div"
               },
               "nodeType": "DOM",
               "props": {
                "className": "interact-flex-row-center"
               },
               "type": "node"
              },
              {
               "children": [
                {
                 "children": [],
                 "instanceArgs": {
                  "namespace": "html",
                  "tag": "p"
                 },
                 "nodeType": "DOM",
                 "props": {
                  "attributes": {
                   "data-bind": "text: formatted_val"
                  }
                 },
                 "type": "node"
                }
               ],
               "instanceArgs": {
                "namespace": "html",
                "tag": "div"
               },
               "nodeType": "DOM",
               "props": {
                "className": "interact-flex-row-right"
               },
               "type": "node"
              }
             ],
             "instanceArgs": {
              "namespace": "html",
              "tag": "div"
             },
             "nodeType": "DOM",
             "props": {
              "className": "interact-flex-row interact-widget"
             },
             "type": "node"
            }
           ],
           "instanceArgs": {
            "handlers": {
             "changes": [
              "(function (val){return (val!=this.model[\"changes\"]()) ? (this.valueFromJulia[\"changes\"]=true, this.model[\"changes\"](val)) : undefined})"
             ],
             "index": [
              "(function (val){return (val!=this.model[\"index\"]()) ? (this.valueFromJulia[\"index\"]=true, this.model[\"index\"](val)) : undefined})"
             ]
            },
            "id": "16400786692845543044",
            "imports": {
             "data": [
              {
               "name": "knockout",
               "type": "js",
               "url": "/assetserver/1d039a0de7d5774d7e32099beea16a643a23af9b-knockout.js"
              },
              {
               "name": "knockout_punches",
               "type": "js",
               "url": "/assetserver/5e5d881d4b9820011e11e238536cd60a0e0cf817-knockout_punches.js"
              },
              {
               "name": null,
               "type": "js",
               "url": "/assetserver/e18d2d1e0a396f5f45c9bb9df36eb509bca2c7e5-all.js"
              },
              {
               "name": null,
               "type": "css",
               "url": "/assetserver/8163d0bac02a04e5b2245d884e4a36738983d2fd-style.css"
              },
              {
               "name": null,
               "type": "css",
               "url": "/assetserver/8ca22a055051e8f144a95f0904f9bf0fe55a79de-bulma_confined.min.css"
              }
             ],
             "type": "async_block"
            },
            "mount_callbacks": [
             "function () {\n    var handler = (function (ko, koPunches) {\n    ko.punches.enableAll();\n    ko.bindingHandlers.numericValue = {\n        init: function(element, valueAccessor, allBindings, data, context) {\n            var stringified = ko.observable(ko.unwrap(valueAccessor()));\n            stringified.subscribe(function(value) {\n                var val = parseFloat(value);\n                if (!isNaN(val)) {\n                    valueAccessor()(val);\n                }\n            });\n            valueAccessor().subscribe(function(value) {\n                var str = JSON.stringify(value);\n                if ((str == \"0\") && ([\"-0\", \"-0.\"].indexOf(stringified()) >= 0))\n                     return;\n                 if ([\"null\", \"\"].indexOf(str) >= 0)\n                     return;\n                stringified(str);\n            });\n            ko.applyBindingsToNode(\n                element,\n                {\n                    value: stringified,\n                    valueUpdate: allBindings.get('valueUpdate'),\n                },\n                context,\n            );\n        }\n    };\n    var json_data = {\"formatted_vals\":[\"1\",\"2\",\"3\",\"4\",\"5\",\"6\",\"7\",\"8\",\"9\",\"10\",\"11\",\"12\",\"13\"],\"changes\":WebIO.getval({\"name\":\"changes\",\"scope\":\"16400786692845543044\",\"id\":\"ob_26\",\"type\":\"observable\"}),\"index\":WebIO.getval({\"name\":\"index\",\"scope\":\"16400786692845543044\",\"id\":\"ob_25\",\"type\":\"observable\"})};\n    var self = this;\n    function AppViewModel() {\n        for (var key in json_data) {\n            var el = json_data[key];\n            this[key] = Array.isArray(el) ? ko.observableArray(el) : ko.observable(el);\n        }\n        \n        [this[\"formatted_val\"]=ko.computed(    function(){\n        return this.formatted_vals()[parseInt(this.index())-(1)];\n    }\n,this)]\n        [this[\"changes\"].subscribe((function (val){!(this.valueFromJulia[\"changes\"]) ? (WebIO.setval({\"name\":\"changes\",\"scope\":\"16400786692845543044\",\"id\":\"ob_26\",\"type\":\"observable\"},val)) : undefined; return this.valueFromJulia[\"changes\"]=false}),self),this[\"index\"].subscribe((function (val){!(this.valueFromJulia[\"index\"]) ? (WebIO.setval({\"name\":\"index\",\"scope\":\"16400786692845543044\",\"id\":\"ob_25\",\"type\":\"observable\"},val)) : undefined; return this.valueFromJulia[\"index\"]=false}),self)]\n        \n    }\n    self.model = new AppViewModel();\n    self.valueFromJulia = {};\n    for (var key in json_data) {\n        self.valueFromJulia[key] = false;\n    }\n    ko.applyBindings(self.model, self.dom);\n}\n);\n    (WebIO.importBlock({\"data\":[{\"name\":\"knockout\",\"type\":\"js\",\"url\":\"/assetserver/1d039a0de7d5774d7e32099beea16a643a23af9b-knockout.js\"},{\"name\":\"knockout_punches\",\"type\":\"js\",\"url\":\"/assetserver/5e5d881d4b9820011e11e238536cd60a0e0cf817-knockout_punches.js\"}],\"type\":\"async_block\"})).then((imports) => handler.apply(this, imports));\n}\n"
            ],
            "observables": {
             "changes": {
              "id": "ob_26",
              "sync": false,
              "value": 0
             },
             "index": {
              "id": "ob_25",
              "sync": true,
              "value": 7
             }
            },
            "systemjs_options": null
           },
           "nodeType": "Scope",
           "props": {},
           "type": "node"
          }
         ],
         "instanceArgs": {
          "namespace": "html",
          "tag": "div"
         },
         "nodeType": "DOM",
         "props": {
          "className": "field interact-widget"
         },
         "type": "node"
        },
        {
         "children": [
          {
           "children": [],
           "instanceArgs": {
            "id": "ob_32",
            "name": "obs-node"
           },
           "nodeType": "ObservableNode",
           "props": {},
           "type": "node"
          }
         ],
         "instanceArgs": {
          "handlers": {},
          "id": "3945719211656611686",
          "imports": {
           "data": [],
           "type": "async_block"
          },
          "mount_callbacks": [],
          "observables": {
           "obs-node": {
            "id": "ob_32",
            "sync": false,
            "value": {
             "children": [
              {
               "children": [],
               "instanceArgs": {
                "namespace": "html",
                "tag": "div"
               },
               "nodeType": "DOM",
               "props": {
                "setInnerHtml": "<?xml version=\"1.0\" encoding=\"utf-8\"?>\n<svg xmlns=\"http://www.w3.org/2000/svg\" xmlns:xlink=\"http://www.w3.org/1999/xlink\" width=\"600\" height=\"400\" viewBox=\"0 0 2400 1600\">\n<defs>\n  <clipPath id=\"clip9000\">\n    <rect x=\"0\" y=\"0\" width=\"2400\" height=\"1600\"/>\n  </clipPath>\n</defs>\n<path clip-path=\"url(#clip9000)\" d=\"\nM0 1600 L2400 1600 L2400 0 L0 0  Z\n  \" fill=\"#ffffff\" fill-rule=\"evenodd\" fill-opacity=\"1\"/>\n<defs>\n  <clipPath id=\"clip9001\">\n    <rect x=\"480\" y=\"0\" width=\"1681\" height=\"1600\"/>\n  </clipPath>\n</defs>\n<path clip-path=\"url(#clip9000)\" d=\"\nM141.865 1487.47 L2352.76 1487.47 L2352.76 47.2441 L141.865 47.2441  Z\n  \" fill=\"#ffffff\" fill-rule=\"evenodd\" fill-opacity=\"1\"/>\n<defs>\n  <clipPath id=\"clip9002\">\n    <rect x=\"141\" y=\"47\" width=\"2212\" height=\"1441\"/>\n  </clipPath>\n</defs>\n<polyline clip-path=\"url(#clip9002)\" style=\"stroke:#000000; stroke-width:2; stroke-opacity:0.1; fill:none\" points=\"\n  204.437,1487.47 204.437,47.2441 \n  \"/>\n<polyline clip-path=\"url(#clip9002)\" style=\"stroke:#000000; stroke-width:2; stroke-opacity:0.1; fill:none\" points=\"\n  725.874,1487.47 725.874,47.2441 \n  \"/>\n<polyline clip-path=\"url(#clip9002)\" style=\"stroke:#000000; stroke-width:2; stroke-opacity:0.1; fill:none\" points=\"\n  1247.31,1487.47 1247.31,47.2441 \n  \"/>\n<polyline clip-path=\"url(#clip9002)\" style=\"stroke:#000000; stroke-width:2; stroke-opacity:0.1; fill:none\" points=\"\n  1768.75,1487.47 1768.75,47.2441 \n  \"/>\n<polyline clip-path=\"url(#clip9002)\" style=\"stroke:#000000; stroke-width:2; stroke-opacity:0.1; fill:none\" points=\"\n  2290.18,1487.47 2290.18,47.2441 \n  \"/>\n<polyline clip-path=\"url(#clip9002)\" style=\"stroke:#000000; stroke-width:2; stroke-opacity:0.1; fill:none\" points=\"\n  141.865,1487.47 2352.76,1487.47 \n  \"/>\n<polyline clip-path=\"url(#clip9002)\" style=\"stroke:#000000; stroke-width:2; stroke-opacity:0.1; fill:none\" points=\"\n  141.865,1127.42 2352.76,1127.42 \n  \"/>\n<polyline clip-path=\"url(#clip9002)\" style=\"stroke:#000000; stroke-width:2; stroke-opacity:0.1; fill:none\" points=\"\n  141.865,767.359 2352.76,767.359 \n  \"/>\n<polyline clip-path=\"url(#clip9002)\" style=\"stroke:#000000; stroke-width:2; stroke-opacity:0.1; fill:none\" points=\"\n  141.865,407.302 2352.76,407.302 \n  \"/>\n<polyline clip-path=\"url(#clip9002)\" style=\"stroke:#000000; stroke-width:2; stroke-opacity:0.1; fill:none\" points=\"\n  141.865,47.2441 2352.76,47.2441 \n  \"/>\n<polyline clip-path=\"url(#clip9000)\" style=\"stroke:#000000; stroke-width:4; stroke-opacity:1; fill:none\" points=\"\n  141.865,1487.47 2352.76,1487.47 \n  \"/>\n<polyline clip-path=\"url(#clip9000)\" style=\"stroke:#000000; stroke-width:4; stroke-opacity:1; fill:none\" points=\"\n  141.865,1487.47 141.865,47.2441 \n  \"/>\n<polyline clip-path=\"url(#clip9000)\" style=\"stroke:#000000; stroke-width:4; stroke-opacity:1; fill:none\" points=\"\n  204.437,1487.47 204.437,1470.19 \n  \"/>\n<polyline clip-path=\"url(#clip9000)\" style=\"stroke:#000000; stroke-width:4; stroke-opacity:1; fill:none\" points=\"\n  725.874,1487.47 725.874,1470.19 \n  \"/>\n<polyline clip-path=\"url(#clip9000)\" style=\"stroke:#000000; stroke-width:4; stroke-opacity:1; fill:none\" points=\"\n  1247.31,1487.47 1247.31,1470.19 \n  \"/>\n<polyline clip-path=\"url(#clip9000)\" style=\"stroke:#000000; stroke-width:4; stroke-opacity:1; fill:none\" points=\"\n  1768.75,1487.47 1768.75,1470.19 \n  \"/>\n<polyline clip-path=\"url(#clip9000)\" style=\"stroke:#000000; stroke-width:4; stroke-opacity:1; fill:none\" points=\"\n  2290.18,1487.47 2290.18,1470.19 \n  \"/>\n<polyline clip-path=\"url(#clip9000)\" style=\"stroke:#000000; stroke-width:4; stroke-opacity:1; fill:none\" points=\"\n  141.865,1487.47 168.395,1487.47 \n  \"/>\n<polyline clip-path=\"url(#clip9000)\" style=\"stroke:#000000; stroke-width:4; stroke-opacity:1; fill:none\" points=\"\n  141.865,1127.42 168.395,1127.42 \n  \"/>\n<polyline clip-path=\"url(#clip9000)\" style=\"stroke:#000000; stroke-width:4; stroke-opacity:1; fill:none\" points=\"\n  141.865,767.359 168.395,767.359 \n  \"/>\n<polyline clip-path=\"url(#clip9000)\" style=\"stroke:#000000; stroke-width:4; stroke-opacity:1; fill:none\" points=\"\n  141.865,407.302 168.395,407.302 \n  \"/>\n<polyline clip-path=\"url(#clip9000)\" style=\"stroke:#000000; stroke-width:4; stroke-opacity:1; fill:none\" points=\"\n  141.865,47.2441 168.395,47.2441 \n  \"/>\n<g clip-path=\"url(#clip9000)\">\n<text style=\"fill:#000000; fill-opacity:1; font-family:Arial,Helvetica Neue,Helvetica,sans-serif; font-size:48px; text-anchor:middle;\" transform=\"rotate(0, 204.437, 1541.47)\" x=\"204.437\" y=\"1541.47\">-1.0</text>\n</g>\n<g clip-path=\"url(#clip9000)\">\n<text style=\"fill:#000000; fill-opacity:1; font-family:Arial,Helvetica Neue,Helvetica,sans-serif; font-size:48px; text-anchor:middle;\" transform=\"rotate(0, 725.874, 1541.47)\" x=\"725.874\" y=\"1541.47\">-0.5</text>\n</g>\n<g clip-path=\"url(#clip9000)\">\n<text style=\"fill:#000000; fill-opacity:1; font-family:Arial,Helvetica Neue,Helvetica,sans-serif; font-size:48px; text-anchor:middle;\" transform=\"rotate(0, 1247.31, 1541.47)\" x=\"1247.31\" y=\"1541.47\">0.0</text>\n</g>\n<g clip-path=\"url(#clip9000)\">\n<text style=\"fill:#000000; fill-opacity:1; font-family:Arial,Helvetica Neue,Helvetica,sans-serif; font-size:48px; text-anchor:middle;\" transform=\"rotate(0, 1768.75, 1541.47)\" x=\"1768.75\" y=\"1541.47\">0.5</text>\n</g>\n<g clip-path=\"url(#clip9000)\">\n<text style=\"fill:#000000; fill-opacity:1; font-family:Arial,Helvetica Neue,Helvetica,sans-serif; font-size:48px; text-anchor:middle;\" transform=\"rotate(0, 2290.18, 1541.47)\" x=\"2290.18\" y=\"1541.47\">1.0</text>\n</g>\n<g clip-path=\"url(#clip9000)\">\n<text style=\"fill:#000000; fill-opacity:1; font-family:Arial,Helvetica Neue,Helvetica,sans-serif; font-size:48px; text-anchor:end;\" transform=\"rotate(0, 117.865, 1504.97)\" x=\"117.865\" y=\"1504.97\">-2</text>\n</g>\n<g clip-path=\"url(#clip9000)\">\n<text style=\"fill:#000000; fill-opacity:1; font-family:Arial,Helvetica Neue,Helvetica,sans-serif; font-size:48px; text-anchor:end;\" transform=\"rotate(0, 117.865, 1144.92)\" x=\"117.865\" y=\"1144.92\">-1</text>\n</g>\n<g clip-path=\"url(#clip9000)\">\n<text style=\"fill:#000000; fill-opacity:1; font-family:Arial,Helvetica Neue,Helvetica,sans-serif; font-size:48px; text-anchor:end;\" transform=\"rotate(0, 117.865, 784.859)\" x=\"117.865\" y=\"784.859\">0</text>\n</g>\n<g clip-path=\"url(#clip9000)\">\n<text style=\"fill:#000000; fill-opacity:1; font-family:Arial,Helvetica Neue,Helvetica,sans-serif; font-size:48px; text-anchor:end;\" transform=\"rotate(0, 117.865, 424.802)\" x=\"117.865\" y=\"424.802\">1</text>\n</g>\n<g clip-path=\"url(#clip9000)\">\n<text style=\"fill:#000000; fill-opacity:1; font-family:Arial,Helvetica Neue,Helvetica,sans-serif; font-size:48px; text-anchor:end;\" transform=\"rotate(0, 117.865, 64.7441)\" x=\"117.865\" y=\"64.7441\">2</text>\n</g>\n<circle clip-path=\"url(#clip9002)\" style=\"fill:#000000; stroke:none; fill-opacity:1\" cx=\"204.437\" cy=\"753.511\" r=\"18\"/>\n<circle clip-path=\"url(#clip9002)\" style=\"fill:#009af9; stroke:none; fill-opacity:1\" cx=\"204.437\" cy=\"753.511\" r=\"14\"/>\n<circle clip-path=\"url(#clip9002)\" style=\"fill:#000000; stroke:none; fill-opacity:1\" cx=\"502.401\" cy=\"741.183\" r=\"18\"/>\n<circle clip-path=\"url(#clip9002)\" style=\"fill:#009af9; stroke:none; fill-opacity:1\" cx=\"502.401\" cy=\"741.183\" r=\"14\"/>\n<circle clip-path=\"url(#clip9002)\" style=\"fill:#000000; stroke:none; fill-opacity:1\" cx=\"800.365\" cy=\"702.97\" r=\"18\"/>\n<circle clip-path=\"url(#clip9002)\" style=\"fill:#009af9; stroke:none; fill-opacity:1\" cx=\"800.365\" cy=\"702.97\" r=\"14\"/>\n<circle clip-path=\"url(#clip9002)\" style=\"fill:#000000; stroke:none; fill-opacity:1\" cx=\"1098.33\" cy=\"528.943\" r=\"18\"/>\n<circle clip-path=\"url(#clip9002)\" style=\"fill:#009af9; stroke:none; fill-opacity:1\" cx=\"1098.33\" cy=\"528.943\" r=\"14\"/>\n<circle clip-path=\"url(#clip9002)\" style=\"fill:#000000; stroke:none; fill-opacity:1\" cx=\"1396.29\" cy=\"528.943\" r=\"18\"/>\n<circle clip-path=\"url(#clip9002)\" style=\"fill:#009af9; stroke:none; fill-opacity:1\" cx=\"1396.29\" cy=\"528.943\" r=\"14\"/>\n<circle clip-path=\"url(#clip9002)\" style=\"fill:#000000; stroke:none; fill-opacity:1\" cx=\"1694.26\" cy=\"702.97\" r=\"18\"/>\n<circle clip-path=\"url(#clip9002)\" style=\"fill:#009af9; stroke:none; fill-opacity:1\" cx=\"1694.26\" cy=\"702.97\" r=\"14\"/>\n<circle clip-path=\"url(#clip9002)\" style=\"fill:#000000; stroke:none; fill-opacity:1\" cx=\"1992.22\" cy=\"741.183\" r=\"18\"/>\n<circle clip-path=\"url(#clip9002)\" style=\"fill:#009af9; stroke:none; fill-opacity:1\" cx=\"1992.22\" cy=\"741.183\" r=\"14\"/>\n<circle clip-path=\"url(#clip9002)\" style=\"fill:#000000; stroke:none; fill-opacity:1\" cx=\"2290.18\" cy=\"753.511\" r=\"18\"/>\n<circle clip-path=\"url(#clip9002)\" style=\"fill:#009af9; stroke:none; fill-opacity:1\" cx=\"2290.18\" cy=\"753.511\" r=\"14\"/>\n<polyline clip-path=\"url(#clip9002)\" style=\"stroke:#e26f46; stroke-width:4; stroke-opacity:1; fill:none\" points=\"\n  141.865,880.836 147.262,866.155 152.66,852.249 158.058,839.092 163.456,826.659 175.933,800.564 188.411,777.932 200.888,758.492 213.366,741.987 225.844,728.171 \n  238.321,716.809 250.799,707.678 263.276,700.568 275.754,695.279 288.232,691.62 300.709,689.412 313.187,688.487 338.142,689.853 363.097,694.552 423.085,713.613 \n  483.073,735.083 508.433,742.945 533.793,749.467 559.152,754.349 584.512,757.371 612.059,758.381 639.607,756.933 667.155,753.015 694.702,746.69 720.099,738.83 \n  745.495,729.166 770.892,717.868 796.288,705.133 905.199,639.721 1031.38,561.765 1059.42,546.943 1087.45,533.642 1115.49,522.098 1143.52,512.51 1168.1,505.845 \n  1192.69,500.901 1217.27,497.742 1241.85,496.411 1268.66,497.061 1295.46,499.894 1322.26,504.864 1349.07,511.895 1376.03,520.935 1402.99,531.804 1429.95,544.327 \n  1456.91,558.302 1576.15,631.163 1689.61,700.465 1719.1,715.647 1748.59,728.944 1778.08,740.044 1807.57,748.683 1832.4,753.896 1857.22,757.14 1882.05,758.376 \n  1906.87,757.615 1937.18,754.076 1967.49,747.902 1997.8,739.489 2028.11,729.407 2085.09,708.757 2142.08,692.227 2164.9,688.964 2187.72,688.803 2199.13,690.171 \n  2210.54,692.669 2221.96,696.429 2233.37,701.592 2244.78,708.304 2256.19,716.719 2267.6,726.999 2279.01,739.313 2290.42,753.84 2301.83,770.766 2313.25,790.285 \n  2324.66,812.6 2331.68,827.82 2338.71,844.23 2345.73,861.884 2352.76,880.836 \n  \"/>\n<path clip-path=\"url(#clip9000)\" d=\"\nM1749.21 312.204 L2280.76 312.204 L2280.76 130.764 L1749.21 130.764  Z\n  \" fill=\"#ffffff\" fill-rule=\"evenodd\" fill-opacity=\"1\"/>\n<polyline clip-path=\"url(#clip9000)\" style=\"stroke:#000000; stroke-width:4; stroke-opacity:1; fill:none\" points=\"\n  1749.21,312.204 2280.76,312.204 2280.76,130.764 1749.21,130.764 1749.21,312.204 \n  \"/>\n<circle clip-path=\"url(#clip9000)\" style=\"fill:#000000; stroke:none; fill-opacity:1\" cx=\"1857.21\" cy=\"191.244\" r=\"25\"/>\n<circle clip-path=\"url(#clip9000)\" style=\"fill:#009af9; stroke:none; fill-opacity:1\" cx=\"1857.21\" cy=\"191.244\" r=\"21\"/>\n<g clip-path=\"url(#clip9000)\">\n<text style=\"fill:#000000; fill-opacity:1; font-family:Arial,Helvetica Neue,Helvetica,sans-serif; font-size:48px; text-anchor:start;\" transform=\"rotate(0, 1941.21, 208.744)\" x=\"1941.21\" y=\"208.744\">Datos</text>\n</g>\n<polyline clip-path=\"url(#clip9000)\" style=\"stroke:#e26f46; stroke-width:4; stroke-opacity:1; fill:none\" points=\"\n  1773.21,251.724 1917.21,251.724 \n  \"/>\n<g clip-path=\"url(#clip9000)\">\n<text style=\"fill:#000000; fill-opacity:1; font-family:Arial,Helvetica Neue,Helvetica,sans-serif; font-size:48px; text-anchor:start;\" transform=\"rotate(0, 1941.21, 269.224)\" x=\"1941.21\" y=\"269.224\">Aproximación</text>\n</g>\n</svg>\n"
               },
               "type": "node"
              }
             ],
             "instanceArgs": {
              "namespace": "html",
              "tag": "div"
             },
             "nodeType": "DOM",
             "props": {
              "className": "interact-flex-row interact-widget"
             },
             "type": "node"
            }
           }
          },
          "systemjs_options": null
         },
         "nodeType": "Scope",
         "props": {},
         "type": "node"
        }
       ],
       "instanceArgs": {
        "namespace": "html",
        "tag": "div"
       },
       "nodeType": "DOM",
       "props": {},
       "type": "node"
      },
      "text/html": [
       "<div\n",
       "    class=\"webio-mountpoint\"\n",
       "    data-webio-mountpoint=\"265928428297930204\"\n",
       ">\n",
       "    <script>\n",
       "    if (window.require && require.defined && require.defined(\"nbextensions/webio-jupyter-notebook\")) {\n",
       "        console.log(\"Jupyter WebIO extension detected, not mounting.\");\n",
       "    } else if (window.WebIO) {\n",
       "        WebIO.mount(\n",
       "            document.querySelector('[data-webio-mountpoint=\"265928428297930204\"]'),\n",
       "            {\"props\":{},\"nodeType\":\"DOM\",\"type\":\"node\",\"instanceArgs\":{\"namespace\":\"html\",\"tag\":\"div\"},\"children\":[{\"props\":{\"className\":\"field interact-widget\"},\"nodeType\":\"DOM\",\"type\":\"node\",\"instanceArgs\":{\"namespace\":\"html\",\"tag\":\"div\"},\"children\":[{\"props\":{},\"nodeType\":\"Scope\",\"type\":\"node\",\"instanceArgs\":{\"imports\":{\"data\":[{\"name\":\"knockout\",\"type\":\"js\",\"url\":\"\\/assetserver\\/1d039a0de7d5774d7e32099beea16a643a23af9b-knockout.js\"},{\"name\":\"knockout_punches\",\"type\":\"js\",\"url\":\"\\/assetserver\\/5e5d881d4b9820011e11e238536cd60a0e0cf817-knockout_punches.js\"},{\"name\":null,\"type\":\"js\",\"url\":\"\\/assetserver\\/e18d2d1e0a396f5f45c9bb9df36eb509bca2c7e5-all.js\"},{\"name\":null,\"type\":\"css\",\"url\":\"\\/assetserver\\/8163d0bac02a04e5b2245d884e4a36738983d2fd-style.css\"},{\"name\":null,\"type\":\"css\",\"url\":\"\\/assetserver\\/8ca22a055051e8f144a95f0904f9bf0fe55a79de-bulma_confined.min.css\"}],\"type\":\"async_block\"},\"id\":\"16400786692845543044\",\"handlers\":{\"changes\":[\"(function (val){return (val!=this.model[\\\"changes\\\"]()) ? (this.valueFromJulia[\\\"changes\\\"]=true, this.model[\\\"changes\\\"](val)) : undefined})\"],\"index\":[\"(function (val){return (val!=this.model[\\\"index\\\"]()) ? (this.valueFromJulia[\\\"index\\\"]=true, this.model[\\\"index\\\"](val)) : undefined})\"]},\"systemjs_options\":null,\"mount_callbacks\":[\"function () {\\n    var handler = (function (ko, koPunches) {\\n    ko.punches.enableAll();\\n    ko.bindingHandlers.numericValue = {\\n        init: function(element, valueAccessor, allBindings, data, context) {\\n            var stringified = ko.observable(ko.unwrap(valueAccessor()));\\n            stringified.subscribe(function(value) {\\n                var val = parseFloat(value);\\n                if (!isNaN(val)) {\\n                    valueAccessor()(val);\\n                }\\n            });\\n            valueAccessor().subscribe(function(value) {\\n                var str = JSON.stringify(value);\\n                if ((str == \\\"0\\\") && ([\\\"-0\\\", \\\"-0.\\\"].indexOf(stringified()) >= 0))\\n                     return;\\n                 if ([\\\"null\\\", \\\"\\\"].indexOf(str) >= 0)\\n                     return;\\n                stringified(str);\\n            });\\n            ko.applyBindingsToNode(\\n                element,\\n                {\\n                    value: stringified,\\n                    valueUpdate: allBindings.get('valueUpdate'),\\n                },\\n                context,\\n            );\\n        }\\n    };\\n    var json_data = {\\\"formatted_vals\\\":[\\\"1\\\",\\\"2\\\",\\\"3\\\",\\\"4\\\",\\\"5\\\",\\\"6\\\",\\\"7\\\",\\\"8\\\",\\\"9\\\",\\\"10\\\",\\\"11\\\",\\\"12\\\",\\\"13\\\"],\\\"changes\\\":WebIO.getval({\\\"name\\\":\\\"changes\\\",\\\"scope\\\":\\\"16400786692845543044\\\",\\\"id\\\":\\\"ob_26\\\",\\\"type\\\":\\\"observable\\\"}),\\\"index\\\":WebIO.getval({\\\"name\\\":\\\"index\\\",\\\"scope\\\":\\\"16400786692845543044\\\",\\\"id\\\":\\\"ob_25\\\",\\\"type\\\":\\\"observable\\\"})};\\n    var self = this;\\n    function AppViewModel() {\\n        for (var key in json_data) {\\n            var el = json_data[key];\\n            this[key] = Array.isArray(el) ? ko.observableArray(el) : ko.observable(el);\\n        }\\n        \\n        [this[\\\"formatted_val\\\"]=ko.computed(    function(){\\n        return this.formatted_vals()[parseInt(this.index())-(1)];\\n    }\\n,this)]\\n        [this[\\\"changes\\\"].subscribe((function (val){!(this.valueFromJulia[\\\"changes\\\"]) ? (WebIO.setval({\\\"name\\\":\\\"changes\\\",\\\"scope\\\":\\\"16400786692845543044\\\",\\\"id\\\":\\\"ob_26\\\",\\\"type\\\":\\\"observable\\\"},val)) : undefined; return this.valueFromJulia[\\\"changes\\\"]=false}),self),this[\\\"index\\\"].subscribe((function (val){!(this.valueFromJulia[\\\"index\\\"]) ? (WebIO.setval({\\\"name\\\":\\\"index\\\",\\\"scope\\\":\\\"16400786692845543044\\\",\\\"id\\\":\\\"ob_25\\\",\\\"type\\\":\\\"observable\\\"},val)) : undefined; return this.valueFromJulia[\\\"index\\\"]=false}),self)]\\n        \\n    }\\n    self.model = new AppViewModel();\\n    self.valueFromJulia = {};\\n    for (var key in json_data) {\\n        self.valueFromJulia[key] = false;\\n    }\\n    ko.applyBindings(self.model, self.dom);\\n}\\n);\\n    (WebIO.importBlock({\\\"data\\\":[{\\\"name\\\":\\\"knockout\\\",\\\"type\\\":\\\"js\\\",\\\"url\\\":\\\"\\/assetserver\\/1d039a0de7d5774d7e32099beea16a643a23af9b-knockout.js\\\"},{\\\"name\\\":\\\"knockout_punches\\\",\\\"type\\\":\\\"js\\\",\\\"url\\\":\\\"\\/assetserver\\/5e5d881d4b9820011e11e238536cd60a0e0cf817-knockout_punches.js\\\"}],\\\"type\\\":\\\"async_block\\\"})).then((imports) => handler.apply(this, imports));\\n}\\n\"],\"observables\":{\"changes\":{\"sync\":false,\"id\":\"ob_26\",\"value\":0},\"index\":{\"sync\":true,\"id\":\"ob_25\",\"value\":7}}},\"children\":[{\"props\":{\"className\":\"interact-flex-row interact-widget\"},\"nodeType\":\"DOM\",\"type\":\"node\",\"instanceArgs\":{\"namespace\":\"html\",\"tag\":\"div\"},\"children\":[{\"props\":{\"className\":\"interact-flex-row-left\"},\"nodeType\":\"DOM\",\"type\":\"node\",\"instanceArgs\":{\"namespace\":\"html\",\"tag\":\"div\"},\"children\":[{\"props\":{\"className\":\"interact \",\"style\":{\"padding\":\"5px 10px 0px 10px\"}},\"nodeType\":\"DOM\",\"type\":\"node\",\"instanceArgs\":{\"namespace\":\"html\",\"tag\":\"label\"},\"children\":[\"n\"]}]},{\"props\":{\"className\":\"interact-flex-row-center\"},\"nodeType\":\"DOM\",\"type\":\"node\",\"instanceArgs\":{\"namespace\":\"html\",\"tag\":\"div\"},\"children\":[{\"props\":{\"max\":13,\"min\":1,\"attributes\":{\"type\":\"range\",\"data-bind\":\"numericValue: index, valueUpdate: 'input', event: {change: function (){this.changes(this.changes()+1)}}\",\"orient\":\"horizontal\"},\"step\":1,\"className\":\"slider slider is-fullwidth\",\"style\":{}},\"nodeType\":\"DOM\",\"type\":\"node\",\"instanceArgs\":{\"namespace\":\"html\",\"tag\":\"input\"},\"children\":[]}]},{\"props\":{\"className\":\"interact-flex-row-right\"},\"nodeType\":\"DOM\",\"type\":\"node\",\"instanceArgs\":{\"namespace\":\"html\",\"tag\":\"div\"},\"children\":[{\"props\":{\"attributes\":{\"data-bind\":\"text: formatted_val\"}},\"nodeType\":\"DOM\",\"type\":\"node\",\"instanceArgs\":{\"namespace\":\"html\",\"tag\":\"p\"},\"children\":[]}]}]}]}]},{\"props\":{},\"nodeType\":\"Scope\",\"type\":\"node\",\"instanceArgs\":{\"imports\":{\"data\":[],\"type\":\"async_block\"},\"id\":\"15880036770498810373\",\"handlers\":{},\"systemjs_options\":null,\"mount_callbacks\":[],\"observables\":{\"obs-node\":{\"sync\":false,\"id\":\"ob_30\",\"value\":{\"props\":{\"className\":\"interact-flex-row interact-widget\"},\"nodeType\":\"DOM\",\"type\":\"node\",\"instanceArgs\":{\"namespace\":\"html\",\"tag\":\"div\"},\"children\":[{\"props\":{\"setInnerHtml\":\"<?xml version=\\\"1.0\\\" encoding=\\\"utf-8\\\"?>\\n<svg xmlns=\\\"http:\\/\\/www.w3.org\\/2000\\/svg\\\" xmlns:xlink=\\\"http:\\/\\/www.w3.org\\/1999\\/xlink\\\" width=\\\"600\\\" height=\\\"400\\\" viewBox=\\\"0 0 2400 1600\\\">\\n<defs>\\n  <clipPath id=\\\"clip8600\\\">\\n    <rect x=\\\"0\\\" y=\\\"0\\\" width=\\\"2400\\\" height=\\\"1600\\\"\\/>\\n  <\\/clipPath>\\n<\\/defs>\\n<path clip-path=\\\"url(#clip8600)\\\" d=\\\"\\nM0 1600 L2400 1600 L2400 0 L0 0  Z\\n  \\\" fill=\\\"#ffffff\\\" fill-rule=\\\"evenodd\\\" fill-opacity=\\\"1\\\"\\/>\\n<defs>\\n  <clipPath id=\\\"clip8601\\\">\\n    <rect x=\\\"480\\\" y=\\\"0\\\" width=\\\"1681\\\" height=\\\"1600\\\"\\/>\\n  <\\/clipPath>\\n<\\/defs>\\n<path clip-path=\\\"url(#clip8600)\\\" d=\\\"\\nM141.865 1487.47 L2352.76 1487.47 L2352.76 47.2441 L141.865 47.2441  Z\\n  \\\" fill=\\\"#ffffff\\\" fill-rule=\\\"evenodd\\\" fill-opacity=\\\"1\\\"\\/>\\n<defs>\\n  <clipPath id=\\\"clip8602\\\">\\n    <rect x=\\\"141\\\" y=\\\"47\\\" width=\\\"2212\\\" height=\\\"1441\\\"\\/>\\n  <\\/clipPath>\\n<\\/defs>\\n<polyline clip-path=\\\"url(#clip8602)\\\" style=\\\"stroke:#000000; stroke-width:2; stroke-opacity:0.1; fill:none\\\" points=\\\"\\n  204.437,1487.47 204.437,47.2441 \\n  \\\"\\/>\\n<polyline clip-path=\\\"url(#clip8602)\\\" style=\\\"stroke:#000000; stroke-width:2; stroke-opacity:0.1; fill:none\\\" points=\\\"\\n  725.874,1487.47 725.874,47.2441 \\n  \\\"\\/>\\n<polyline clip-path=\\\"url(#clip8602)\\\" style=\\\"stroke:#000000; stroke-width:2; stroke-opacity:0.1; fill:none\\\" points=\\\"\\n  1247.31,1487.47 1247.31,47.2441 \\n  \\\"\\/>\\n<polyline clip-path=\\\"url(#clip8602)\\\" style=\\\"stroke:#000000; stroke-width:2; stroke-opacity:0.1; fill:none\\\" points=\\\"\\n  1768.75,1487.47 1768.75,47.2441 \\n  \\\"\\/>\\n<polyline clip-path=\\\"url(#clip8602)\\\" style=\\\"stroke:#000000; stroke-width:2; stroke-opacity:0.1; fill:none\\\" points=\\\"\\n  2290.18,1487.47 2290.18,47.2441 \\n  \\\"\\/>\\n<polyline clip-path=\\\"url(#clip8602)\\\" style=\\\"stroke:#000000; stroke-width:2; stroke-opacity:0.1; fill:none\\\" points=\\\"\\n  141.865,1487.47 2352.76,1487.47 \\n  \\\"\\/>\\n<polyline clip-path=\\\"url(#clip8602)\\\" style=\\\"stroke:#000000; stroke-width:2; stroke-opacity:0.1; fill:none\\\" points=\\\"\\n  141.865,1127.42 2352.76,1127.42 \\n  \\\"\\/>\\n<polyline clip-path=\\\"url(#clip8602)\\\" style=\\\"stroke:#000000; stroke-width:2; stroke-opacity:0.1; fill:none\\\" points=\\\"\\n  141.865,767.359 2352.76,767.359 \\n  \\\"\\/>\\n<polyline clip-path=\\\"url(#clip8602)\\\" style=\\\"stroke:#000000; stroke-width:2; stroke-opacity:0.1; fill:none\\\" points=\\\"\\n  141.865,407.302 2352.76,407.302 \\n  \\\"\\/>\\n<polyline clip-path=\\\"url(#clip8602)\\\" style=\\\"stroke:#000000; stroke-width:2; stroke-opacity:0.1; fill:none\\\" points=\\\"\\n  141.865,47.2441 2352.76,47.2441 \\n  \\\"\\/>\\n<polyline clip-path=\\\"url(#clip8600)\\\" style=\\\"stroke:#000000; stroke-width:4; stroke-opacity:1; fill:none\\\" points=\\\"\\n  141.865,1487.47 2352.76,1487.47 \\n  \\\"\\/>\\n<polyline clip-path=\\\"url(#clip8600)\\\" style=\\\"stroke:#000000; stroke-width:4; stroke-opacity:1; fill:none\\\" points=\\\"\\n  141.865,1487.47 141.865,47.2441 \\n  \\\"\\/>\\n<polyline clip-path=\\\"url(#clip8600)\\\" style=\\\"stroke:#000000; stroke-width:4; stroke-opacity:1; fill:none\\\" points=\\\"\\n  204.437,1487.47 204.437,1470.19 \\n  \\\"\\/>\\n<polyline clip-path=\\\"url(#clip8600)\\\" style=\\\"stroke:#000000; stroke-width:4; stroke-opacity:1; fill:none\\\" points=\\\"\\n  725.874,1487.47 725.874,1470.19 \\n  \\\"\\/>\\n<polyline clip-path=\\\"url(#clip8600)\\\" style=\\\"stroke:#000000; stroke-width:4; stroke-opacity:1; fill:none\\\" points=\\\"\\n  1247.31,1487.47 1247.31,1470.19 \\n  \\\"\\/>\\n<polyline clip-path=\\\"url(#clip8600)\\\" style=\\\"stroke:#000000; stroke-width:4; stroke-opacity:1; fill:none\\\" points=\\\"\\n  1768.75,1487.47 1768.75,1470.19 \\n  \\\"\\/>\\n<polyline clip-path=\\\"url(#clip8600)\\\" style=\\\"stroke:#000000; stroke-width:4; stroke-opacity:1; fill:none\\\" points=\\\"\\n  2290.18,1487.47 2290.18,1470.19 \\n  \\\"\\/>\\n<polyline clip-path=\\\"url(#clip8600)\\\" style=\\\"stroke:#000000; stroke-width:4; stroke-opacity:1; fill:none\\\" points=\\\"\\n  141.865,1487.47 168.395,1487.47 \\n  \\\"\\/>\\n<polyline clip-path=\\\"url(#clip8600)\\\" style=\\\"stroke:#000000; stroke-width:4; stroke-opacity:1; fill:none\\\" points=\\\"\\n  141.865,1127.42 168.395,1127.42 \\n  \\\"\\/>\\n<polyline clip-path=\\\"url(#clip8600)\\\" style=\\\"stroke:#000000; stroke-width:4; stroke-opacity:1; fill:none\\\" points=\\\"\\n  141.865,767.359 168.395,767.359 \\n  \\\"\\/>\\n<polyline clip-path=\\\"url(#clip8600)\\\" style=\\\"stroke:#000000; stroke-width:4; stroke-opacity:1; fill:none\\\" points=\\\"\\n  141.865,407.302 168.395,407.302 \\n  \\\"\\/>\\n<polyline clip-path=\\\"url(#clip8600)\\\" style=\\\"stroke:#000000; stroke-width:4; stroke-opacity:1; fill:none\\\" points=\\\"\\n  141.865,47.2441 168.395,47.2441 \\n  \\\"\\/>\\n<g clip-path=\\\"url(#clip8600)\\\">\\n<text style=\\\"fill:#000000; fill-opacity:1; font-family:Arial,Helvetica Neue,Helvetica,sans-serif; font-size:48px; text-anchor:middle;\\\" transform=\\\"rotate(0, 204.437, 1541.47)\\\" x=\\\"204.437\\\" y=\\\"1541.47\\\">-1.0<\\/text>\\n<\\/g>\\n<g clip-path=\\\"url(#clip8600)\\\">\\n<text style=\\\"fill:#000000; fill-opacity:1; font-family:Arial,Helvetica Neue,Helvetica,sans-serif; font-size:48px; text-anchor:middle;\\\" transform=\\\"rotate(0, 725.874, 1541.47)\\\" x=\\\"725.874\\\" y=\\\"1541.47\\\">-0.5<\\/text>\\n<\\/g>\\n<g clip-path=\\\"url(#clip8600)\\\">\\n<text style=\\\"fill:#000000; fill-opacity:1; font-family:Arial,Helvetica Neue,Helvetica,sans-serif; font-size:48px; text-anchor:middle;\\\" transform=\\\"rotate(0, 1247.31, 1541.47)\\\" x=\\\"1247.31\\\" y=\\\"1541.47\\\">0.0<\\/text>\\n<\\/g>\\n<g clip-path=\\\"url(#clip8600)\\\">\\n<text style=\\\"fill:#000000; fill-opacity:1; font-family:Arial,Helvetica Neue,Helvetica,sans-serif; font-size:48px; text-anchor:middle;\\\" transform=\\\"rotate(0, 1768.75, 1541.47)\\\" x=\\\"1768.75\\\" y=\\\"1541.47\\\">0.5<\\/text>\\n<\\/g>\\n<g clip-path=\\\"url(#clip8600)\\\">\\n<text style=\\\"fill:#000000; fill-opacity:1; font-family:Arial,Helvetica Neue,Helvetica,sans-serif; font-size:48px; text-anchor:middle;\\\" transform=\\\"rotate(0, 2290.18, 1541.47)\\\" x=\\\"2290.18\\\" y=\\\"1541.47\\\">1.0<\\/text>\\n<\\/g>\\n<g clip-path=\\\"url(#clip8600)\\\">\\n<text style=\\\"fill:#000000; fill-opacity:1; font-family:Arial,Helvetica Neue,Helvetica,sans-serif; font-size:48px; text-anchor:end;\\\" transform=\\\"rotate(0, 117.865, 1504.97)\\\" x=\\\"117.865\\\" y=\\\"1504.97\\\">-2<\\/text>\\n<\\/g>\\n<g clip-path=\\\"url(#clip8600)\\\">\\n<text style=\\\"fill:#000000; fill-opacity:1; font-family:Arial,Helvetica Neue,Helvetica,sans-serif; font-size:48px; text-anchor:end;\\\" transform=\\\"rotate(0, 117.865, 1144.92)\\\" x=\\\"117.865\\\" y=\\\"1144.92\\\">-1<\\/text>\\n<\\/g>\\n<g clip-path=\\\"url(#clip8600)\\\">\\n<text style=\\\"fill:#000000; fill-opacity:1; font-family:Arial,Helvetica Neue,Helvetica,sans-serif; font-size:48px; text-anchor:end;\\\" transform=\\\"rotate(0, 117.865, 784.859)\\\" x=\\\"117.865\\\" y=\\\"784.859\\\">0<\\/text>\\n<\\/g>\\n<g clip-path=\\\"url(#clip8600)\\\">\\n<text style=\\\"fill:#000000; fill-opacity:1; font-family:Arial,Helvetica Neue,Helvetica,sans-serif; font-size:48px; text-anchor:end;\\\" transform=\\\"rotate(0, 117.865, 424.802)\\\" x=\\\"117.865\\\" y=\\\"424.802\\\">1<\\/text>\\n<\\/g>\\n<g clip-path=\\\"url(#clip8600)\\\">\\n<text style=\\\"fill:#000000; fill-opacity:1; font-family:Arial,Helvetica Neue,Helvetica,sans-serif; font-size:48px; text-anchor:end;\\\" transform=\\\"rotate(0, 117.865, 64.7441)\\\" x=\\\"117.865\\\" y=\\\"64.7441\\\">2<\\/text>\\n<\\/g>\\n<circle clip-path=\\\"url(#clip8602)\\\" style=\\\"fill:#000000; stroke:none; fill-opacity:1\\\" cx=\\\"204.437\\\" cy=\\\"753.511\\\" r=\\\"18\\\"\\/>\\n<circle clip-path=\\\"url(#clip8602)\\\" style=\\\"fill:#009af9; stroke:none; fill-opacity:1\\\" cx=\\\"204.437\\\" cy=\\\"753.511\\\" r=\\\"14\\\"\\/>\\n<circle clip-path=\\\"url(#clip8602)\\\" style=\\\"fill:#000000; stroke:none; fill-opacity:1\\\" cx=\\\"502.401\\\" cy=\\\"741.183\\\" r=\\\"18\\\"\\/>\\n<circle clip-path=\\\"url(#clip8602)\\\" style=\\\"fill:#009af9; stroke:none; fill-opacity:1\\\" cx=\\\"502.401\\\" cy=\\\"741.183\\\" r=\\\"14\\\"\\/>\\n<circle clip-path=\\\"url(#clip8602)\\\" style=\\\"fill:#000000; stroke:none; fill-opacity:1\\\" cx=\\\"800.365\\\" cy=\\\"702.97\\\" r=\\\"18\\\"\\/>\\n<circle clip-path=\\\"url(#clip8602)\\\" style=\\\"fill:#009af9; stroke:none; fill-opacity:1\\\" cx=\\\"800.365\\\" cy=\\\"702.97\\\" r=\\\"14\\\"\\/>\\n<circle clip-path=\\\"url(#clip8602)\\\" style=\\\"fill:#000000; stroke:none; fill-opacity:1\\\" cx=\\\"1098.33\\\" cy=\\\"528.943\\\" r=\\\"18\\\"\\/>\\n<circle clip-path=\\\"url(#clip8602)\\\" style=\\\"fill:#009af9; stroke:none; fill-opacity:1\\\" cx=\\\"1098.33\\\" cy=\\\"528.943\\\" r=\\\"14\\\"\\/>\\n<circle clip-path=\\\"url(#clip8602)\\\" style=\\\"fill:#000000; stroke:none; fill-opacity:1\\\" cx=\\\"1396.29\\\" cy=\\\"528.943\\\" r=\\\"18\\\"\\/>\\n<circle clip-path=\\\"url(#clip8602)\\\" style=\\\"fill:#009af9; stroke:none; fill-opacity:1\\\" cx=\\\"1396.29\\\" cy=\\\"528.943\\\" r=\\\"14\\\"\\/>\\n<circle clip-path=\\\"url(#clip8602)\\\" style=\\\"fill:#000000; stroke:none; fill-opacity:1\\\" cx=\\\"1694.26\\\" cy=\\\"702.97\\\" r=\\\"18\\\"\\/>\\n<circle clip-path=\\\"url(#clip8602)\\\" style=\\\"fill:#009af9; stroke:none; fill-opacity:1\\\" cx=\\\"1694.26\\\" cy=\\\"702.97\\\" r=\\\"14\\\"\\/>\\n<circle clip-path=\\\"url(#clip8602)\\\" style=\\\"fill:#000000; stroke:none; fill-opacity:1\\\" cx=\\\"1992.22\\\" cy=\\\"741.183\\\" r=\\\"18\\\"\\/>\\n<circle clip-path=\\\"url(#clip8602)\\\" style=\\\"fill:#009af9; stroke:none; fill-opacity:1\\\" cx=\\\"1992.22\\\" cy=\\\"741.183\\\" r=\\\"14\\\"\\/>\\n<circle clip-path=\\\"url(#clip8602)\\\" style=\\\"fill:#000000; stroke:none; fill-opacity:1\\\" cx=\\\"2290.18\\\" cy=\\\"753.511\\\" r=\\\"18\\\"\\/>\\n<circle clip-path=\\\"url(#clip8602)\\\" style=\\\"fill:#009af9; stroke:none; fill-opacity:1\\\" cx=\\\"2290.18\\\" cy=\\\"753.511\\\" r=\\\"14\\\"\\/>\\n<polyline clip-path=\\\"url(#clip8602)\\\" style=\\\"stroke:#e26f46; stroke-width:4; stroke-opacity:1; fill:none\\\" points=\\\"\\n  141.865,880.836 147.262,866.155 152.66,852.249 158.058,839.092 163.456,826.659 175.933,800.564 188.411,777.932 200.888,758.492 213.366,741.987 225.844,728.171 \\n  238.321,716.809 250.799,707.678 263.276,700.568 275.754,695.279 288.232,691.62 300.709,689.412 313.187,688.487 338.142,689.853 363.097,694.552 423.085,713.613 \\n  483.073,735.083 508.433,742.945 533.793,749.467 559.152,754.349 584.512,757.371 612.059,758.381 639.607,756.933 667.155,753.015 694.702,746.69 720.099,738.83 \\n  745.495,729.166 770.892,717.868 796.288,705.133 905.199,639.721 1031.38,561.765 1059.42,546.943 1087.45,533.642 1115.49,522.098 1143.52,512.51 1168.1,505.845 \\n  1192.69,500.901 1217.27,497.742 1241.85,496.411 1268.66,497.061 1295.46,499.894 1322.26,504.864 1349.07,511.895 1376.03,520.935 1402.99,531.804 1429.95,544.327 \\n  1456.91,558.302 1576.15,631.163 1689.61,700.465 1719.1,715.647 1748.59,728.944 1778.08,740.044 1807.57,748.683 1832.4,753.896 1857.22,757.14 1882.05,758.376 \\n  1906.87,757.615 1937.18,754.076 1967.49,747.902 1997.8,739.489 2028.11,729.407 2085.09,708.757 2142.08,692.227 2164.9,688.964 2187.72,688.803 2199.13,690.171 \\n  2210.54,692.669 2221.96,696.429 2233.37,701.592 2244.78,708.304 2256.19,716.719 2267.6,726.999 2279.01,739.313 2290.42,753.84 2301.83,770.766 2313.25,790.285 \\n  2324.66,812.6 2331.68,827.82 2338.71,844.23 2345.73,861.884 2352.76,880.836 \\n  \\\"\\/>\\n<path clip-path=\\\"url(#clip8600)\\\" d=\\\"\\nM1749.21 312.204 L2280.76 312.204 L2280.76 130.764 L1749.21 130.764  Z\\n  \\\" fill=\\\"#ffffff\\\" fill-rule=\\\"evenodd\\\" fill-opacity=\\\"1\\\"\\/>\\n<polyline clip-path=\\\"url(#clip8600)\\\" style=\\\"stroke:#000000; stroke-width:4; stroke-opacity:1; fill:none\\\" points=\\\"\\n  1749.21,312.204 2280.76,312.204 2280.76,130.764 1749.21,130.764 1749.21,312.204 \\n  \\\"\\/>\\n<circle clip-path=\\\"url(#clip8600)\\\" style=\\\"fill:#000000; stroke:none; fill-opacity:1\\\" cx=\\\"1857.21\\\" cy=\\\"191.244\\\" r=\\\"25\\\"\\/>\\n<circle clip-path=\\\"url(#clip8600)\\\" style=\\\"fill:#009af9; stroke:none; fill-opacity:1\\\" cx=\\\"1857.21\\\" cy=\\\"191.244\\\" r=\\\"21\\\"\\/>\\n<g clip-path=\\\"url(#clip8600)\\\">\\n<text style=\\\"fill:#000000; fill-opacity:1; font-family:Arial,Helvetica Neue,Helvetica,sans-serif; font-size:48px; text-anchor:start;\\\" transform=\\\"rotate(0, 1941.21, 208.744)\\\" x=\\\"1941.21\\\" y=\\\"208.744\\\">Datos<\\/text>\\n<\\/g>\\n<polyline clip-path=\\\"url(#clip8600)\\\" style=\\\"stroke:#e26f46; stroke-width:4; stroke-opacity:1; fill:none\\\" points=\\\"\\n  1773.21,251.724 1917.21,251.724 \\n  \\\"\\/>\\n<g clip-path=\\\"url(#clip8600)\\\">\\n<text style=\\\"fill:#000000; fill-opacity:1; font-family:Arial,Helvetica Neue,Helvetica,sans-serif; font-size:48px; text-anchor:start;\\\" transform=\\\"rotate(0, 1941.21, 269.224)\\\" x=\\\"1941.21\\\" y=\\\"269.224\\\">Aproximación<\\/text>\\n<\\/g>\\n<\\/svg>\\n\"},\"nodeType\":\"DOM\",\"type\":\"node\",\"instanceArgs\":{\"namespace\":\"html\",\"tag\":\"div\"},\"children\":[]}]}}}},\"children\":[{\"props\":{},\"nodeType\":\"ObservableNode\",\"type\":\"node\",\"instanceArgs\":{\"id\":\"ob_30\",\"name\":\"obs-node\"},\"children\":[]}]}]},\n",
       "            window,\n",
       "        );\n",
       "    } else {\n",
       "        document\n",
       "            .querySelector('[data-webio-mountpoint=\"265928428297930204\"]')\n",
       "            .innerHTML = (\n",
       "                '<div style=\"padding: 1em; background-color: #f8d6da; border: 1px solid #f5c6cb\">' +\n",
       "                '<p><strong>WebIO not detected.</strong></p>' +\n",
       "                '<p>Please read ' +\n",
       "                '<a href=\"https://juliagizmos.github.io/WebIO.jl/latest/troubleshooting/not-detected/\" target=\"_blank\">the troubleshooting guide</a> ' +\n",
       "                'for more information on how to resolve this issue.</p>' +\n",
       "                '<p><a href=\"https://juliagizmos.github.io/WebIO.jl/latest/troubleshooting/not-detected/\" target=\"_blank\">https://juliagizmos.github.io/WebIO.jl/latest/troubleshooting/not-detected/</a></p>' +\n",
       "                '</div>'\n",
       "            );\n",
       "    }\n",
       "    </script>\n",
       "</div>\n"
      ],
      "text/plain": [
       "Node{WebIO.DOM}(WebIO.DOM(:html, :div), Any[Node{WebIO.DOM}(WebIO.DOM(:html, :div), Any[Scope(Node{WebIO.DOM}(WebIO.DOM(:html, :div), Any[Node{WebIO.DOM}(WebIO.DOM(:html, :div), Any[Node{WebIO.DOM}(WebIO.DOM(:html, :label), Any[\"n\"], Dict{Symbol,Any}(:className => \"interact \",:style => Dict{Any,Any}(:padding => \"5px 10px 0px 10px\")))], Dict{Symbol,Any}(:className => \"interact-flex-row-left\")), Node{WebIO.DOM}(WebIO.DOM(:html, :div), Any[Node{WebIO.DOM}(WebIO.DOM(:html, :input), Any[], Dict{Symbol,Any}(:max => 13,:min => 1,:attributes => Dict{Any,Any}(:type => \"range\",Symbol(\"data-bind\") => \"numericValue: index, valueUpdate: 'input', event: {change: function (){this.changes(this.changes()+1)}}\",\"orient\" => \"horizontal\"),:step => 1,:className => \"slider slider is-fullwidth\",:style => Dict{Any,Any}()))], Dict{Symbol,Any}(:className => \"interact-flex-row-center\")), Node{WebIO.DOM}(WebIO.DOM(:html, :div), Any[Node{WebIO.DOM}(WebIO.DOM(:html, :p), Any[], Dict{Symbol,Any}(:attributes => Dict(\"data-bind\" => \"text: formatted_val\")))], Dict{Symbol,Any}(:className => \"interact-flex-row-right\"))], Dict{Symbol,Any}(:className => \"interact-flex-row interact-widget\")), Dict{String,Tuple{Observables.AbstractObservable,Union{Nothing, Bool}}}(\"changes\" => (Observable{Int64} with 1 listeners. Value:\n",
       "0, nothing),\"index\" => (Observable{Int64} with 2 listeners. Value:\n",
       "7, nothing)), Set(String[]), nothing, Asset[Asset(\"js\", \"knockout\", \"/Users/rborja/.julia/packages/Knockout/1sDlc/src/../assets/knockout.js\"), Asset(\"js\", \"knockout_punches\", \"/Users/rborja/.julia/packages/Knockout/1sDlc/src/../assets/knockout_punches.js\"), Asset(\"js\", nothing, \"/Users/rborja/.julia/packages/InteractBase/9mFwe/src/../assets/all.js\"), Asset(\"css\", nothing, \"/Users/rborja/.julia/packages/InteractBase/9mFwe/src/../assets/style.css\"), Asset(\"css\", nothing, \"/Users/rborja/.julia/packages/Interact/SbgIk/src/../assets/bulma_confined.min.css\")], Dict{Any,Any}(\"changes\" => Any[WebIO.JSString(\"(function (val){return (val!=this.model[\\\"changes\\\"]()) ? (this.valueFromJulia[\\\"changes\\\"]=true, this.model[\\\"changes\\\"](val)) : undefined})\")],\"index\" => Any[WebIO.JSString(\"(function (val){return (val!=this.model[\\\"index\\\"]()) ? (this.valueFromJulia[\\\"index\\\"]=true, this.model[\\\"index\\\"](val)) : undefined})\")]), WebIO.ConnectionPool(Channel{Any}(sz_max:32,sz_curr:0), Set(AbstractConnection[]), Base.GenericCondition{Base.AlwaysLockedST}(Base.InvasiveLinkedList{Task}(Task (runnable) @0x000000010a1dcb50, Task (runnable) @0x000000010a1dcb50), Base.AlwaysLockedST(1))), WebIO.JSString[WebIO.JSString(\"function () {\\n    var handler = (function (ko, koPunches) {\\n    ko.punches.enableAll();\\n    ko.bindingHandlers.numericValue = {\\n        init: function(element, valueAccessor, allBindings, data, context) {\\n            var stringified = ko.observable(ko.unwrap(valueAccessor()));\\n            stringified.subscribe(function(value) {\\n                var val = parseFloat(value);\\n                if (!isNaN(val)) {\\n                    valueAccessor()(val);\\n                }\\n            });\\n            valueAccessor().subscribe(function(value) {\\n                var str = JSON.stringify(value);\\n                if ((str == \\\"0\\\") && ([\\\"-0\\\", \\\"-0.\\\"].indexOf(stringified()) >= 0))\\n                     return;\\n                 if ([\\\"null\\\", \\\"\\\"].indexOf(str) >= 0)\\n                     return;\\n                stringified(str);\\n            });\\n            ko.applyBindingsToNode(\\n                element,\\n                {\\n                    value: stringified,\\n                    valueUpdate: allBindings.get('valueUpdate'),\\n                },\\n                context,\\n            );\\n        }\\n    };\\n    var json_data = {\\\"formatted_vals\\\":[\\\"1\\\",\\\"2\\\",\\\"3\\\",\\\"4\\\",\\\"5\\\",\\\"6\\\",\\\"7\\\",\\\"8\\\",\\\"9\\\",\\\"10\\\",\\\"11\\\",\\\"12\\\",\\\"13\\\"],\\\"changes\\\":WebIO.getval({\\\"name\\\":\\\"changes\\\",\\\"scope\\\":\\\"16400786692845543044\\\",\\\"id\\\":\\\"ob_26\\\",\\\"type\\\":\\\"observable\\\"}),\\\"index\\\":WebIO.getval({\\\"name\\\":\\\"index\\\",\\\"scope\\\":\\\"16400786692845543044\\\",\\\"id\\\":\\\"ob_25\\\",\\\"type\\\":\\\"observable\\\"})};\\n    var self = this;\\n    function AppViewModel() {\\n        for (var key in json_data) {\\n            var el = json_data[key];\\n            this[key] = Array.isArray(el) ? ko.observableArray(el) : ko.observable(el);\\n        }\\n        \\n        [this[\\\"formatted_val\\\"]=ko.computed(    function(){\\n        return this.formatted_vals()[parseInt(this.index())-(1)];\\n    }\\n,this)]\\n        [this[\\\"changes\\\"].subscribe((function (val){!(this.valueFromJulia[\\\"changes\\\"]) ? (WebIO.setval({\\\"name\\\":\\\"changes\\\",\\\"scope\\\":\\\"16400786692845543044\\\",\\\"id\\\":\\\"ob_26\\\",\\\"type\\\":\\\"observable\\\"},val)) : undefined; return this.valueFromJulia[\\\"changes\\\"]=false}),self),this[\\\"index\\\"].subscribe((function (val){!(this.valueFromJulia[\\\"index\\\"]) ? (WebIO.setval({\\\"name\\\":\\\"index\\\",\\\"scope\\\":\\\"16400786692845543044\\\",\\\"id\\\":\\\"ob_25\\\",\\\"type\\\":\\\"observable\\\"},val)) : undefined; return this.valueFromJulia[\\\"index\\\"]=false}),self)]\\n        \\n    }\\n    self.model = new AppViewModel();\\n    self.valueFromJulia = {};\\n    for (var key in json_data) {\\n        self.valueFromJulia[key] = false;\\n    }\\n    ko.applyBindings(self.model, self.dom);\\n}\\n);\\n    (WebIO.importBlock({\\\"data\\\":[{\\\"name\\\":\\\"knockout\\\",\\\"type\\\":\\\"js\\\",\\\"url\\\":\\\"/assetserver/1d039a0de7d5774d7e32099beea16a643a23af9b-knockout.js\\\"},{\\\"name\\\":\\\"knockout_punches\\\",\\\"type\\\":\\\"js\\\",\\\"url\\\":\\\"/assetserver/5e5d881d4b9820011e11e238536cd60a0e0cf817-knockout_punches.js\\\"}],\\\"type\\\":\\\"async_block\\\"})).then((imports) => handler.apply(this, imports));\\n}\\n\")])], Dict{Symbol,Any}(:className => \"field interact-widget\")), Observable{Any} with 0 listeners. Value:\n",
       "Node{WebIO.DOM}(WebIO.DOM(:html, :div), Any[Plot{Plots.GRBackend() n=2}], Dict{Symbol,Any}(:className => \"interact-flex-row interact-widget\"))], Dict{Symbol,Any}())"
      ]
     },
     "execution_count": 14,
     "metadata": {
      "application/vnd.webio.node+json": {
       "kernelId": "1505ff35-6741-43b6-8e5b-8e047425c98c"
      }
     },
     "output_type": "execute_result"
    }
   ],
   "source": [
    "\n",
    "#f(x) = x^2  + x^3 + 1\n",
    "f(x) = 1/(1 + 25x^2)\n",
    "@manipulate for n = 1:13\n",
    "    x = -1:2/n:1\n",
    "    y = f.(x)\n",
    "    s = Interpola03(zip(x, y))\n",
    "    scatter(x, f.(x), xlims=[-1,1], label=\"Datos\")\n",
    "    #plot!(f, ylim=(-2,2), label=\"Analítica\")\n",
    "    plot!(s, ylim=(-2,2), label=\"Aproximación\")\n",
    "\n",
    "end"
   ]
  },
  {
   "cell_type": "markdown",
   "metadata": {},
   "source": [
    "¿Qué observas del ejemplo anterior?\n",
    "\n",
    "Anota tus observaciones"
   ]
  },
  {
   "cell_type": "markdown",
   "metadata": {},
   "source": [
    "# Interpolación en puntos espaciados no-uniformemente\n",
    "\n",
    "En los ejemplos anteriores, la partición de los puntos $\\{x_i\\}$ se tomaba uniformemente, otra manera de realizar la partición de tal forma que los puntos $\\{x_i\\}$ se amontonen cerca de los puntos extremos del intervalo es utilizando los puntos de Chebyshev con arámetro n, definidos como: \n",
    "$$x_j := cos\\left(\\frac{j\\pi}{n} \\right) \\qquad con \\qquad 0\\leq j \\leq n $$"
   ]
  },
  {
   "cell_type": "code",
   "execution_count": 10,
   "metadata": {},
   "outputs": [
    {
     "data": {
      "text/plain": [
       "interpola_cheb (generic function with 1 method)"
      ]
     },
     "execution_count": 10,
     "metadata": {},
     "output_type": "execute_result"
    }
   ],
   "source": [
    "#Puntos de Chebyshev\n",
    "function chebyshev_puntos(n)\n",
    "    xj = [cos((j*π)/n) for j in 0:n]\n",
    "    return xj\n",
    "end\n",
    "\n",
    "function interpola_cheb(f, n)\n",
    "    pC = chebyshev_puntos(n)\n",
    "    pares = zip(pC, f.(pC))\n",
    "    L = Interpola03(pares)\n",
    "    return L\n",
    "end"
   ]
  },
  {
   "cell_type": "code",
   "execution_count": 11,
   "metadata": {},
   "outputs": [
    {
     "data": {
      "application/vnd.webio.node+json": {
       "children": [
        {
         "children": [
          {
           "children": [
            {
             "children": [
              {
               "children": [
                {
                 "children": [
                  "n"
                 ],
                 "instanceArgs": {
                  "namespace": "html",
                  "tag": "label"
                 },
                 "nodeType": "DOM",
                 "props": {
                  "className": "interact ",
                  "style": {
                   "padding": "5px 10px 0px 10px"
                  }
                 },
                 "type": "node"
                }
               ],
               "instanceArgs": {
                "namespace": "html",
                "tag": "div"
               },
               "nodeType": "DOM",
               "props": {
                "className": "interact-flex-row-left"
               },
               "type": "node"
              },
              {
               "children": [
                {
                 "children": [],
                 "instanceArgs": {
                  "namespace": "html",
                  "tag": "input"
                 },
                 "nodeType": "DOM",
                 "props": {
                  "attributes": {
                   "data-bind": "numericValue: index, valueUpdate: 'input', event: {change: function (){this.changes(this.changes()+1)}}",
                   "orient": "horizontal",
                   "type": "range"
                  },
                  "className": "slider slider is-fullwidth",
                  "max": 40,
                  "min": 1,
                  "step": 1,
                  "style": {}
                 },
                 "type": "node"
                }
               ],
               "instanceArgs": {
                "namespace": "html",
                "tag": "div"
               },
               "nodeType": "DOM",
               "props": {
                "className": "interact-flex-row-center"
               },
               "type": "node"
              },
              {
               "children": [
                {
                 "children": [],
                 "instanceArgs": {
                  "namespace": "html",
                  "tag": "p"
                 },
                 "nodeType": "DOM",
                 "props": {
                  "attributes": {
                   "data-bind": "text: formatted_val"
                  }
                 },
                 "type": "node"
                }
               ],
               "instanceArgs": {
                "namespace": "html",
                "tag": "div"
               },
               "nodeType": "DOM",
               "props": {
                "className": "interact-flex-row-right"
               },
               "type": "node"
              }
             ],
             "instanceArgs": {
              "namespace": "html",
              "tag": "div"
             },
             "nodeType": "DOM",
             "props": {
              "className": "interact-flex-row interact-widget"
             },
             "type": "node"
            }
           ],
           "instanceArgs": {
            "handlers": {
             "changes": [
              "(function (val){return (val!=this.model[\"changes\"]()) ? (this.valueFromJulia[\"changes\"]=true, this.model[\"changes\"](val)) : undefined})"
             ],
             "index": [
              "(function (val){return (val!=this.model[\"index\"]()) ? (this.valueFromJulia[\"index\"]=true, this.model[\"index\"](val)) : undefined})"
             ]
            },
            "id": "8194906341564619882",
            "imports": {
             "data": [
              {
               "name": "knockout",
               "type": "js",
               "url": "/assetserver/1d039a0de7d5774d7e32099beea16a643a23af9b-knockout.js"
              },
              {
               "name": "knockout_punches",
               "type": "js",
               "url": "/assetserver/5e5d881d4b9820011e11e238536cd60a0e0cf817-knockout_punches.js"
              },
              {
               "name": null,
               "type": "js",
               "url": "/assetserver/e18d2d1e0a396f5f45c9bb9df36eb509bca2c7e5-all.js"
              },
              {
               "name": null,
               "type": "css",
               "url": "/assetserver/8163d0bac02a04e5b2245d884e4a36738983d2fd-style.css"
              },
              {
               "name": null,
               "type": "css",
               "url": "/assetserver/8ca22a055051e8f144a95f0904f9bf0fe55a79de-bulma_confined.min.css"
              }
             ],
             "type": "async_block"
            },
            "mount_callbacks": [
             "function () {\n    var handler = (function (ko, koPunches) {\n    ko.punches.enableAll();\n    ko.bindingHandlers.numericValue = {\n        init: function(element, valueAccessor, allBindings, data, context) {\n            var stringified = ko.observable(ko.unwrap(valueAccessor()));\n            stringified.subscribe(function(value) {\n                var val = parseFloat(value);\n                if (!isNaN(val)) {\n                    valueAccessor()(val);\n                }\n            });\n            valueAccessor().subscribe(function(value) {\n                var str = JSON.stringify(value);\n                if ((str == \"0\") && ([\"-0\", \"-0.\"].indexOf(stringified()) >= 0))\n                     return;\n                 if ([\"null\", \"\"].indexOf(str) >= 0)\n                     return;\n                stringified(str);\n            });\n            ko.applyBindingsToNode(\n                element,\n                {\n                    value: stringified,\n                    valueUpdate: allBindings.get('valueUpdate'),\n                },\n                context,\n            );\n        }\n    };\n    var json_data = {\"formatted_vals\":[\"1\",\"2\",\"3\",\"4\",\"5\",\"6\",\"7\",\"8\",\"9\",\"10\",\"11\",\"12\",\"13\",\"14\",\"15\",\"16\",\"17\",\"18\",\"19\",\"20\",\"21\",\"22\",\"23\",\"24\",\"25\",\"26\",\"27\",\"28\",\"29\",\"30\",\"31\",\"32\",\"33\",\"34\",\"35\",\"36\",\"37\",\"38\",\"39\",\"40\"],\"changes\":WebIO.getval({\"name\":\"changes\",\"scope\":\"8194906341564619882\",\"id\":\"ob_10\",\"type\":\"observable\"}),\"index\":WebIO.getval({\"name\":\"index\",\"scope\":\"8194906341564619882\",\"id\":\"ob_09\",\"type\":\"observable\"})};\n    var self = this;\n    function AppViewModel() {\n        for (var key in json_data) {\n            var el = json_data[key];\n            this[key] = Array.isArray(el) ? ko.observableArray(el) : ko.observable(el);\n        }\n        \n        [this[\"formatted_val\"]=ko.computed(    function(){\n        return this.formatted_vals()[parseInt(this.index())-(1)];\n    }\n,this)]\n        [this[\"changes\"].subscribe((function (val){!(this.valueFromJulia[\"changes\"]) ? (WebIO.setval({\"name\":\"changes\",\"scope\":\"8194906341564619882\",\"id\":\"ob_10\",\"type\":\"observable\"},val)) : undefined; return this.valueFromJulia[\"changes\"]=false}),self),this[\"index\"].subscribe((function (val){!(this.valueFromJulia[\"index\"]) ? (WebIO.setval({\"name\":\"index\",\"scope\":\"8194906341564619882\",\"id\":\"ob_09\",\"type\":\"observable\"},val)) : undefined; return this.valueFromJulia[\"index\"]=false}),self)]\n        \n    }\n    self.model = new AppViewModel();\n    self.valueFromJulia = {};\n    for (var key in json_data) {\n        self.valueFromJulia[key] = false;\n    }\n    ko.applyBindings(self.model, self.dom);\n}\n);\n    (WebIO.importBlock({\"data\":[{\"name\":\"knockout\",\"type\":\"js\",\"url\":\"/assetserver/1d039a0de7d5774d7e32099beea16a643a23af9b-knockout.js\"},{\"name\":\"knockout_punches\",\"type\":\"js\",\"url\":\"/assetserver/5e5d881d4b9820011e11e238536cd60a0e0cf817-knockout_punches.js\"}],\"type\":\"async_block\"})).then((imports) => handler.apply(this, imports));\n}\n"
            ],
            "observables": {
             "changes": {
              "id": "ob_10",
              "sync": false,
              "value": 0
             },
             "index": {
              "id": "ob_09",
              "sync": true,
              "value": 20
             }
            },
            "systemjs_options": null
           },
           "nodeType": "Scope",
           "props": {},
           "type": "node"
          }
         ],
         "instanceArgs": {
          "namespace": "html",
          "tag": "div"
         },
         "nodeType": "DOM",
         "props": {
          "className": "field interact-widget"
         },
         "type": "node"
        },
        {
         "children": [
          {
           "children": [],
           "instanceArgs": {
            "id": "ob_16",
            "name": "obs-node"
           },
           "nodeType": "ObservableNode",
           "props": {},
           "type": "node"
          }
         ],
         "instanceArgs": {
          "handlers": {},
          "id": "3881169314923599042",
          "imports": {
           "data": [],
           "type": "async_block"
          },
          "mount_callbacks": [],
          "observables": {
           "obs-node": {
            "id": "ob_16",
            "sync": false,
            "value": {
             "children": [
              {
               "children": [],
               "instanceArgs": {
                "namespace": "html",
                "tag": "div"
               },
               "nodeType": "DOM",
               "props": {
                "setInnerHtml": "<?xml version=\"1.0\" encoding=\"utf-8\"?>\n<svg xmlns=\"http://www.w3.org/2000/svg\" xmlns:xlink=\"http://www.w3.org/1999/xlink\" width=\"600\" height=\"400\" viewBox=\"0 0 2400 1600\">\n<defs>\n  <clipPath id=\"clip2200\">\n    <rect x=\"0\" y=\"0\" width=\"2400\" height=\"1600\"/>\n  </clipPath>\n</defs>\n<path clip-path=\"url(#clip2200)\" d=\"\nM0 1600 L2400 1600 L2400 0 L0 0  Z\n  \" fill=\"#ffffff\" fill-rule=\"evenodd\" fill-opacity=\"1\"/>\n<defs>\n  <clipPath id=\"clip2201\">\n    <rect x=\"480\" y=\"0\" width=\"1681\" height=\"1600\"/>\n  </clipPath>\n</defs>\n<path clip-path=\"url(#clip2200)\" d=\"\nM180.66 1487.47 L2352.76 1487.47 L2352.76 47.2441 L180.66 47.2441  Z\n  \" fill=\"#ffffff\" fill-rule=\"evenodd\" fill-opacity=\"1\"/>\n<defs>\n  <clipPath id=\"clip2202\">\n    <rect x=\"180\" y=\"47\" width=\"2173\" height=\"1441\"/>\n  </clipPath>\n</defs>\n<polyline clip-path=\"url(#clip2202)\" style=\"stroke:#000000; stroke-width:2; stroke-opacity:0.1; fill:none\" points=\"\n  242.135,1487.47 242.135,47.2441 \n  \"/>\n<polyline clip-path=\"url(#clip2202)\" style=\"stroke:#000000; stroke-width:2; stroke-opacity:0.1; fill:none\" points=\"\n  754.421,1487.47 754.421,47.2441 \n  \"/>\n<polyline clip-path=\"url(#clip2202)\" style=\"stroke:#000000; stroke-width:2; stroke-opacity:0.1; fill:none\" points=\"\n  1266.71,1487.47 1266.71,47.2441 \n  \"/>\n<polyline clip-path=\"url(#clip2202)\" style=\"stroke:#000000; stroke-width:2; stroke-opacity:0.1; fill:none\" points=\"\n  1778.99,1487.47 1778.99,47.2441 \n  \"/>\n<polyline clip-path=\"url(#clip2202)\" style=\"stroke:#000000; stroke-width:2; stroke-opacity:0.1; fill:none\" points=\"\n  2291.28,1487.47 2291.28,47.2441 \n  \"/>\n<polyline clip-path=\"url(#clip2202)\" style=\"stroke:#000000; stroke-width:2; stroke-opacity:0.1; fill:none\" points=\"\n  180.66,1486.8 2352.76,1486.8 \n  \"/>\n<polyline clip-path=\"url(#clip2202)\" style=\"stroke:#000000; stroke-width:2; stroke-opacity:0.1; fill:none\" points=\"\n  180.66,1195.29 2352.76,1195.29 \n  \"/>\n<polyline clip-path=\"url(#clip2202)\" style=\"stroke:#000000; stroke-width:2; stroke-opacity:0.1; fill:none\" points=\"\n  180.66,903.778 2352.76,903.778 \n  \"/>\n<polyline clip-path=\"url(#clip2202)\" style=\"stroke:#000000; stroke-width:2; stroke-opacity:0.1; fill:none\" points=\"\n  180.66,612.268 2352.76,612.268 \n  \"/>\n<polyline clip-path=\"url(#clip2202)\" style=\"stroke:#000000; stroke-width:2; stroke-opacity:0.1; fill:none\" points=\"\n  180.66,320.758 2352.76,320.758 \n  \"/>\n<polyline clip-path=\"url(#clip2200)\" style=\"stroke:#000000; stroke-width:4; stroke-opacity:1; fill:none\" points=\"\n  180.66,1487.47 2352.76,1487.47 \n  \"/>\n<polyline clip-path=\"url(#clip2200)\" style=\"stroke:#000000; stroke-width:4; stroke-opacity:1; fill:none\" points=\"\n  180.66,1487.47 180.66,47.2441 \n  \"/>\n<polyline clip-path=\"url(#clip2200)\" style=\"stroke:#000000; stroke-width:4; stroke-opacity:1; fill:none\" points=\"\n  242.135,1487.47 242.135,1470.19 \n  \"/>\n<polyline clip-path=\"url(#clip2200)\" style=\"stroke:#000000; stroke-width:4; stroke-opacity:1; fill:none\" points=\"\n  754.421,1487.47 754.421,1470.19 \n  \"/>\n<polyline clip-path=\"url(#clip2200)\" style=\"stroke:#000000; stroke-width:4; stroke-opacity:1; fill:none\" points=\"\n  1266.71,1487.47 1266.71,1470.19 \n  \"/>\n<polyline clip-path=\"url(#clip2200)\" style=\"stroke:#000000; stroke-width:4; stroke-opacity:1; fill:none\" points=\"\n  1778.99,1487.47 1778.99,1470.19 \n  \"/>\n<polyline clip-path=\"url(#clip2200)\" style=\"stroke:#000000; stroke-width:4; stroke-opacity:1; fill:none\" points=\"\n  2291.28,1487.47 2291.28,1470.19 \n  \"/>\n<polyline clip-path=\"url(#clip2200)\" style=\"stroke:#000000; stroke-width:4; stroke-opacity:1; fill:none\" points=\"\n  180.66,1486.8 206.725,1486.8 \n  \"/>\n<polyline clip-path=\"url(#clip2200)\" style=\"stroke:#000000; stroke-width:4; stroke-opacity:1; fill:none\" points=\"\n  180.66,1195.29 206.725,1195.29 \n  \"/>\n<polyline clip-path=\"url(#clip2200)\" style=\"stroke:#000000; stroke-width:4; stroke-opacity:1; fill:none\" points=\"\n  180.66,903.778 206.725,903.778 \n  \"/>\n<polyline clip-path=\"url(#clip2200)\" style=\"stroke:#000000; stroke-width:4; stroke-opacity:1; fill:none\" points=\"\n  180.66,612.268 206.725,612.268 \n  \"/>\n<polyline clip-path=\"url(#clip2200)\" style=\"stroke:#000000; stroke-width:4; stroke-opacity:1; fill:none\" points=\"\n  180.66,320.758 206.725,320.758 \n  \"/>\n<g clip-path=\"url(#clip2200)\">\n<text style=\"fill:#000000; fill-opacity:1; font-family:Arial,Helvetica Neue,Helvetica,sans-serif; font-size:48px; text-anchor:middle;\" transform=\"rotate(0, 242.135, 1541.47)\" x=\"242.135\" y=\"1541.47\">-1.0</text>\n</g>\n<g clip-path=\"url(#clip2200)\">\n<text style=\"fill:#000000; fill-opacity:1; font-family:Arial,Helvetica Neue,Helvetica,sans-serif; font-size:48px; text-anchor:middle;\" transform=\"rotate(0, 754.421, 1541.47)\" x=\"754.421\" y=\"1541.47\">-0.5</text>\n</g>\n<g clip-path=\"url(#clip2200)\">\n<text style=\"fill:#000000; fill-opacity:1; font-family:Arial,Helvetica Neue,Helvetica,sans-serif; font-size:48px; text-anchor:middle;\" transform=\"rotate(0, 1266.71, 1541.47)\" x=\"1266.71\" y=\"1541.47\">0.0</text>\n</g>\n<g clip-path=\"url(#clip2200)\">\n<text style=\"fill:#000000; fill-opacity:1; font-family:Arial,Helvetica Neue,Helvetica,sans-serif; font-size:48px; text-anchor:middle;\" transform=\"rotate(0, 1778.99, 1541.47)\" x=\"1778.99\" y=\"1541.47\">0.5</text>\n</g>\n<g clip-path=\"url(#clip2200)\">\n<text style=\"fill:#000000; fill-opacity:1; font-family:Arial,Helvetica Neue,Helvetica,sans-serif; font-size:48px; text-anchor:middle;\" transform=\"rotate(0, 2291.28, 1541.47)\" x=\"2291.28\" y=\"1541.47\">1.0</text>\n</g>\n<g clip-path=\"url(#clip2200)\">\n<text style=\"fill:#000000; fill-opacity:1; font-family:Arial,Helvetica Neue,Helvetica,sans-serif; font-size:48px; text-anchor:end;\" transform=\"rotate(0, 156.66, 1504.3)\" x=\"156.66\" y=\"1504.3\">0.00</text>\n</g>\n<g clip-path=\"url(#clip2200)\">\n<text style=\"fill:#000000; fill-opacity:1; font-family:Arial,Helvetica Neue,Helvetica,sans-serif; font-size:48px; text-anchor:end;\" transform=\"rotate(0, 156.66, 1212.79)\" x=\"156.66\" y=\"1212.79\">0.25</text>\n</g>\n<g clip-path=\"url(#clip2200)\">\n<text style=\"fill:#000000; fill-opacity:1; font-family:Arial,Helvetica Neue,Helvetica,sans-serif; font-size:48px; text-anchor:end;\" transform=\"rotate(0, 156.66, 921.278)\" x=\"156.66\" y=\"921.278\">0.50</text>\n</g>\n<g clip-path=\"url(#clip2200)\">\n<text style=\"fill:#000000; fill-opacity:1; font-family:Arial,Helvetica Neue,Helvetica,sans-serif; font-size:48px; text-anchor:end;\" transform=\"rotate(0, 156.66, 629.768)\" x=\"156.66\" y=\"629.768\">0.75</text>\n</g>\n<g clip-path=\"url(#clip2200)\">\n<text style=\"fill:#000000; fill-opacity:1; font-family:Arial,Helvetica Neue,Helvetica,sans-serif; font-size:48px; text-anchor:end;\" transform=\"rotate(0, 156.66, 338.258)\" x=\"156.66\" y=\"338.258\">1.00</text>\n</g>\n<circle clip-path=\"url(#clip2202)\" style=\"fill:#000000; stroke:none; fill-opacity:1\" cx=\"2291.28\" cy=\"1441.95\" r=\"18\"/>\n<circle clip-path=\"url(#clip2202)\" style=\"fill:#009af9; stroke:none; fill-opacity:1\" cx=\"2291.28\" cy=\"1441.95\" r=\"14\"/>\n<circle clip-path=\"url(#clip2202)\" style=\"fill:#000000; stroke:none; fill-opacity:1\" cx=\"2278.67\" cy=\"1440.87\" r=\"18\"/>\n<circle clip-path=\"url(#clip2202)\" style=\"fill:#009af9; stroke:none; fill-opacity:1\" cx=\"2278.67\" cy=\"1440.87\" r=\"14\"/>\n<circle clip-path=\"url(#clip2202)\" style=\"fill:#000000; stroke:none; fill-opacity:1\" cx=\"2241.14\" cy=\"1437.42\" r=\"18\"/>\n<circle clip-path=\"url(#clip2202)\" style=\"fill:#009af9; stroke:none; fill-opacity:1\" cx=\"2241.14\" cy=\"1437.42\" r=\"14\"/>\n<circle clip-path=\"url(#clip2202)\" style=\"fill:#000000; stroke:none; fill-opacity:1\" cx=\"2179.61\" cy=\"1430.86\" r=\"18\"/>\n<circle clip-path=\"url(#clip2202)\" style=\"fill:#009af9; stroke:none; fill-opacity:1\" cx=\"2179.61\" cy=\"1430.86\" r=\"14\"/>\n<circle clip-path=\"url(#clip2202)\" style=\"fill:#000000; stroke:none; fill-opacity:1\" cx=\"2095.61\" cy=\"1419.64\" r=\"18\"/>\n<circle clip-path=\"url(#clip2202)\" style=\"fill:#009af9; stroke:none; fill-opacity:1\" cx=\"2095.61\" cy=\"1419.64\" r=\"14\"/>\n<circle clip-path=\"url(#clip2202)\" style=\"fill:#000000; stroke:none; fill-opacity:1\" cx=\"1991.19\" cy=\"1400.42\" r=\"18\"/>\n<circle clip-path=\"url(#clip2202)\" style=\"fill:#009af9; stroke:none; fill-opacity:1\" cx=\"1991.19\" cy=\"1400.42\" r=\"14\"/>\n<circle clip-path=\"url(#clip2202)\" style=\"fill:#000000; stroke:none; fill-opacity:1\" cx=\"1868.94\" cy=\"1365.8\" r=\"18\"/>\n<circle clip-path=\"url(#clip2202)\" style=\"fill:#009af9; stroke:none; fill-opacity:1\" cx=\"1868.94\" cy=\"1365.8\" r=\"14\"/>\n<circle clip-path=\"url(#clip2202)\" style=\"fill:#000000; stroke:none; fill-opacity:1\" cx=\"1731.85\" cy=\"1297.28\" r=\"18\"/>\n<circle clip-path=\"url(#clip2202)\" style=\"fill:#009af9; stroke:none; fill-opacity:1\" cx=\"1731.85\" cy=\"1297.28\" r=\"14\"/>\n<circle clip-path=\"url(#clip2202)\" style=\"fill:#000000; stroke:none; fill-opacity:1\" cx=\"1583.32\" cy=\"1142.56\" r=\"18\"/>\n<circle clip-path=\"url(#clip2202)\" style=\"fill:#009af9; stroke:none; fill-opacity:1\" cx=\"1583.32\" cy=\"1142.56\" r=\"14\"/>\n<circle clip-path=\"url(#clip2202)\" style=\"fill:#000000; stroke:none; fill-opacity:1\" cx=\"1426.99\" cy=\"763.355\" r=\"18\"/>\n<circle clip-path=\"url(#clip2202)\" style=\"fill:#009af9; stroke:none; fill-opacity:1\" cx=\"1426.99\" cy=\"763.355\" r=\"14\"/>\n<circle clip-path=\"url(#clip2202)\" style=\"fill:#000000; stroke:none; fill-opacity:1\" cx=\"1266.71\" cy=\"320.758\" r=\"18\"/>\n<circle clip-path=\"url(#clip2202)\" style=\"fill:#009af9; stroke:none; fill-opacity:1\" cx=\"1266.71\" cy=\"320.758\" r=\"14\"/>\n<circle clip-path=\"url(#clip2202)\" style=\"fill:#000000; stroke:none; fill-opacity:1\" cx=\"1106.43\" cy=\"763.355\" r=\"18\"/>\n<circle clip-path=\"url(#clip2202)\" style=\"fill:#009af9; stroke:none; fill-opacity:1\" cx=\"1106.43\" cy=\"763.355\" r=\"14\"/>\n<circle clip-path=\"url(#clip2202)\" style=\"fill:#000000; stroke:none; fill-opacity:1\" cx=\"950.098\" cy=\"1142.56\" r=\"18\"/>\n<circle clip-path=\"url(#clip2202)\" style=\"fill:#009af9; stroke:none; fill-opacity:1\" cx=\"950.098\" cy=\"1142.56\" r=\"14\"/>\n<circle clip-path=\"url(#clip2202)\" style=\"fill:#000000; stroke:none; fill-opacity:1\" cx=\"801.562\" cy=\"1297.28\" r=\"18\"/>\n<circle clip-path=\"url(#clip2202)\" style=\"fill:#009af9; stroke:none; fill-opacity:1\" cx=\"801.562\" cy=\"1297.28\" r=\"14\"/>\n<circle clip-path=\"url(#clip2202)\" style=\"fill:#000000; stroke:none; fill-opacity:1\" cx=\"664.479\" cy=\"1365.8\" r=\"18\"/>\n<circle clip-path=\"url(#clip2202)\" style=\"fill:#009af9; stroke:none; fill-opacity:1\" cx=\"664.479\" cy=\"1365.8\" r=\"14\"/>\n<circle clip-path=\"url(#clip2202)\" style=\"fill:#000000; stroke:none; fill-opacity:1\" cx=\"542.225\" cy=\"1400.42\" r=\"18\"/>\n<circle clip-path=\"url(#clip2202)\" style=\"fill:#009af9; stroke:none; fill-opacity:1\" cx=\"542.225\" cy=\"1400.42\" r=\"14\"/>\n<circle clip-path=\"url(#clip2202)\" style=\"fill:#000000; stroke:none; fill-opacity:1\" cx=\"437.811\" cy=\"1419.64\" r=\"18\"/>\n<circle clip-path=\"url(#clip2202)\" style=\"fill:#009af9; stroke:none; fill-opacity:1\" cx=\"437.811\" cy=\"1419.64\" r=\"14\"/>\n<circle clip-path=\"url(#clip2202)\" style=\"fill:#000000; stroke:none; fill-opacity:1\" cx=\"353.807\" cy=\"1430.86\" r=\"18\"/>\n<circle clip-path=\"url(#clip2202)\" style=\"fill:#009af9; stroke:none; fill-opacity:1\" cx=\"353.807\" cy=\"1430.86\" r=\"14\"/>\n<circle clip-path=\"url(#clip2202)\" style=\"fill:#000000; stroke:none; fill-opacity:1\" cx=\"292.281\" cy=\"1437.42\" r=\"18\"/>\n<circle clip-path=\"url(#clip2202)\" style=\"fill:#009af9; stroke:none; fill-opacity:1\" cx=\"292.281\" cy=\"1437.42\" r=\"14\"/>\n<circle clip-path=\"url(#clip2202)\" style=\"fill:#000000; stroke:none; fill-opacity:1\" cx=\"254.749\" cy=\"1440.87\" r=\"18\"/>\n<circle clip-path=\"url(#clip2202)\" style=\"fill:#009af9; stroke:none; fill-opacity:1\" cx=\"254.749\" cy=\"1440.87\" r=\"14\"/>\n<circle clip-path=\"url(#clip2202)\" style=\"fill:#000000; stroke:none; fill-opacity:1\" cx=\"242.135\" cy=\"1441.95\" r=\"18\"/>\n<circle clip-path=\"url(#clip2202)\" style=\"fill:#009af9; stroke:none; fill-opacity:1\" cx=\"242.135\" cy=\"1441.95\" r=\"14\"/>\n<polyline clip-path=\"url(#clip2202)\" style=\"stroke:#e26f46; stroke-width:4; stroke-opacity:1; fill:none\" points=\"\n  180.66,1446.71 201.873,1445.16 398.011,1425.34 515.882,1405.97 615.54,1381.73 669.669,1363.91 723.797,1341.4 773.699,1315.03 823.6,1281.36 850.35,1259.43 \n  877.1,1234.13 903.85,1204.85 930.6,1170.83 961.593,1124.35 992.585,1068.8 1023.58,1002.52 1054.57,923.968 1082.11,843.117 1109.65,752.248 1137.2,653.588 \n  1164.74,552.188 1188.89,467.72 1213.04,395.598 1225.12,366.888 1237.2,344.453 1249.27,329.14 1261.35,321.555 1274.51,322.448 1287.68,332.846 1300.85,352.248 \n  1314.01,379.755 1327.18,414.169 1340.35,454.115 1353.51,498.162 1366.68,544.929 1393.17,642.359 1419.66,737.947 1446.14,826.819 1472.63,906.645 1501.92,983.666 \n  1531.21,1049.44 1560.49,1105.18 1589.78,1152.28 1617.65,1190.32 1645.51,1222.83 1673.38,1250.69 1701.24,1274.67 1759.19,1314.72 1817.14,1344.86 1865.92,1364.71 \n  1914.7,1380.79 2033.81,1409.13 2145.77,1426.7 2325.15,1444.67 2352.76,1446.71 \n  \"/>\n<polyline clip-path=\"url(#clip2202)\" style=\"stroke:#3da44d; stroke-width:4; stroke-opacity:1; fill:none\" points=\"\n  180.66,88.0053 181.986,197.508 183.312,299.416 184.638,394.179 185.963,482.224 187.289,563.955 188.615,639.758 189.941,709.996 191.266,775.014 192.592,835.141 \n  193.918,890.685 195.244,941.941 196.57,989.187 197.895,1032.68 199.221,1072.68 199.884,1091.44 200.547,1109.41 201.21,1126.62 201.873,1143.1 204.937,1210.44 \n  208.002,1264.95 211.067,1308.67 214.131,1343.37 217.196,1370.58 220.261,1391.6 223.325,1407.58 226.39,1419.46 232.519,1434.08 238.649,1440.54 244.778,1442.32 \n  250.907,1441.75 275.424,1437.03 299.942,1437.96 348.976,1432.27 398.011,1420.32 427.479,1419.26 456.946,1420.27 486.414,1418.41 515.882,1410.98 565.711,1389.97 \n  615.54,1372.84 669.669,1365.25 723.797,1353.27 773.699,1322.74 823.6,1274.54 877.1,1217.77 930.6,1163.77 961.593,1128.78 992.585,1083.94 1008.08,1055.83 \n  1023.58,1023.04 1039.07,985.152 1054.57,941.99 1082.11,852.861 1109.65,750.941 1137.2,642.602 1164.74,536.622 1188.89,453.505 1213.04,386.477 1225.12,360.809 \n  1237.2,341.148 1249.27,327.927 1261.35,321.438 1274.51,322.2 1287.68,331.112 1300.85,347.94 1314.01,372.242 1340.35,440.581 1366.68,529.288 1393.17,630.562 \n  1419.66,735.005 1446.14,834.589 1472.63,923.222 1487.28,966.124 1501.92,1004.33 1516.56,1037.88 1531.21,1067 1560.49,1113.88 1589.78,1149.84 1645.51,1206.75 \n  1701.24,1265.39 1730.22,1295.65 1759.19,1322.31 1788.16,1342.8 1817.14,1356.02 1865.92,1365.49 1914.7,1372.14 1974.25,1392.86 2033.81,1415.79 2089.79,1419.89 \n  2145.77,1421.92 2190.62,1433.96 2235.46,1437.83 2257.88,1437.02 2280.31,1441.27 2291.52,1441.89 2302.73,1430.77 2308.33,1414.84 2313.94,1386.75 2316.74,1366.41 \n  2319.54,1340.74 2322.35,1308.7 2325.15,1269.12 2326.88,1240.42 2328.6,1208.02 2330.33,1171.52 2332.05,1130.53 2333.78,1084.6 2335.5,1033.26 2337.23,975.999 \n  2338.95,912.261 2340.68,841.454 2342.4,762.941 2344.13,676.038 2345.85,580.009 2347.58,474.066 2349.31,357.365 2351.03,229 2352.76,88.0053 \n  \"/>\n<path clip-path=\"url(#clip2200)\" d=\"\nM1749.21 372.684 L2280.76 372.684 L2280.76 130.764 L1749.21 130.764  Z\n  \" fill=\"#ffffff\" fill-rule=\"evenodd\" fill-opacity=\"1\"/>\n<polyline clip-path=\"url(#clip2200)\" style=\"stroke:#000000; stroke-width:4; stroke-opacity:1; fill:none\" points=\"\n  1749.21,372.684 2280.76,372.684 2280.76,130.764 1749.21,130.764 1749.21,372.684 \n  \"/>\n<circle clip-path=\"url(#clip2200)\" style=\"fill:#000000; stroke:none; fill-opacity:1\" cx=\"1857.21\" cy=\"191.244\" r=\"25\"/>\n<circle clip-path=\"url(#clip2200)\" style=\"fill:#009af9; stroke:none; fill-opacity:1\" cx=\"1857.21\" cy=\"191.244\" r=\"21\"/>\n<g clip-path=\"url(#clip2200)\">\n<text style=\"fill:#000000; fill-opacity:1; font-family:Arial,Helvetica Neue,Helvetica,sans-serif; font-size:48px; text-anchor:start;\" transform=\"rotate(0, 1941.21, 208.744)\" x=\"1941.21\" y=\"208.744\">Datos</text>\n</g>\n<polyline clip-path=\"url(#clip2200)\" style=\"stroke:#e26f46; stroke-width:4; stroke-opacity:1; fill:none\" points=\"\n  1773.21,251.724 1917.21,251.724 \n  \"/>\n<g clip-path=\"url(#clip2200)\">\n<text style=\"fill:#000000; fill-opacity:1; font-family:Arial,Helvetica Neue,Helvetica,sans-serif; font-size:48px; text-anchor:start;\" transform=\"rotate(0, 1941.21, 269.224)\" x=\"1941.21\" y=\"269.224\">Analítica</text>\n</g>\n<polyline clip-path=\"url(#clip2200)\" style=\"stroke:#3da44d; stroke-width:4; stroke-opacity:1; fill:none\" points=\"\n  1773.21,312.204 1917.21,312.204 \n  \"/>\n<g clip-path=\"url(#clip2200)\">\n<text style=\"fill:#000000; fill-opacity:1; font-family:Arial,Helvetica Neue,Helvetica,sans-serif; font-size:48px; text-anchor:start;\" transform=\"rotate(0, 1941.21, 329.704)\" x=\"1941.21\" y=\"329.704\">Aproximación</text>\n</g>\n</svg>\n"
               },
               "type": "node"
              }
             ],
             "instanceArgs": {
              "namespace": "html",
              "tag": "div"
             },
             "nodeType": "DOM",
             "props": {
              "className": "interact-flex-row interact-widget"
             },
             "type": "node"
            }
           }
          },
          "systemjs_options": null
         },
         "nodeType": "Scope",
         "props": {},
         "type": "node"
        }
       ],
       "instanceArgs": {
        "namespace": "html",
        "tag": "div"
       },
       "nodeType": "DOM",
       "props": {},
       "type": "node"
      },
      "text/html": [
       "<div\n",
       "    class=\"webio-mountpoint\"\n",
       "    data-webio-mountpoint=\"7066880287292041475\"\n",
       ">\n",
       "    <script>\n",
       "    if (window.require && require.defined && require.defined(\"nbextensions/webio-jupyter-notebook\")) {\n",
       "        console.log(\"Jupyter WebIO extension detected, not mounting.\");\n",
       "    } else if (window.WebIO) {\n",
       "        WebIO.mount(\n",
       "            document.querySelector('[data-webio-mountpoint=\"7066880287292041475\"]'),\n",
       "            {\"props\":{},\"nodeType\":\"DOM\",\"type\":\"node\",\"instanceArgs\":{\"namespace\":\"html\",\"tag\":\"div\"},\"children\":[{\"props\":{\"className\":\"field interact-widget\"},\"nodeType\":\"DOM\",\"type\":\"node\",\"instanceArgs\":{\"namespace\":\"html\",\"tag\":\"div\"},\"children\":[{\"props\":{},\"nodeType\":\"Scope\",\"type\":\"node\",\"instanceArgs\":{\"imports\":{\"data\":[{\"name\":\"knockout\",\"type\":\"js\",\"url\":\"\\/assetserver\\/1d039a0de7d5774d7e32099beea16a643a23af9b-knockout.js\"},{\"name\":\"knockout_punches\",\"type\":\"js\",\"url\":\"\\/assetserver\\/5e5d881d4b9820011e11e238536cd60a0e0cf817-knockout_punches.js\"},{\"name\":null,\"type\":\"js\",\"url\":\"\\/assetserver\\/e18d2d1e0a396f5f45c9bb9df36eb509bca2c7e5-all.js\"},{\"name\":null,\"type\":\"css\",\"url\":\"\\/assetserver\\/8163d0bac02a04e5b2245d884e4a36738983d2fd-style.css\"},{\"name\":null,\"type\":\"css\",\"url\":\"\\/assetserver\\/8ca22a055051e8f144a95f0904f9bf0fe55a79de-bulma_confined.min.css\"}],\"type\":\"async_block\"},\"id\":\"8194906341564619882\",\"handlers\":{\"changes\":[\"(function (val){return (val!=this.model[\\\"changes\\\"]()) ? (this.valueFromJulia[\\\"changes\\\"]=true, this.model[\\\"changes\\\"](val)) : undefined})\"],\"index\":[\"(function (val){return (val!=this.model[\\\"index\\\"]()) ? (this.valueFromJulia[\\\"index\\\"]=true, this.model[\\\"index\\\"](val)) : undefined})\"]},\"systemjs_options\":null,\"mount_callbacks\":[\"function () {\\n    var handler = (function (ko, koPunches) {\\n    ko.punches.enableAll();\\n    ko.bindingHandlers.numericValue = {\\n        init: function(element, valueAccessor, allBindings, data, context) {\\n            var stringified = ko.observable(ko.unwrap(valueAccessor()));\\n            stringified.subscribe(function(value) {\\n                var val = parseFloat(value);\\n                if (!isNaN(val)) {\\n                    valueAccessor()(val);\\n                }\\n            });\\n            valueAccessor().subscribe(function(value) {\\n                var str = JSON.stringify(value);\\n                if ((str == \\\"0\\\") && ([\\\"-0\\\", \\\"-0.\\\"].indexOf(stringified()) >= 0))\\n                     return;\\n                 if ([\\\"null\\\", \\\"\\\"].indexOf(str) >= 0)\\n                     return;\\n                stringified(str);\\n            });\\n            ko.applyBindingsToNode(\\n                element,\\n                {\\n                    value: stringified,\\n                    valueUpdate: allBindings.get('valueUpdate'),\\n                },\\n                context,\\n            );\\n        }\\n    };\\n    var json_data = {\\\"formatted_vals\\\":[\\\"1\\\",\\\"2\\\",\\\"3\\\",\\\"4\\\",\\\"5\\\",\\\"6\\\",\\\"7\\\",\\\"8\\\",\\\"9\\\",\\\"10\\\",\\\"11\\\",\\\"12\\\",\\\"13\\\",\\\"14\\\",\\\"15\\\",\\\"16\\\",\\\"17\\\",\\\"18\\\",\\\"19\\\",\\\"20\\\",\\\"21\\\",\\\"22\\\",\\\"23\\\",\\\"24\\\",\\\"25\\\",\\\"26\\\",\\\"27\\\",\\\"28\\\",\\\"29\\\",\\\"30\\\",\\\"31\\\",\\\"32\\\",\\\"33\\\",\\\"34\\\",\\\"35\\\",\\\"36\\\",\\\"37\\\",\\\"38\\\",\\\"39\\\",\\\"40\\\"],\\\"changes\\\":WebIO.getval({\\\"name\\\":\\\"changes\\\",\\\"scope\\\":\\\"8194906341564619882\\\",\\\"id\\\":\\\"ob_10\\\",\\\"type\\\":\\\"observable\\\"}),\\\"index\\\":WebIO.getval({\\\"name\\\":\\\"index\\\",\\\"scope\\\":\\\"8194906341564619882\\\",\\\"id\\\":\\\"ob_09\\\",\\\"type\\\":\\\"observable\\\"})};\\n    var self = this;\\n    function AppViewModel() {\\n        for (var key in json_data) {\\n            var el = json_data[key];\\n            this[key] = Array.isArray(el) ? ko.observableArray(el) : ko.observable(el);\\n        }\\n        \\n        [this[\\\"formatted_val\\\"]=ko.computed(    function(){\\n        return this.formatted_vals()[parseInt(this.index())-(1)];\\n    }\\n,this)]\\n        [this[\\\"changes\\\"].subscribe((function (val){!(this.valueFromJulia[\\\"changes\\\"]) ? (WebIO.setval({\\\"name\\\":\\\"changes\\\",\\\"scope\\\":\\\"8194906341564619882\\\",\\\"id\\\":\\\"ob_10\\\",\\\"type\\\":\\\"observable\\\"},val)) : undefined; return this.valueFromJulia[\\\"changes\\\"]=false}),self),this[\\\"index\\\"].subscribe((function (val){!(this.valueFromJulia[\\\"index\\\"]) ? (WebIO.setval({\\\"name\\\":\\\"index\\\",\\\"scope\\\":\\\"8194906341564619882\\\",\\\"id\\\":\\\"ob_09\\\",\\\"type\\\":\\\"observable\\\"},val)) : undefined; return this.valueFromJulia[\\\"index\\\"]=false}),self)]\\n        \\n    }\\n    self.model = new AppViewModel();\\n    self.valueFromJulia = {};\\n    for (var key in json_data) {\\n        self.valueFromJulia[key] = false;\\n    }\\n    ko.applyBindings(self.model, self.dom);\\n}\\n);\\n    (WebIO.importBlock({\\\"data\\\":[{\\\"name\\\":\\\"knockout\\\",\\\"type\\\":\\\"js\\\",\\\"url\\\":\\\"\\/assetserver\\/1d039a0de7d5774d7e32099beea16a643a23af9b-knockout.js\\\"},{\\\"name\\\":\\\"knockout_punches\\\",\\\"type\\\":\\\"js\\\",\\\"url\\\":\\\"\\/assetserver\\/5e5d881d4b9820011e11e238536cd60a0e0cf817-knockout_punches.js\\\"}],\\\"type\\\":\\\"async_block\\\"})).then((imports) => handler.apply(this, imports));\\n}\\n\"],\"observables\":{\"changes\":{\"sync\":false,\"id\":\"ob_10\",\"value\":0},\"index\":{\"sync\":true,\"id\":\"ob_09\",\"value\":20}}},\"children\":[{\"props\":{\"className\":\"interact-flex-row interact-widget\"},\"nodeType\":\"DOM\",\"type\":\"node\",\"instanceArgs\":{\"namespace\":\"html\",\"tag\":\"div\"},\"children\":[{\"props\":{\"className\":\"interact-flex-row-left\"},\"nodeType\":\"DOM\",\"type\":\"node\",\"instanceArgs\":{\"namespace\":\"html\",\"tag\":\"div\"},\"children\":[{\"props\":{\"className\":\"interact \",\"style\":{\"padding\":\"5px 10px 0px 10px\"}},\"nodeType\":\"DOM\",\"type\":\"node\",\"instanceArgs\":{\"namespace\":\"html\",\"tag\":\"label\"},\"children\":[\"n\"]}]},{\"props\":{\"className\":\"interact-flex-row-center\"},\"nodeType\":\"DOM\",\"type\":\"node\",\"instanceArgs\":{\"namespace\":\"html\",\"tag\":\"div\"},\"children\":[{\"props\":{\"max\":40,\"min\":1,\"attributes\":{\"type\":\"range\",\"data-bind\":\"numericValue: index, valueUpdate: 'input', event: {change: function (){this.changes(this.changes()+1)}}\",\"orient\":\"horizontal\"},\"step\":1,\"className\":\"slider slider is-fullwidth\",\"style\":{}},\"nodeType\":\"DOM\",\"type\":\"node\",\"instanceArgs\":{\"namespace\":\"html\",\"tag\":\"input\"},\"children\":[]}]},{\"props\":{\"className\":\"interact-flex-row-right\"},\"nodeType\":\"DOM\",\"type\":\"node\",\"instanceArgs\":{\"namespace\":\"html\",\"tag\":\"div\"},\"children\":[{\"props\":{\"attributes\":{\"data-bind\":\"text: formatted_val\"}},\"nodeType\":\"DOM\",\"type\":\"node\",\"instanceArgs\":{\"namespace\":\"html\",\"tag\":\"p\"},\"children\":[]}]}]}]}]},{\"props\":{},\"nodeType\":\"Scope\",\"type\":\"node\",\"instanceArgs\":{\"imports\":{\"data\":[],\"type\":\"async_block\"},\"id\":\"4083343615452511047\",\"handlers\":{},\"systemjs_options\":null,\"mount_callbacks\":[],\"observables\":{\"obs-node\":{\"sync\":false,\"id\":\"ob_14\",\"value\":{\"props\":{\"className\":\"interact-flex-row interact-widget\"},\"nodeType\":\"DOM\",\"type\":\"node\",\"instanceArgs\":{\"namespace\":\"html\",\"tag\":\"div\"},\"children\":[{\"props\":{\"setInnerHtml\":\"<?xml version=\\\"1.0\\\" encoding=\\\"utf-8\\\"?>\\n<svg xmlns=\\\"http:\\/\\/www.w3.org\\/2000\\/svg\\\" xmlns:xlink=\\\"http:\\/\\/www.w3.org\\/1999\\/xlink\\\" width=\\\"600\\\" height=\\\"400\\\" viewBox=\\\"0 0 2400 1600\\\">\\n<defs>\\n  <clipPath id=\\\"clip1800\\\">\\n    <rect x=\\\"0\\\" y=\\\"0\\\" width=\\\"2400\\\" height=\\\"1600\\\"\\/>\\n  <\\/clipPath>\\n<\\/defs>\\n<path clip-path=\\\"url(#clip1800)\\\" d=\\\"\\nM0 1600 L2400 1600 L2400 0 L0 0  Z\\n  \\\" fill=\\\"#ffffff\\\" fill-rule=\\\"evenodd\\\" fill-opacity=\\\"1\\\"\\/>\\n<defs>\\n  <clipPath id=\\\"clip1801\\\">\\n    <rect x=\\\"480\\\" y=\\\"0\\\" width=\\\"1681\\\" height=\\\"1600\\\"\\/>\\n  <\\/clipPath>\\n<\\/defs>\\n<path clip-path=\\\"url(#clip1800)\\\" d=\\\"\\nM180.66 1487.47 L2352.76 1487.47 L2352.76 47.2441 L180.66 47.2441  Z\\n  \\\" fill=\\\"#ffffff\\\" fill-rule=\\\"evenodd\\\" fill-opacity=\\\"1\\\"\\/>\\n<defs>\\n  <clipPath id=\\\"clip1802\\\">\\n    <rect x=\\\"180\\\" y=\\\"47\\\" width=\\\"2173\\\" height=\\\"1441\\\"\\/>\\n  <\\/clipPath>\\n<\\/defs>\\n<polyline clip-path=\\\"url(#clip1802)\\\" style=\\\"stroke:#000000; stroke-width:2; stroke-opacity:0.1; fill:none\\\" points=\\\"\\n  242.135,1487.47 242.135,47.2441 \\n  \\\"\\/>\\n<polyline clip-path=\\\"url(#clip1802)\\\" style=\\\"stroke:#000000; stroke-width:2; stroke-opacity:0.1; fill:none\\\" points=\\\"\\n  754.421,1487.47 754.421,47.2441 \\n  \\\"\\/>\\n<polyline clip-path=\\\"url(#clip1802)\\\" style=\\\"stroke:#000000; stroke-width:2; stroke-opacity:0.1; fill:none\\\" points=\\\"\\n  1266.71,1487.47 1266.71,47.2441 \\n  \\\"\\/>\\n<polyline clip-path=\\\"url(#clip1802)\\\" style=\\\"stroke:#000000; stroke-width:2; stroke-opacity:0.1; fill:none\\\" points=\\\"\\n  1778.99,1487.47 1778.99,47.2441 \\n  \\\"\\/>\\n<polyline clip-path=\\\"url(#clip1802)\\\" style=\\\"stroke:#000000; stroke-width:2; stroke-opacity:0.1; fill:none\\\" points=\\\"\\n  2291.28,1487.47 2291.28,47.2441 \\n  \\\"\\/>\\n<polyline clip-path=\\\"url(#clip1802)\\\" style=\\\"stroke:#000000; stroke-width:2; stroke-opacity:0.1; fill:none\\\" points=\\\"\\n  180.66,1486.8 2352.76,1486.8 \\n  \\\"\\/>\\n<polyline clip-path=\\\"url(#clip1802)\\\" style=\\\"stroke:#000000; stroke-width:2; stroke-opacity:0.1; fill:none\\\" points=\\\"\\n  180.66,1195.29 2352.76,1195.29 \\n  \\\"\\/>\\n<polyline clip-path=\\\"url(#clip1802)\\\" style=\\\"stroke:#000000; stroke-width:2; stroke-opacity:0.1; fill:none\\\" points=\\\"\\n  180.66,903.778 2352.76,903.778 \\n  \\\"\\/>\\n<polyline clip-path=\\\"url(#clip1802)\\\" style=\\\"stroke:#000000; stroke-width:2; stroke-opacity:0.1; fill:none\\\" points=\\\"\\n  180.66,612.268 2352.76,612.268 \\n  \\\"\\/>\\n<polyline clip-path=\\\"url(#clip1802)\\\" style=\\\"stroke:#000000; stroke-width:2; stroke-opacity:0.1; fill:none\\\" points=\\\"\\n  180.66,320.758 2352.76,320.758 \\n  \\\"\\/>\\n<polyline clip-path=\\\"url(#clip1800)\\\" style=\\\"stroke:#000000; stroke-width:4; stroke-opacity:1; fill:none\\\" points=\\\"\\n  180.66,1487.47 2352.76,1487.47 \\n  \\\"\\/>\\n<polyline clip-path=\\\"url(#clip1800)\\\" style=\\\"stroke:#000000; stroke-width:4; stroke-opacity:1; fill:none\\\" points=\\\"\\n  180.66,1487.47 180.66,47.2441 \\n  \\\"\\/>\\n<polyline clip-path=\\\"url(#clip1800)\\\" style=\\\"stroke:#000000; stroke-width:4; stroke-opacity:1; fill:none\\\" points=\\\"\\n  242.135,1487.47 242.135,1470.19 \\n  \\\"\\/>\\n<polyline clip-path=\\\"url(#clip1800)\\\" style=\\\"stroke:#000000; stroke-width:4; stroke-opacity:1; fill:none\\\" points=\\\"\\n  754.421,1487.47 754.421,1470.19 \\n  \\\"\\/>\\n<polyline clip-path=\\\"url(#clip1800)\\\" style=\\\"stroke:#000000; stroke-width:4; stroke-opacity:1; fill:none\\\" points=\\\"\\n  1266.71,1487.47 1266.71,1470.19 \\n  \\\"\\/>\\n<polyline clip-path=\\\"url(#clip1800)\\\" style=\\\"stroke:#000000; stroke-width:4; stroke-opacity:1; fill:none\\\" points=\\\"\\n  1778.99,1487.47 1778.99,1470.19 \\n  \\\"\\/>\\n<polyline clip-path=\\\"url(#clip1800)\\\" style=\\\"stroke:#000000; stroke-width:4; stroke-opacity:1; fill:none\\\" points=\\\"\\n  2291.28,1487.47 2291.28,1470.19 \\n  \\\"\\/>\\n<polyline clip-path=\\\"url(#clip1800)\\\" style=\\\"stroke:#000000; stroke-width:4; stroke-opacity:1; fill:none\\\" points=\\\"\\n  180.66,1486.8 206.725,1486.8 \\n  \\\"\\/>\\n<polyline clip-path=\\\"url(#clip1800)\\\" style=\\\"stroke:#000000; stroke-width:4; stroke-opacity:1; fill:none\\\" points=\\\"\\n  180.66,1195.29 206.725,1195.29 \\n  \\\"\\/>\\n<polyline clip-path=\\\"url(#clip1800)\\\" style=\\\"stroke:#000000; stroke-width:4; stroke-opacity:1; fill:none\\\" points=\\\"\\n  180.66,903.778 206.725,903.778 \\n  \\\"\\/>\\n<polyline clip-path=\\\"url(#clip1800)\\\" style=\\\"stroke:#000000; stroke-width:4; stroke-opacity:1; fill:none\\\" points=\\\"\\n  180.66,612.268 206.725,612.268 \\n  \\\"\\/>\\n<polyline clip-path=\\\"url(#clip1800)\\\" style=\\\"stroke:#000000; stroke-width:4; stroke-opacity:1; fill:none\\\" points=\\\"\\n  180.66,320.758 206.725,320.758 \\n  \\\"\\/>\\n<g clip-path=\\\"url(#clip1800)\\\">\\n<text style=\\\"fill:#000000; fill-opacity:1; font-family:Arial,Helvetica Neue,Helvetica,sans-serif; font-size:48px; text-anchor:middle;\\\" transform=\\\"rotate(0, 242.135, 1541.47)\\\" x=\\\"242.135\\\" y=\\\"1541.47\\\">-1.0<\\/text>\\n<\\/g>\\n<g clip-path=\\\"url(#clip1800)\\\">\\n<text style=\\\"fill:#000000; fill-opacity:1; font-family:Arial,Helvetica Neue,Helvetica,sans-serif; font-size:48px; text-anchor:middle;\\\" transform=\\\"rotate(0, 754.421, 1541.47)\\\" x=\\\"754.421\\\" y=\\\"1541.47\\\">-0.5<\\/text>\\n<\\/g>\\n<g clip-path=\\\"url(#clip1800)\\\">\\n<text style=\\\"fill:#000000; fill-opacity:1; font-family:Arial,Helvetica Neue,Helvetica,sans-serif; font-size:48px; text-anchor:middle;\\\" transform=\\\"rotate(0, 1266.71, 1541.47)\\\" x=\\\"1266.71\\\" y=\\\"1541.47\\\">0.0<\\/text>\\n<\\/g>\\n<g clip-path=\\\"url(#clip1800)\\\">\\n<text style=\\\"fill:#000000; fill-opacity:1; font-family:Arial,Helvetica Neue,Helvetica,sans-serif; font-size:48px; text-anchor:middle;\\\" transform=\\\"rotate(0, 1778.99, 1541.47)\\\" x=\\\"1778.99\\\" y=\\\"1541.47\\\">0.5<\\/text>\\n<\\/g>\\n<g clip-path=\\\"url(#clip1800)\\\">\\n<text style=\\\"fill:#000000; fill-opacity:1; font-family:Arial,Helvetica Neue,Helvetica,sans-serif; font-size:48px; text-anchor:middle;\\\" transform=\\\"rotate(0, 2291.28, 1541.47)\\\" x=\\\"2291.28\\\" y=\\\"1541.47\\\">1.0<\\/text>\\n<\\/g>\\n<g clip-path=\\\"url(#clip1800)\\\">\\n<text style=\\\"fill:#000000; fill-opacity:1; font-family:Arial,Helvetica Neue,Helvetica,sans-serif; font-size:48px; text-anchor:end;\\\" transform=\\\"rotate(0, 156.66, 1504.3)\\\" x=\\\"156.66\\\" y=\\\"1504.3\\\">0.00<\\/text>\\n<\\/g>\\n<g clip-path=\\\"url(#clip1800)\\\">\\n<text style=\\\"fill:#000000; fill-opacity:1; font-family:Arial,Helvetica Neue,Helvetica,sans-serif; font-size:48px; text-anchor:end;\\\" transform=\\\"rotate(0, 156.66, 1212.79)\\\" x=\\\"156.66\\\" y=\\\"1212.79\\\">0.25<\\/text>\\n<\\/g>\\n<g clip-path=\\\"url(#clip1800)\\\">\\n<text style=\\\"fill:#000000; fill-opacity:1; font-family:Arial,Helvetica Neue,Helvetica,sans-serif; font-size:48px; text-anchor:end;\\\" transform=\\\"rotate(0, 156.66, 921.278)\\\" x=\\\"156.66\\\" y=\\\"921.278\\\">0.50<\\/text>\\n<\\/g>\\n<g clip-path=\\\"url(#clip1800)\\\">\\n<text style=\\\"fill:#000000; fill-opacity:1; font-family:Arial,Helvetica Neue,Helvetica,sans-serif; font-size:48px; text-anchor:end;\\\" transform=\\\"rotate(0, 156.66, 629.768)\\\" x=\\\"156.66\\\" y=\\\"629.768\\\">0.75<\\/text>\\n<\\/g>\\n<g clip-path=\\\"url(#clip1800)\\\">\\n<text style=\\\"fill:#000000; fill-opacity:1; font-family:Arial,Helvetica Neue,Helvetica,sans-serif; font-size:48px; text-anchor:end;\\\" transform=\\\"rotate(0, 156.66, 338.258)\\\" x=\\\"156.66\\\" y=\\\"338.258\\\">1.00<\\/text>\\n<\\/g>\\n<circle clip-path=\\\"url(#clip1802)\\\" style=\\\"fill:#000000; stroke:none; fill-opacity:1\\\" cx=\\\"2291.28\\\" cy=\\\"1441.95\\\" r=\\\"18\\\"\\/>\\n<circle clip-path=\\\"url(#clip1802)\\\" style=\\\"fill:#009af9; stroke:none; fill-opacity:1\\\" cx=\\\"2291.28\\\" cy=\\\"1441.95\\\" r=\\\"14\\\"\\/>\\n<circle clip-path=\\\"url(#clip1802)\\\" style=\\\"fill:#000000; stroke:none; fill-opacity:1\\\" cx=\\\"2278.67\\\" cy=\\\"1440.87\\\" r=\\\"18\\\"\\/>\\n<circle clip-path=\\\"url(#clip1802)\\\" style=\\\"fill:#009af9; stroke:none; fill-opacity:1\\\" cx=\\\"2278.67\\\" cy=\\\"1440.87\\\" r=\\\"14\\\"\\/>\\n<circle clip-path=\\\"url(#clip1802)\\\" style=\\\"fill:#000000; stroke:none; fill-opacity:1\\\" cx=\\\"2241.14\\\" cy=\\\"1437.42\\\" r=\\\"18\\\"\\/>\\n<circle clip-path=\\\"url(#clip1802)\\\" style=\\\"fill:#009af9; stroke:none; fill-opacity:1\\\" cx=\\\"2241.14\\\" cy=\\\"1437.42\\\" r=\\\"14\\\"\\/>\\n<circle clip-path=\\\"url(#clip1802)\\\" style=\\\"fill:#000000; stroke:none; fill-opacity:1\\\" cx=\\\"2179.61\\\" cy=\\\"1430.86\\\" r=\\\"18\\\"\\/>\\n<circle clip-path=\\\"url(#clip1802)\\\" style=\\\"fill:#009af9; stroke:none; fill-opacity:1\\\" cx=\\\"2179.61\\\" cy=\\\"1430.86\\\" r=\\\"14\\\"\\/>\\n<circle clip-path=\\\"url(#clip1802)\\\" style=\\\"fill:#000000; stroke:none; fill-opacity:1\\\" cx=\\\"2095.61\\\" cy=\\\"1419.64\\\" r=\\\"18\\\"\\/>\\n<circle clip-path=\\\"url(#clip1802)\\\" style=\\\"fill:#009af9; stroke:none; fill-opacity:1\\\" cx=\\\"2095.61\\\" cy=\\\"1419.64\\\" r=\\\"14\\\"\\/>\\n<circle clip-path=\\\"url(#clip1802)\\\" style=\\\"fill:#000000; stroke:none; fill-opacity:1\\\" cx=\\\"1991.19\\\" cy=\\\"1400.42\\\" r=\\\"18\\\"\\/>\\n<circle clip-path=\\\"url(#clip1802)\\\" style=\\\"fill:#009af9; stroke:none; fill-opacity:1\\\" cx=\\\"1991.19\\\" cy=\\\"1400.42\\\" r=\\\"14\\\"\\/>\\n<circle clip-path=\\\"url(#clip1802)\\\" style=\\\"fill:#000000; stroke:none; fill-opacity:1\\\" cx=\\\"1868.94\\\" cy=\\\"1365.8\\\" r=\\\"18\\\"\\/>\\n<circle clip-path=\\\"url(#clip1802)\\\" style=\\\"fill:#009af9; stroke:none; fill-opacity:1\\\" cx=\\\"1868.94\\\" cy=\\\"1365.8\\\" r=\\\"14\\\"\\/>\\n<circle clip-path=\\\"url(#clip1802)\\\" style=\\\"fill:#000000; stroke:none; fill-opacity:1\\\" cx=\\\"1731.85\\\" cy=\\\"1297.28\\\" r=\\\"18\\\"\\/>\\n<circle clip-path=\\\"url(#clip1802)\\\" style=\\\"fill:#009af9; stroke:none; fill-opacity:1\\\" cx=\\\"1731.85\\\" cy=\\\"1297.28\\\" r=\\\"14\\\"\\/>\\n<circle clip-path=\\\"url(#clip1802)\\\" style=\\\"fill:#000000; stroke:none; fill-opacity:1\\\" cx=\\\"1583.32\\\" cy=\\\"1142.56\\\" r=\\\"18\\\"\\/>\\n<circle clip-path=\\\"url(#clip1802)\\\" style=\\\"fill:#009af9; stroke:none; fill-opacity:1\\\" cx=\\\"1583.32\\\" cy=\\\"1142.56\\\" r=\\\"14\\\"\\/>\\n<circle clip-path=\\\"url(#clip1802)\\\" style=\\\"fill:#000000; stroke:none; fill-opacity:1\\\" cx=\\\"1426.99\\\" cy=\\\"763.355\\\" r=\\\"18\\\"\\/>\\n<circle clip-path=\\\"url(#clip1802)\\\" style=\\\"fill:#009af9; stroke:none; fill-opacity:1\\\" cx=\\\"1426.99\\\" cy=\\\"763.355\\\" r=\\\"14\\\"\\/>\\n<circle clip-path=\\\"url(#clip1802)\\\" style=\\\"fill:#000000; stroke:none; fill-opacity:1\\\" cx=\\\"1266.71\\\" cy=\\\"320.758\\\" r=\\\"18\\\"\\/>\\n<circle clip-path=\\\"url(#clip1802)\\\" style=\\\"fill:#009af9; stroke:none; fill-opacity:1\\\" cx=\\\"1266.71\\\" cy=\\\"320.758\\\" r=\\\"14\\\"\\/>\\n<circle clip-path=\\\"url(#clip1802)\\\" style=\\\"fill:#000000; stroke:none; fill-opacity:1\\\" cx=\\\"1106.43\\\" cy=\\\"763.355\\\" r=\\\"18\\\"\\/>\\n<circle clip-path=\\\"url(#clip1802)\\\" style=\\\"fill:#009af9; stroke:none; fill-opacity:1\\\" cx=\\\"1106.43\\\" cy=\\\"763.355\\\" r=\\\"14\\\"\\/>\\n<circle clip-path=\\\"url(#clip1802)\\\" style=\\\"fill:#000000; stroke:none; fill-opacity:1\\\" cx=\\\"950.098\\\" cy=\\\"1142.56\\\" r=\\\"18\\\"\\/>\\n<circle clip-path=\\\"url(#clip1802)\\\" style=\\\"fill:#009af9; stroke:none; fill-opacity:1\\\" cx=\\\"950.098\\\" cy=\\\"1142.56\\\" r=\\\"14\\\"\\/>\\n<circle clip-path=\\\"url(#clip1802)\\\" style=\\\"fill:#000000; stroke:none; fill-opacity:1\\\" cx=\\\"801.562\\\" cy=\\\"1297.28\\\" r=\\\"18\\\"\\/>\\n<circle clip-path=\\\"url(#clip1802)\\\" style=\\\"fill:#009af9; stroke:none; fill-opacity:1\\\" cx=\\\"801.562\\\" cy=\\\"1297.28\\\" r=\\\"14\\\"\\/>\\n<circle clip-path=\\\"url(#clip1802)\\\" style=\\\"fill:#000000; stroke:none; fill-opacity:1\\\" cx=\\\"664.479\\\" cy=\\\"1365.8\\\" r=\\\"18\\\"\\/>\\n<circle clip-path=\\\"url(#clip1802)\\\" style=\\\"fill:#009af9; stroke:none; fill-opacity:1\\\" cx=\\\"664.479\\\" cy=\\\"1365.8\\\" r=\\\"14\\\"\\/>\\n<circle clip-path=\\\"url(#clip1802)\\\" style=\\\"fill:#000000; stroke:none; fill-opacity:1\\\" cx=\\\"542.225\\\" cy=\\\"1400.42\\\" r=\\\"18\\\"\\/>\\n<circle clip-path=\\\"url(#clip1802)\\\" style=\\\"fill:#009af9; stroke:none; fill-opacity:1\\\" cx=\\\"542.225\\\" cy=\\\"1400.42\\\" r=\\\"14\\\"\\/>\\n<circle clip-path=\\\"url(#clip1802)\\\" style=\\\"fill:#000000; stroke:none; fill-opacity:1\\\" cx=\\\"437.811\\\" cy=\\\"1419.64\\\" r=\\\"18\\\"\\/>\\n<circle clip-path=\\\"url(#clip1802)\\\" style=\\\"fill:#009af9; stroke:none; fill-opacity:1\\\" cx=\\\"437.811\\\" cy=\\\"1419.64\\\" r=\\\"14\\\"\\/>\\n<circle clip-path=\\\"url(#clip1802)\\\" style=\\\"fill:#000000; stroke:none; fill-opacity:1\\\" cx=\\\"353.807\\\" cy=\\\"1430.86\\\" r=\\\"18\\\"\\/>\\n<circle clip-path=\\\"url(#clip1802)\\\" style=\\\"fill:#009af9; stroke:none; fill-opacity:1\\\" cx=\\\"353.807\\\" cy=\\\"1430.86\\\" r=\\\"14\\\"\\/>\\n<circle clip-path=\\\"url(#clip1802)\\\" style=\\\"fill:#000000; stroke:none; fill-opacity:1\\\" cx=\\\"292.281\\\" cy=\\\"1437.42\\\" r=\\\"18\\\"\\/>\\n<circle clip-path=\\\"url(#clip1802)\\\" style=\\\"fill:#009af9; stroke:none; fill-opacity:1\\\" cx=\\\"292.281\\\" cy=\\\"1437.42\\\" r=\\\"14\\\"\\/>\\n<circle clip-path=\\\"url(#clip1802)\\\" style=\\\"fill:#000000; stroke:none; fill-opacity:1\\\" cx=\\\"254.749\\\" cy=\\\"1440.87\\\" r=\\\"18\\\"\\/>\\n<circle clip-path=\\\"url(#clip1802)\\\" style=\\\"fill:#009af9; stroke:none; fill-opacity:1\\\" cx=\\\"254.749\\\" cy=\\\"1440.87\\\" r=\\\"14\\\"\\/>\\n<circle clip-path=\\\"url(#clip1802)\\\" style=\\\"fill:#000000; stroke:none; fill-opacity:1\\\" cx=\\\"242.135\\\" cy=\\\"1441.95\\\" r=\\\"18\\\"\\/>\\n<circle clip-path=\\\"url(#clip1802)\\\" style=\\\"fill:#009af9; stroke:none; fill-opacity:1\\\" cx=\\\"242.135\\\" cy=\\\"1441.95\\\" r=\\\"14\\\"\\/>\\n<polyline clip-path=\\\"url(#clip1802)\\\" style=\\\"stroke:#e26f46; stroke-width:4; stroke-opacity:1; fill:none\\\" points=\\\"\\n  180.66,1446.71 201.873,1445.16 398.011,1425.34 515.882,1405.97 615.54,1381.73 669.669,1363.91 723.797,1341.4 773.699,1315.03 823.6,1281.36 850.35,1259.43 \\n  877.1,1234.13 903.85,1204.85 930.6,1170.83 961.593,1124.35 992.585,1068.8 1023.58,1002.52 1054.57,923.968 1082.11,843.117 1109.65,752.248 1137.2,653.588 \\n  1164.74,552.188 1188.89,467.72 1213.04,395.598 1225.12,366.888 1237.2,344.453 1249.27,329.14 1261.35,321.555 1274.51,322.448 1287.68,332.846 1300.85,352.248 \\n  1314.01,379.755 1327.18,414.169 1340.35,454.115 1353.51,498.162 1366.68,544.929 1393.17,642.359 1419.66,737.947 1446.14,826.819 1472.63,906.645 1501.92,983.666 \\n  1531.21,1049.44 1560.49,1105.18 1589.78,1152.28 1617.65,1190.32 1645.51,1222.83 1673.38,1250.69 1701.24,1274.67 1759.19,1314.72 1817.14,1344.86 1865.92,1364.71 \\n  1914.7,1380.79 2033.81,1409.13 2145.77,1426.7 2325.15,1444.67 2352.76,1446.71 \\n  \\\"\\/>\\n<polyline clip-path=\\\"url(#clip1802)\\\" style=\\\"stroke:#3da44d; stroke-width:4; stroke-opacity:1; fill:none\\\" points=\\\"\\n  180.66,88.0053 181.986,197.508 183.312,299.416 184.638,394.179 185.963,482.224 187.289,563.955 188.615,639.758 189.941,709.996 191.266,775.014 192.592,835.141 \\n  193.918,890.685 195.244,941.941 196.57,989.187 197.895,1032.68 199.221,1072.68 199.884,1091.44 200.547,1109.41 201.21,1126.62 201.873,1143.1 204.937,1210.44 \\n  208.002,1264.95 211.067,1308.67 214.131,1343.37 217.196,1370.58 220.261,1391.6 223.325,1407.58 226.39,1419.46 232.519,1434.08 238.649,1440.54 244.778,1442.32 \\n  250.907,1441.75 275.424,1437.03 299.942,1437.96 348.976,1432.27 398.011,1420.32 427.479,1419.26 456.946,1420.27 486.414,1418.41 515.882,1410.98 565.711,1389.97 \\n  615.54,1372.84 669.669,1365.25 723.797,1353.27 773.699,1322.74 823.6,1274.54 877.1,1217.77 930.6,1163.77 961.593,1128.78 992.585,1083.94 1008.08,1055.83 \\n  1023.58,1023.04 1039.07,985.152 1054.57,941.99 1082.11,852.861 1109.65,750.941 1137.2,642.602 1164.74,536.622 1188.89,453.505 1213.04,386.477 1225.12,360.809 \\n  1237.2,341.148 1249.27,327.927 1261.35,321.438 1274.51,322.2 1287.68,331.112 1300.85,347.94 1314.01,372.242 1340.35,440.581 1366.68,529.288 1393.17,630.562 \\n  1419.66,735.005 1446.14,834.589 1472.63,923.222 1487.28,966.124 1501.92,1004.33 1516.56,1037.88 1531.21,1067 1560.49,1113.88 1589.78,1149.84 1645.51,1206.75 \\n  1701.24,1265.39 1730.22,1295.65 1759.19,1322.31 1788.16,1342.8 1817.14,1356.02 1865.92,1365.49 1914.7,1372.14 1974.25,1392.86 2033.81,1415.79 2089.79,1419.89 \\n  2145.77,1421.92 2190.62,1433.96 2235.46,1437.83 2257.88,1437.02 2280.31,1441.27 2291.52,1441.89 2302.73,1430.77 2308.33,1414.84 2313.94,1386.75 2316.74,1366.41 \\n  2319.54,1340.74 2322.35,1308.7 2325.15,1269.12 2326.88,1240.42 2328.6,1208.02 2330.33,1171.52 2332.05,1130.53 2333.78,1084.6 2335.5,1033.26 2337.23,975.999 \\n  2338.95,912.261 2340.68,841.454 2342.4,762.941 2344.13,676.038 2345.85,580.009 2347.58,474.066 2349.31,357.365 2351.03,229 2352.76,88.0053 \\n  \\\"\\/>\\n<path clip-path=\\\"url(#clip1800)\\\" d=\\\"\\nM1749.21 372.684 L2280.76 372.684 L2280.76 130.764 L1749.21 130.764  Z\\n  \\\" fill=\\\"#ffffff\\\" fill-rule=\\\"evenodd\\\" fill-opacity=\\\"1\\\"\\/>\\n<polyline clip-path=\\\"url(#clip1800)\\\" style=\\\"stroke:#000000; stroke-width:4; stroke-opacity:1; fill:none\\\" points=\\\"\\n  1749.21,372.684 2280.76,372.684 2280.76,130.764 1749.21,130.764 1749.21,372.684 \\n  \\\"\\/>\\n<circle clip-path=\\\"url(#clip1800)\\\" style=\\\"fill:#000000; stroke:none; fill-opacity:1\\\" cx=\\\"1857.21\\\" cy=\\\"191.244\\\" r=\\\"25\\\"\\/>\\n<circle clip-path=\\\"url(#clip1800)\\\" style=\\\"fill:#009af9; stroke:none; fill-opacity:1\\\" cx=\\\"1857.21\\\" cy=\\\"191.244\\\" r=\\\"21\\\"\\/>\\n<g clip-path=\\\"url(#clip1800)\\\">\\n<text style=\\\"fill:#000000; fill-opacity:1; font-family:Arial,Helvetica Neue,Helvetica,sans-serif; font-size:48px; text-anchor:start;\\\" transform=\\\"rotate(0, 1941.21, 208.744)\\\" x=\\\"1941.21\\\" y=\\\"208.744\\\">Datos<\\/text>\\n<\\/g>\\n<polyline clip-path=\\\"url(#clip1800)\\\" style=\\\"stroke:#e26f46; stroke-width:4; stroke-opacity:1; fill:none\\\" points=\\\"\\n  1773.21,251.724 1917.21,251.724 \\n  \\\"\\/>\\n<g clip-path=\\\"url(#clip1800)\\\">\\n<text style=\\\"fill:#000000; fill-opacity:1; font-family:Arial,Helvetica Neue,Helvetica,sans-serif; font-size:48px; text-anchor:start;\\\" transform=\\\"rotate(0, 1941.21, 269.224)\\\" x=\\\"1941.21\\\" y=\\\"269.224\\\">Analítica<\\/text>\\n<\\/g>\\n<polyline clip-path=\\\"url(#clip1800)\\\" style=\\\"stroke:#3da44d; stroke-width:4; stroke-opacity:1; fill:none\\\" points=\\\"\\n  1773.21,312.204 1917.21,312.204 \\n  \\\"\\/>\\n<g clip-path=\\\"url(#clip1800)\\\">\\n<text style=\\\"fill:#000000; fill-opacity:1; font-family:Arial,Helvetica Neue,Helvetica,sans-serif; font-size:48px; text-anchor:start;\\\" transform=\\\"rotate(0, 1941.21, 329.704)\\\" x=\\\"1941.21\\\" y=\\\"329.704\\\">Aproximación<\\/text>\\n<\\/g>\\n<\\/svg>\\n\"},\"nodeType\":\"DOM\",\"type\":\"node\",\"instanceArgs\":{\"namespace\":\"html\",\"tag\":\"div\"},\"children\":[]}]}}}},\"children\":[{\"props\":{},\"nodeType\":\"ObservableNode\",\"type\":\"node\",\"instanceArgs\":{\"id\":\"ob_14\",\"name\":\"obs-node\"},\"children\":[]}]}]},\n",
       "            window,\n",
       "        );\n",
       "    } else {\n",
       "        document\n",
       "            .querySelector('[data-webio-mountpoint=\"7066880287292041475\"]')\n",
       "            .innerHTML = (\n",
       "                '<div style=\"padding: 1em; background-color: #f8d6da; border: 1px solid #f5c6cb\">' +\n",
       "                '<p><strong>WebIO not detected.</strong></p>' +\n",
       "                '<p>Please read ' +\n",
       "                '<a href=\"https://juliagizmos.github.io/WebIO.jl/latest/troubleshooting/not-detected/\" target=\"_blank\">the troubleshooting guide</a> ' +\n",
       "                'for more information on how to resolve this issue.</p>' +\n",
       "                '<p><a href=\"https://juliagizmos.github.io/WebIO.jl/latest/troubleshooting/not-detected/\" target=\"_blank\">https://juliagizmos.github.io/WebIO.jl/latest/troubleshooting/not-detected/</a></p>' +\n",
       "                '</div>'\n",
       "            );\n",
       "    }\n",
       "    </script>\n",
       "</div>\n"
      ],
      "text/plain": [
       "Node{WebIO.DOM}(WebIO.DOM(:html, :div), Any[Node{WebIO.DOM}(WebIO.DOM(:html, :div), Any[Scope(Node{WebIO.DOM}(WebIO.DOM(:html, :div), Any[Node{WebIO.DOM}(WebIO.DOM(:html, :div), Any[Node{WebIO.DOM}(WebIO.DOM(:html, :label), Any[\"n\"], Dict{Symbol,Any}(:className => \"interact \",:style => Dict{Any,Any}(:padding => \"5px 10px 0px 10px\")))], Dict{Symbol,Any}(:className => \"interact-flex-row-left\")), Node{WebIO.DOM}(WebIO.DOM(:html, :div), Any[Node{WebIO.DOM}(WebIO.DOM(:html, :input), Any[], Dict{Symbol,Any}(:max => 40,:min => 1,:attributes => Dict{Any,Any}(:type => \"range\",Symbol(\"data-bind\") => \"numericValue: index, valueUpdate: 'input', event: {change: function (){this.changes(this.changes()+1)}}\",\"orient\" => \"horizontal\"),:step => 1,:className => \"slider slider is-fullwidth\",:style => Dict{Any,Any}()))], Dict{Symbol,Any}(:className => \"interact-flex-row-center\")), Node{WebIO.DOM}(WebIO.DOM(:html, :div), Any[Node{WebIO.DOM}(WebIO.DOM(:html, :p), Any[], Dict{Symbol,Any}(:attributes => Dict(\"data-bind\" => \"text: formatted_val\")))], Dict{Symbol,Any}(:className => \"interact-flex-row-right\"))], Dict{Symbol,Any}(:className => \"interact-flex-row interact-widget\")), Dict{String,Tuple{Observables.AbstractObservable,Union{Nothing, Bool}}}(\"changes\" => (Observable{Int64} with 1 listeners. Value:\n",
       "0, nothing),\"index\" => (Observable{Int64} with 2 listeners. Value:\n",
       "20, nothing)), Set(String[]), nothing, Asset[Asset(\"js\", \"knockout\", \"/Users/rborja/.julia/packages/Knockout/1sDlc/src/../assets/knockout.js\"), Asset(\"js\", \"knockout_punches\", \"/Users/rborja/.julia/packages/Knockout/1sDlc/src/../assets/knockout_punches.js\"), Asset(\"js\", nothing, \"/Users/rborja/.julia/packages/InteractBase/9mFwe/src/../assets/all.js\"), Asset(\"css\", nothing, \"/Users/rborja/.julia/packages/InteractBase/9mFwe/src/../assets/style.css\"), Asset(\"css\", nothing, \"/Users/rborja/.julia/packages/Interact/SbgIk/src/../assets/bulma_confined.min.css\")], Dict{Any,Any}(\"changes\" => Any[WebIO.JSString(\"(function (val){return (val!=this.model[\\\"changes\\\"]()) ? (this.valueFromJulia[\\\"changes\\\"]=true, this.model[\\\"changes\\\"](val)) : undefined})\")],\"index\" => Any[WebIO.JSString(\"(function (val){return (val!=this.model[\\\"index\\\"]()) ? (this.valueFromJulia[\\\"index\\\"]=true, this.model[\\\"index\\\"](val)) : undefined})\")]), WebIO.ConnectionPool(Channel{Any}(sz_max:32,sz_curr:0), Set(AbstractConnection[]), Base.GenericCondition{Base.AlwaysLockedST}(Base.InvasiveLinkedList{Task}(Task (runnable) @0x000000010a1dc6d0, Task (runnable) @0x000000010a1dc6d0), Base.AlwaysLockedST(1))), WebIO.JSString[WebIO.JSString(\"function () {\\n    var handler = (function (ko, koPunches) {\\n    ko.punches.enableAll();\\n    ko.bindingHandlers.numericValue = {\\n        init: function(element, valueAccessor, allBindings, data, context) {\\n            var stringified = ko.observable(ko.unwrap(valueAccessor()));\\n            stringified.subscribe(function(value) {\\n                var val = parseFloat(value);\\n                if (!isNaN(val)) {\\n                    valueAccessor()(val);\\n                }\\n            });\\n            valueAccessor().subscribe(function(value) {\\n                var str = JSON.stringify(value);\\n                if ((str == \\\"0\\\") && ([\\\"-0\\\", \\\"-0.\\\"].indexOf(stringified()) >= 0))\\n                     return;\\n                 if ([\\\"null\\\", \\\"\\\"].indexOf(str) >= 0)\\n                     return;\\n                stringified(str);\\n            });\\n            ko.applyBindingsToNode(\\n                element,\\n                {\\n                    value: stringified,\\n                    valueUpdate: allBindings.get('valueUpdate'),\\n                },\\n                context,\\n            );\\n        }\\n    };\\n    var json_data = {\\\"formatted_vals\\\":[\\\"1\\\",\\\"2\\\",\\\"3\\\",\\\"4\\\",\\\"5\\\",\\\"6\\\",\\\"7\\\",\\\"8\\\",\\\"9\\\",\\\"10\\\",\\\"11\\\",\\\"12\\\",\\\"13\\\",\\\"14\\\",\\\"15\\\",\\\"16\\\",\\\"17\\\",\\\"18\\\",\\\"19\\\",\\\"20\\\",\\\"21\\\",\\\"22\\\",\\\"23\\\",\\\"24\\\",\\\"25\\\",\\\"26\\\",\\\"27\\\",\\\"28\\\",\\\"29\\\",\\\"30\\\",\\\"31\\\",\\\"32\\\",\\\"33\\\",\\\"34\\\",\\\"35\\\",\\\"36\\\",\\\"37\\\",\\\"38\\\",\\\"39\\\",\\\"40\\\"],\\\"changes\\\":WebIO.getval({\\\"name\\\":\\\"changes\\\",\\\"scope\\\":\\\"8194906341564619882\\\",\\\"id\\\":\\\"ob_10\\\",\\\"type\\\":\\\"observable\\\"}),\\\"index\\\":WebIO.getval({\\\"name\\\":\\\"index\\\",\\\"scope\\\":\\\"8194906341564619882\\\",\\\"id\\\":\\\"ob_09\\\",\\\"type\\\":\\\"observable\\\"})};\\n    var self = this;\\n    function AppViewModel() {\\n        for (var key in json_data) {\\n            var el = json_data[key];\\n            this[key] = Array.isArray(el) ? ko.observableArray(el) : ko.observable(el);\\n        }\\n        \\n        [this[\\\"formatted_val\\\"]=ko.computed(    function(){\\n        return this.formatted_vals()[parseInt(this.index())-(1)];\\n    }\\n,this)]\\n        [this[\\\"changes\\\"].subscribe((function (val){!(this.valueFromJulia[\\\"changes\\\"]) ? (WebIO.setval({\\\"name\\\":\\\"changes\\\",\\\"scope\\\":\\\"8194906341564619882\\\",\\\"id\\\":\\\"ob_10\\\",\\\"type\\\":\\\"observable\\\"},val)) : undefined; return this.valueFromJulia[\\\"changes\\\"]=false}),self),this[\\\"index\\\"].subscribe((function (val){!(this.valueFromJulia[\\\"index\\\"]) ? (WebIO.setval({\\\"name\\\":\\\"index\\\",\\\"scope\\\":\\\"8194906341564619882\\\",\\\"id\\\":\\\"ob_09\\\",\\\"type\\\":\\\"observable\\\"},val)) : undefined; return this.valueFromJulia[\\\"index\\\"]=false}),self)]\\n        \\n    }\\n    self.model = new AppViewModel();\\n    self.valueFromJulia = {};\\n    for (var key in json_data) {\\n        self.valueFromJulia[key] = false;\\n    }\\n    ko.applyBindings(self.model, self.dom);\\n}\\n);\\n    (WebIO.importBlock({\\\"data\\\":[{\\\"name\\\":\\\"knockout\\\",\\\"type\\\":\\\"js\\\",\\\"url\\\":\\\"/assetserver/1d039a0de7d5774d7e32099beea16a643a23af9b-knockout.js\\\"},{\\\"name\\\":\\\"knockout_punches\\\",\\\"type\\\":\\\"js\\\",\\\"url\\\":\\\"/assetserver/5e5d881d4b9820011e11e238536cd60a0e0cf817-knockout_punches.js\\\"}],\\\"type\\\":\\\"async_block\\\"})).then((imports) => handler.apply(this, imports));\\n}\\n\")])], Dict{Symbol,Any}(:className => \"field interact-widget\")), Observable{Any} with 0 listeners. Value:\n",
       "Node{WebIO.DOM}(WebIO.DOM(:html, :div), Any[Plot{Plots.GRBackend() n=3}], Dict{Symbol,Any}(:className => \"interact-flex-row interact-widget\"))], Dict{Symbol,Any}())"
      ]
     },
     "execution_count": 11,
     "metadata": {
      "application/vnd.webio.node+json": {
       "kernelId": "1505ff35-6741-43b6-8e5b-8e047425c98c"
      }
     },
     "output_type": "execute_result"
    }
   ],
   "source": [
    "f(x) = 1/(1 + 25x^2)\n",
    "@manipulate for n = 1:40\n",
    "    x = chebyshev_puntos(n)\n",
    "    y = f.(x)\n",
    "    s = interpola_cheb(f, n)\n",
    "    scatter(x, f.(x), xlims=[-1,1], label=\"Datos\")\n",
    "    plot!(f, label=\"Analítica\")\n",
    "    plot!(s, label=\"Aproximación\")\n",
    "end"
   ]
  },
  {
   "cell_type": "markdown",
   "metadata": {},
   "source": [
    " ¿Qué diferencia notas al utilizar una partición regular de los puntos $\\{x_i\\}$ y los puntos de Chebyshev?\n",
    " \n",
    " Anota tu respuesta."
   ]
  },
  {
   "cell_type": "code",
   "execution_count": null,
   "metadata": {},
   "outputs": [],
   "source": []
  }
 ],
 "metadata": {
  "@webio": {
   "lastCommId": "c98e279bf8a9435fa69eeddef33bb36c",
   "lastKernelId": "1505ff35-6741-43b6-8e5b-8e047425c98c"
  },
  "kernelspec": {
   "display_name": "Julia 1.3.1",
   "language": "julia",
   "name": "julia-1.3"
  },
  "language_info": {
   "file_extension": ".jl",
   "mimetype": "application/julia",
   "name": "julia",
   "version": "1.3.1"
  }
 },
 "nbformat": 4,
 "nbformat_minor": 2
}
