{
 "cells": [
  {
   "cell_type": "markdown",
   "metadata": {},
   "source": [
    "# Polinomios de Interpolación"
   ]
  },
  {
   "cell_type": "markdown",
   "metadata": {},
   "source": [
    "Este notebook está dirijido a trabajar  la idea de aproximar una función continua a un conjunto de datos que conocemos, por medio de la **interpolación**."
   ]
  },
  {
   "cell_type": "markdown",
   "metadata": {},
   "source": [
    "De esta manera, tenemos el siguiente problema: tenemos datos discretos y queremos calcular una función continua que los aproxime. \n",
    "\n",
    "> Precisamente: dados $m+1$ pares $(x_i, y_i)$, el problema consiste en calcular una función $\\Phi=\\Phi(x)$ tal que $\\Phi(x_i)=y_i$ para $i=0,...,m$ donde $y_i$ es alguno de los valores dado."
   ]
  },
  {
   "cell_type": "markdown",
   "metadata": {},
   "source": [
    "### Interpolación polinómica\n",
    "\n",
    "Consideremos $n+1$ pares $(x_i, y_i)$. El problema es calcular  un polinomio $\\prod_m$ $\\in$ $\\mathbb{P}_m$, llamado polinomio interpolador, de modo que: \n",
    "\n",
    "\\begin{equation}\n",
    "\\prod_m(x_i) = a_m x_i^m + ... + a_1x_i + a_0 = y_i, \\qquad i=0,...,n \\qquad \\qquad (1)\n",
    "\\end{equation}\n",
    "\n",
    "donde los puntos $x_i$ se denominan nodos de interpolación.\n",
    "\n",
    "En clase vimos que el polinomio interpolador existe y tiene la siguiente forma: \n",
    "\n",
    "\\begin{equation}\n",
    "\\prod_n(x) = \\sum_{i=0}^n y_i l_i(x) \\qquad \\qquad (2)\n",
    "\\end{equation}\n",
    "donde\n",
    "\\begin{equation}\n",
    "l_i \\in \\mathbb{P}_n: \\qquad l_i(x)=\\prod_{j=0\\\\j\\neq i}^n \\frac{x-x_j}{x_i - x_j} \\qquad i=0,...,n \\qquad \\qquad (3)\n",
    "\\end{equation}\n",
    "\n",
    "La ecuación $(2)$ se conoce como el **polinomio interpolador en la forma de Lagrange**, mientras que los $l_i (x)$ son los polinomios característicos. \n",
    "\n",
    "Un enfoque alternativo (que también vimos en clase) es que se puede expresar la ecuación $(2)$ de la siguiente manera: \n",
    "\n",
    "\\begin{equation}\n",
    "\\prod_{n} (x) = \\sum_{i=0}^n \\frac{w_{n+1}(x)}{(x-x_i)w_{n+1}^{\\prime}(x_i)} y_i \\qquad \\qquad (4)\n",
    "\\end{equation}\n",
    "\n",
    "donde $w_{n+1}$ se define como:\n",
    "\n",
    "$$ w_{n+1}(x) = \\prod_{i=0}^n (x-x_i) $$\n",
    " y \n",
    "$$ w_{n+1}^{\\prime}(x_i)=\\prod_{i=0\\\\ j\\neq i}^n (x_i - x_j)$$ "
   ]
  },
  {
   "cell_type": "markdown",
   "metadata": {},
   "source": [
    "**Ejerciico 1** \n",
    "\n",
    "- 1) Utilizando la ecuación (2) ó (3) calcula la expresión análitica que tendría el polinomio interpolador  si se interpolara el conjunto de datos $(x_1, y_1), (x_2, x_2)$\n",
    "- 2) Implementa el resultado del inciso 1 en una función de nombre Interpolacion01 y comprueba gráficamente que tu resultado sí funciona.\n",
    "- 3) Utilizando la ecuación (2) ó (3) calcula la expresión análitica que tendría el polinomio interpolador si se interpolara el conjunto de datos $(x_1, y_1), (x_2, y_2), (x_3, y_3)$\n",
    "- 4) Implementa el resultado den inciso 3 en una función de nombre Interpolación02 y comprueba gráficamente que tu resultado  sí funciona."
   ]
  },
  {
   "cell_type": "code",
   "execution_count": null,
   "metadata": {},
   "outputs": [],
   "source": []
  },
  {
   "cell_type": "markdown",
   "metadata": {},
   "source": [
    "# Implementación para N puntos"
   ]
  },
  {
   "cell_type": "code",
   "execution_count": null,
   "metadata": {},
   "outputs": [],
   "source": [
    "function lp(x0, p, X)\n",
    "    α = 1.\n",
    "    l = 1.\n",
    "    for i in 1:length(X)\n",
    "        if i == p\n",
    "            continue\n",
    "        end\n",
    "        α *= X[p] - X[i]\n",
    "        l *= x0 - X[i]\n",
    "    end\n",
    "    return l / α\n",
    "end"
   ]
  },
  {
   "cell_type": "code",
   "execution_count": null,
   "metadata": {},
   "outputs": [],
   "source": [
    "function Interpola03(X)\n",
    "    x = [x for (x, _) in X]\n",
    "    y = [y for (_, y) in X]\n",
    "    function L(s)\n",
    "        lps = [lp(s, i, x) for i in 1:length(y)]\n",
    "        return dot(lps, y)\n",
    "    end\n",
    "    return L\n",
    "end"
   ]
  },
  {
   "cell_type": "code",
   "execution_count": null,
   "metadata": {},
   "outputs": [],
   "source": [
    "pol_grad_3(x) = x^3\n",
    "x = 1:4\n",
    "y = pol_grad_3.(x)\n",
    "pol_interpola = Interpola03(zip(x, y))\n",
    "plot(pol_interpola, label=\"Aproximación\")\n",
    "plot!(pol_grad_3, label=\"Analítica\")"
   ]
  },
  {
   "cell_type": "code",
   "execution_count": null,
   "metadata": {},
   "outputs": [],
   "source": [
    "x = 0:10\n",
    "y = sin.(x)\n",
    "pol_interpola = Interpola03(zip(x, y))\n",
    "plot(pol_interpola, xlims=(0,10), ylims=(-1,1), label=\"Aproximación\")\n",
    "plot!(sin, label=\"Analítica\")"
   ]
  },
  {
   "cell_type": "code",
   "execution_count": null,
   "metadata": {},
   "outputs": [],
   "source": [
    "\n",
    "#f(x) = x^2  + x^3 + 1\n",
    "f(x) = 1/(1 + 25x^2)\n",
    "@manipulate for n = 1:13\n",
    "    x = -1:2/n:1\n",
    "    y = f.(x)\n",
    "    s = Interpola03(zip(x, y))\n",
    "    scatter(x, f.(x), xlims=[-1,1], label=\"Datos\")\n",
    "    plot!(f, ylim=(-2,2), label=\"Analítica\")\n",
    "    plot!(s, ylim=(-2,2), label=\"Aproximación\")\n",
    "\n",
    "end"
   ]
  },
  {
   "cell_type": "markdown",
   "metadata": {},
   "source": [
    "¿Qué observas del ejemplo anterior?\n",
    "\n",
    "Anota tus observaciones"
   ]
  },
  {
   "cell_type": "markdown",
   "metadata": {},
   "source": [
    "# Interpolación en puntos espaciados no-uniformemente\n",
    "\n",
    "En los ejemplos anteriores, la partición de los puntos $\\{x_i\\}$ se tomaba uniformemente, otra manera de realizar la partición de tal forma que los puntos $\\{x_i\\}$ se amontonen cerca de los puntos extremos del intervalo es utilizando los puntos de Chebyshev con arámetro n, definidos como: \n",
    "$$x_j := cos\\left(\\frac{jn}{n} \\right) \\qquad con \\qquad 0\\leq j \\leq n $$"
   ]
  },
  {
   "cell_type": "code",
   "execution_count": null,
   "metadata": {},
   "outputs": [],
   "source": [
    "#Puntos de Chebyshev\n",
    "function chebyshev_puntos(n)\n",
    "    xj = [cos((j*π)/n) for j in 0:n]\n",
    "    return xj\n",
    "end\n",
    "\n",
    "function interpola_cheb(f, n)\n",
    "    pC = chebyshev_puntos(n)\n",
    "    pares = zip(pC, f.(pC))\n",
    "    L = Interpola03(pares)\n",
    "    return L\n",
    "end"
   ]
  },
  {
   "cell_type": "code",
   "execution_count": null,
   "metadata": {},
   "outputs": [],
   "source": [
    "f(x) = 1/(1 + 25x^2)\n",
    "@manipulate for n = 1:40\n",
    "    x = chebyshev_puntos(n)\n",
    "    y = f.(x)\n",
    "    s = interpola_cheb(f, n)\n",
    "    scatter(x, f.(x), xlims=[-1,1], label=\"Datos\")\n",
    "    plot!(f, label=\"Analítica\")\n",
    "    plot!(s, label=\"Aproximación\")\n",
    "end"
   ]
  },
  {
   "cell_type": "markdown",
   "metadata": {},
   "source": [
    " ¿Qué diferencia notas al utilizar una partición regular de los puntos $\\{x_i\\}$ y los puntos de Chebyshev?\n",
    " \n",
    " Anota tu respuesta."
   ]
  },
  {
   "cell_type": "code",
   "execution_count": null,
   "metadata": {},
   "outputs": [],
   "source": []
  }
 ],
 "metadata": {
  "@webio": {
   "lastCommId": null,
   "lastKernelId": null
  },
  "kernelspec": {
   "display_name": "Julia 1.3.1",
   "language": "julia",
   "name": "julia-1.3"
  },
  "language_info": {
   "file_extension": ".jl",
   "mimetype": "application/julia",
   "name": "julia",
   "version": "1.3.1"
  }
 },
 "nbformat": 4,
 "nbformat_minor": 2
}
